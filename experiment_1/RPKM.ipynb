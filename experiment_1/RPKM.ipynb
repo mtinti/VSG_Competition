{
 "cells": [
  {
   "cell_type": "markdown",
   "metadata": {},
   "source": [
    "![title](static/wcar.png)"
   ]
  },
  {
   "cell_type": "markdown",
   "metadata": {},
   "source": [
    "# Victor VSGs in *Trypanosoma brucei*"
   ]
  },
  {
   "cell_type": "markdown",
   "metadata": {},
   "source": [
    "#analysis_VEX2_RNAi_1-soup.html"
   ]
  },
  {
   "cell_type": "markdown",
   "metadata": {},
   "source": [
    "## set up notebook"
   ]
  },
  {
   "cell_type": "code",
   "execution_count": 1,
   "metadata": {},
   "outputs": [],
   "source": [
    "#!rm genomes/tb927_6/*"
   ]
  },
  {
   "cell_type": "code",
   "execution_count": 1,
   "metadata": {},
   "outputs": [],
   "source": [
    "#reload when modified\n",
    "%load_ext autoreload\n",
    "%autoreload 2\n",
    "#activate r magic\n",
    "%load_ext rpy2.ipython\n",
    "%matplotlib inline"
   ]
  },
  {
   "cell_type": "code",
   "execution_count": 2,
   "metadata": {},
   "outputs": [],
   "source": [
    "import os\n",
    "import pandas as pd\n",
    "import numpy as np\n",
    "import matplotlib.pyplot as plt\n",
    "import seaborn as sns\n",
    "import utilities as UT\n",
    "import missingno as msno\n",
    "import random\n",
    "import matplotlib.pyplot as plt\n",
    "import matplotlib.patches as patches\n",
    "import gc\n",
    "from io import StringIO\n",
    "from itertools import islice\n",
    "from Bio import SeqIO\n",
    "\n",
    "random.seed(1976)\n",
    "np.random.seed(1976)"
   ]
  },
  {
   "cell_type": "code",
   "execution_count": 3,
   "metadata": {},
   "outputs": [
    {
     "data": {
      "text/plain": [
       "24"
      ]
     },
     "execution_count": 3,
     "metadata": {},
     "output_type": "execute_result"
    }
   ],
   "source": [
    "import multiprocessing\n",
    "multiprocessing.cpu_count()"
   ]
  },
  {
   "cell_type": "markdown",
   "metadata": {},
   "source": [
    "# Data Anaylsis"
   ]
  },
  {
   "cell_type": "code",
   "execution_count": 4,
   "metadata": {},
   "outputs": [
    {
     "data": {
      "text/html": [
       "<div>\n",
       "<style scoped>\n",
       "    .dataframe tbody tr th:only-of-type {\n",
       "        vertical-align: middle;\n",
       "    }\n",
       "\n",
       "    .dataframe tbody tr th {\n",
       "        vertical-align: top;\n",
       "    }\n",
       "\n",
       "    .dataframe thead th {\n",
       "        text-align: right;\n",
       "    }\n",
       "</style>\n",
       "<table border=\"1\" class=\"dataframe\">\n",
       "  <thead>\n",
       "    <tr style=\"text-align: right;\">\n",
       "      <th></th>\n",
       "      <th>Query</th>\n",
       "      <th>Hit type</th>\n",
       "      <th>PSSM-ID</th>\n",
       "      <th>From</th>\n",
       "      <th>To</th>\n",
       "      <th>E-Value</th>\n",
       "      <th>Bitscore</th>\n",
       "      <th>Accession</th>\n",
       "      <th>Short name</th>\n",
       "      <th>Incomplete</th>\n",
       "      <th>Superfamily</th>\n",
       "      <th>seq_id</th>\n",
       "      <th>gene_id</th>\n",
       "    </tr>\n",
       "  </thead>\n",
       "  <tbody>\n",
       "    <tr>\n",
       "      <th>2016</th>\n",
       "      <td>Q#2196 - &gt;seq_11195 Tb11.1690:pseudogenic_tran...</td>\n",
       "      <td>non-specific</td>\n",
       "      <td>395732</td>\n",
       "      <td>88</td>\n",
       "      <td>403</td>\n",
       "      <td>2.926680e-04</td>\n",
       "      <td>43.1506</td>\n",
       "      <td>pfam00913</td>\n",
       "      <td>Trypan_glycop</td>\n",
       "      <td>-</td>\n",
       "      <td>-</td>\n",
       "      <td>seq_11195</td>\n",
       "      <td>Tb11.1690</td>\n",
       "    </tr>\n",
       "    <tr>\n",
       "      <th>2017</th>\n",
       "      <td>Q#2196 - &gt;seq_11195 Tb11.1690:pseudogenic_tran...</td>\n",
       "      <td>superfamily</td>\n",
       "      <td>287612</td>\n",
       "      <td>475</td>\n",
       "      <td>514</td>\n",
       "      <td>8.069620e-03</td>\n",
       "      <td>36.2338</td>\n",
       "      <td>cl11264</td>\n",
       "      <td>Trypan_glycop_C superfamily</td>\n",
       "      <td>C</td>\n",
       "      <td>-</td>\n",
       "      <td>seq_11195</td>\n",
       "      <td>Tb11.1690</td>\n",
       "    </tr>\n",
       "    <tr>\n",
       "      <th>2018</th>\n",
       "      <td>Q#2197 - &gt;seq_11196 Tb11.1700:pseudogenic_tran...</td>\n",
       "      <td>non-specific</td>\n",
       "      <td>395732</td>\n",
       "      <td>216</td>\n",
       "      <td>516</td>\n",
       "      <td>9.775360e-07</td>\n",
       "      <td>50.8546</td>\n",
       "      <td>pfam00913</td>\n",
       "      <td>Trypan_glycop</td>\n",
       "      <td>-</td>\n",
       "      <td>-</td>\n",
       "      <td>seq_11196</td>\n",
       "      <td>Tb11.1700</td>\n",
       "    </tr>\n",
       "    <tr>\n",
       "      <th>2019</th>\n",
       "      <td>Q#2202 - &gt;seq_11201 Tb11.1800:pseudogenic_tran...</td>\n",
       "      <td>superfamily</td>\n",
       "      <td>302859</td>\n",
       "      <td>1</td>\n",
       "      <td>387</td>\n",
       "      <td>4.186380e-164</td>\n",
       "      <td>478.5540</td>\n",
       "      <td>cl19421</td>\n",
       "      <td>RHSP superfamily</td>\n",
       "      <td>C</td>\n",
       "      <td>-</td>\n",
       "      <td>seq_11201</td>\n",
       "      <td>Tb11.1800</td>\n",
       "    </tr>\n",
       "    <tr>\n",
       "      <th>2020</th>\n",
       "      <td>Q#2203 - &gt;seq_11202 Tb11.1810.1-p1 | transcrip...</td>\n",
       "      <td>superfamily</td>\n",
       "      <td>302859</td>\n",
       "      <td>1</td>\n",
       "      <td>222</td>\n",
       "      <td>7.326060e-103</td>\n",
       "      <td>315.2300</td>\n",
       "      <td>cl19421</td>\n",
       "      <td>RHSP superfamily</td>\n",
       "      <td>N</td>\n",
       "      <td>-</td>\n",
       "      <td>seq_11202</td>\n",
       "      <td>Tb11.1810</td>\n",
       "    </tr>\n",
       "  </tbody>\n",
       "</table>\n",
       "</div>"
      ],
      "text/plain": [
       "                                                  Query      Hit type  \\\n",
       "2016  Q#2196 - >seq_11195 Tb11.1690:pseudogenic_tran...  non-specific   \n",
       "2017  Q#2196 - >seq_11195 Tb11.1690:pseudogenic_tran...   superfamily   \n",
       "2018  Q#2197 - >seq_11196 Tb11.1700:pseudogenic_tran...  non-specific   \n",
       "2019  Q#2202 - >seq_11201 Tb11.1800:pseudogenic_tran...   superfamily   \n",
       "2020  Q#2203 - >seq_11202 Tb11.1810.1-p1 | transcrip...   superfamily   \n",
       "\n",
       "      PSSM-ID  From   To        E-Value  Bitscore  Accession  \\\n",
       "2016   395732    88  403   2.926680e-04   43.1506  pfam00913   \n",
       "2017   287612   475  514   8.069620e-03   36.2338    cl11264   \n",
       "2018   395732   216  516   9.775360e-07   50.8546  pfam00913   \n",
       "2019   302859     1  387  4.186380e-164  478.5540    cl19421   \n",
       "2020   302859     1  222  7.326060e-103  315.2300    cl19421   \n",
       "\n",
       "                       Short name Incomplete Superfamily     seq_id    gene_id  \n",
       "2016                Trypan_glycop         -           -   seq_11195  Tb11.1690  \n",
       "2017  Trypan_glycop_C superfamily          C          -   seq_11195  Tb11.1690  \n",
       "2018                Trypan_glycop         -           -   seq_11196  Tb11.1700  \n",
       "2019             RHSP superfamily          C          -   seq_11201  Tb11.1800  \n",
       "2020             RHSP superfamily          N          -   seq_11202  Tb11.1810  "
      ]
     },
     "execution_count": 4,
     "metadata": {},
     "output_type": "execute_result"
    }
   ],
   "source": [
    "#path = '/cluster/majf_lab/mtinti/Calvin/ESAG3_RNAi/F21FTSEUHT2083_TRYeqlrR/clean/InData/CD_Search/'\n",
    "\n",
    "def get_fasta_desc(fasta_desc):\n",
    "    res = {}\n",
    "    for n in fasta_desc.split(\" | \"):\n",
    "        if '=' in n:\n",
    "            key = n.split('=')[0].strip()\n",
    "            value = n.split('=')[1].strip()\n",
    "            res[key]=value\n",
    "    return res\n",
    "\n",
    "# from io import StringIO\n",
    "def read_csv(filename, comment='#', sep='\\t', ):\n",
    "    lines = \"\".join([line for line in open(filename) \n",
    "                     if not line.startswith(comment)])\n",
    "    return pd.read_csv(StringIO(lines), sep=sep)\n",
    "\n",
    "df_list = []\n",
    "for f in ['InData/CD_Search/927_{}_hitdata.txt'.format(n) for n in range(0,4)]:\n",
    "    temp = read_csv(f)\n",
    "    temp['seq_id'] = [n.split(' ')[2][1:] for n in temp['Query']]\n",
    "    temp['gene_id'] = [get_fasta_desc(n)['gene'] for n in temp['Query']]\n",
    "    df_list.append(temp)\n",
    "df_domains=pd.concat(df_list)\n",
    "df_domains.tail()\n",
    "\n"
   ]
  },
  {
   "cell_type": "code",
   "execution_count": null,
   "metadata": {},
   "outputs": [],
   "source": []
  },
  {
   "cell_type": "code",
   "execution_count": 5,
   "metadata": {},
   "outputs": [
    {
     "data": {
      "text/plain": [
       "'VSG_B; Trypan_glycop_C'"
      ]
     },
     "execution_count": 5,
     "metadata": {},
     "output_type": "execute_result"
    }
   ],
   "source": [
    "domain_dict = {}\n",
    "for temp_id in df_domains.gene_id.unique():\n",
    "    temp = df_domains[df_domains['gene_id']==temp_id]\n",
    "    domains = list(temp['Short name'].values) \n",
    "    domains = '; '.join(domains)\n",
    "    domain_dict[temp_id]=domains\n",
    "domain_dict[list(domain_dict.keys())[0]]"
   ]
  },
  {
   "cell_type": "code",
   "execution_count": 6,
   "metadata": {},
   "outputs": [],
   "source": [
    "#create a dictionary of gene to desc\n",
    "#from the gff file\n",
    "def make_desc(_GFF):\n",
    "    gff =pd.read_csv( _GFF, sep='\\t', header=None, comment='#')\n",
    "    #print(gff)\n",
    "    gff = gff[gff.iloc[:,2].str.contains('gene')]\n",
    "    #print( gff[gff[gff.columns[-1]].str.contains('Tb427_020006200')] )\n",
    "    #print(gff)\n",
    "    desc = {}\n",
    "    chr_dict = {}\n",
    "    start_dict = {}\n",
    "    sense_dict = {}\n",
    "    for index,n in enumerate(gff.iloc[:,-1]):\n",
    "        n=n.replace('%2C',' ')\n",
    "        item_list = n.split(';')\n",
    "        #print (item_list)\n",
    "        temp_dict = {}\n",
    "        for m in item_list:\n",
    "            #print(m)\n",
    "            temp_dict[m.split('=')[0].strip()]=m.split('=')[1].strip()\n",
    "        #print(temp_dict['ID'])\n",
    "        #print(temp_dict['description'])\n",
    "        desc[temp_dict['ID']]=temp_dict.get('description','none')\n",
    "        chr_dict[temp_dict['ID']]=gff.iloc[index][0]\n",
    "        start_dict[temp_dict['ID']]=gff.iloc[index][3]\n",
    "        sense_dict[temp_dict['ID']]=gff.iloc[index][6]\n",
    "        \n",
    "    return desc,chr_dict,start_dict,sense_dict\n",
    "\n",
    "desc_dict_gff, _, _,_ = make_desc('InData/TriTrypDB-55_TbruceiTREU927.gff')\n",
    "\n",
    "#(list(desc_dict.keys())[0],\n",
    "# desc_dict[list(desc_dict.keys())[0]],\n",
    "# chr_dict[list(desc_dict.keys())[0]],\n",
    "# start_dict[list(desc_dict.keys())[0]],\n",
    "#sense_dict[list(desc_dict.keys())[0]],\n",
    "#)\n",
    "#desc_dict_gff"
   ]
  },
  {
   "cell_type": "code",
   "execution_count": 7,
   "metadata": {},
   "outputs": [],
   "source": [
    "#!cp genomes/tb427/tb427.gff ."
   ]
  },
  {
   "cell_type": "code",
   "execution_count": 8,
   "metadata": {},
   "outputs": [
    {
     "data": {
      "text/plain": [
       "('gene_Tb427VSG-3039', 'gene_Tb427VSG-3039', 'Tb427VSG-3039', 1, '+')"
      ]
     },
     "execution_count": 8,
     "metadata": {},
     "output_type": "execute_result"
    }
   ],
   "source": [
    "#create a dictionary of gene to desc\n",
    "#from the gff file\n",
    "def make_desc(_GFF):\n",
    "    gff =pd.read_csv( _GFF, sep='\\t', header=None, comment='#')\n",
    "    \n",
    "    gff = gff[gff.iloc[:,2]=='exon']\n",
    "    \n",
    "    #print( gff[gff[gff.columns[-1]].str.contains('Tb427_020006200')] )\n",
    "    desc = {}\n",
    "    chr_dict = {}\n",
    "    start_dict = {}\n",
    "    sense_dict = {}\n",
    "    for index,n in enumerate(gff.iloc[:,-1]):\n",
    "        #print(n)\n",
    "        n=n.replace('%2C',' ')\n",
    "        item_list = n.split(';')\n",
    "        item_list = [n for n in item_list if len(n)>0]\n",
    "        temp_dict = {}\n",
    "        \n",
    "        for m in item_list:\n",
    "            \n",
    "            temp_dict[m.strip().split(' ')[0].strip().replace('\\\"','')\n",
    "                     ]=m.strip().split(' ')[1].strip().replace('\\\"','')\n",
    "        #print(temp_dict)\n",
    "        #print(temp_dict['description'])\n",
    "        desc[temp_dict['gene_id']]=temp_dict.get('description',temp_dict['gene_id'])\n",
    "        chr_dict[temp_dict['gene_id']]=gff.iloc[index][0]\n",
    "        start_dict[temp_dict['gene_id']]=gff.iloc[index][3]\n",
    "        sense_dict[temp_dict['gene_id']]=gff.iloc[index][6]\n",
    "        \n",
    "    return desc,chr_dict,start_dict,sense_dict\n",
    "\n",
    "desc_dict, chr_dict, start_dict,sense_dict = make_desc('genomes/tb927_56/tb927_56.gtf')\n",
    "(list(desc_dict.keys())[0],\n",
    " desc_dict[list(desc_dict.keys())[0]],\n",
    " chr_dict[list(desc_dict.keys())[0]],\n",
    " start_dict[list(desc_dict.keys())[0]],\n",
    "sense_dict[list(desc_dict.keys())[0]],\n",
    ")"
   ]
  },
  {
   "cell_type": "code",
   "execution_count": 9,
   "metadata": {},
   "outputs": [],
   "source": [
    "desc_dict.update(desc_dict_gff)"
   ]
  },
  {
   "cell_type": "code",
   "execution_count": 10,
   "metadata": {},
   "outputs": [
    {
     "data": {
      "text/plain": [
       "'gene-Tb427.BES40.1'"
      ]
     },
     "execution_count": 10,
     "metadata": {},
     "output_type": "execute_result"
    }
   ],
   "source": [
    "desc_dict['gene-Tb427.BES40.1']"
   ]
  },
  {
   "cell_type": "code",
   "execution_count": 11,
   "metadata": {},
   "outputs": [
    {
     "data": {
      "text/plain": [
       "'gene_Tb427VSG-3039'"
      ]
     },
     "execution_count": 11,
     "metadata": {},
     "output_type": "execute_result"
    }
   ],
   "source": [
    "desc_dict['gene_Tb427VSG-3039']"
   ]
  },
  {
   "cell_type": "code",
   "execution_count": 13,
   "metadata": {},
   "outputs": [
    {
     "ename": "KeyError",
     "evalue": "'gene_Tb427VSG-2'",
     "output_type": "error",
     "traceback": [
      "\u001b[0;31m---------------------------------------------------------------------------\u001b[0m",
      "\u001b[0;31mKeyError\u001b[0m                                  Traceback (most recent call last)",
      "\u001b[0;32m<ipython-input-13-adb5ea288bc1>\u001b[0m in \u001b[0;36m<module>\u001b[0;34m\u001b[0m\n\u001b[0;32m----> 1\u001b[0;31m \u001b[0mdesc_dict\u001b[0m\u001b[0;34m[\u001b[0m\u001b[0;34m'gene_Tb427VSG-2'\u001b[0m\u001b[0;34m]\u001b[0m\u001b[0;34m\u001b[0m\u001b[0;34m\u001b[0m\u001b[0m\n\u001b[0m",
      "\u001b[0;31mKeyError\u001b[0m: 'gene_Tb427VSG-2'"
     ]
    }
   ],
   "source": [
    "desc_dict['gene_Tb427VSG-2']"
   ]
  },
  {
   "cell_type": "code",
   "execution_count": 13,
   "metadata": {},
   "outputs": [
    {
     "data": {
      "text/plain": [
       "['A3-20',\n",
       " 'A3-12',\n",
       " 'A3-8',\n",
       " 'A3-4',\n",
       " 'A3-0',\n",
       " 'A2-20',\n",
       " 'A2-12',\n",
       " 'A2-8',\n",
       " 'A2-4',\n",
       " 'A2-0',\n",
       " 'A1-20',\n",
       " 'A1-12',\n",
       " 'A1-8',\n",
       " 'A1-4',\n",
       " 'A1-0']"
      ]
     },
     "execution_count": 13,
     "metadata": {},
     "output_type": "execute_result"
    }
   ],
   "source": [
    "replace_list = eval(open('vars_def_927_10').read())\n",
    "list_df = [n['experiment'] for n in replace_list]\n",
    "list_df"
   ]
  },
  {
   "cell_type": "code",
   "execution_count": 14,
   "metadata": {},
   "outputs": [
    {
     "data": {
      "text/html": [
       "<div>\n",
       "<style scoped>\n",
       "    .dataframe tbody tr th:only-of-type {\n",
       "        vertical-align: middle;\n",
       "    }\n",
       "\n",
       "    .dataframe tbody tr th {\n",
       "        vertical-align: top;\n",
       "    }\n",
       "\n",
       "    .dataframe thead th {\n",
       "        text-align: right;\n",
       "    }\n",
       "</style>\n",
       "<table border=\"1\" class=\"dataframe\">\n",
       "  <thead>\n",
       "    <tr style=\"text-align: right;\">\n",
       "      <th></th>\n",
       "      <th>Chr</th>\n",
       "      <th>Start</th>\n",
       "      <th>End</th>\n",
       "      <th>Strand</th>\n",
       "      <th>Length</th>\n",
       "      <th>/tmp/346509.1.all.q/A3-20/A3-20sorted.bam</th>\n",
       "      <th>/tmp/346510.1.all.q/A3-12/A3-12sorted.bam</th>\n",
       "      <th>/tmp/346511.1.all.q/A3-8/A3-8sorted.bam</th>\n",
       "      <th>/tmp/346512.1.all.q/A3-4/A3-4sorted.bam</th>\n",
       "      <th>/tmp/346513.1.all.q/A3-0/A3-0sorted.bam</th>\n",
       "      <th>/tmp/346514.1.all.q/A2-20/A2-20sorted.bam</th>\n",
       "      <th>/tmp/346515.1.all.q/A2-12/A2-12sorted.bam</th>\n",
       "      <th>/tmp/346516.1.all.q/A2-8/A2-8sorted.bam</th>\n",
       "      <th>/tmp/346517.1.all.q/A2-4/A2-4sorted.bam</th>\n",
       "      <th>/tmp/346518.1.all.q/A2-0/A2-0sorted.bam</th>\n",
       "      <th>/tmp/346519.1.all.q/A1-20/A1-20sorted.bam</th>\n",
       "      <th>/tmp/346520.1.all.q/A1-12/A1-12sorted.bam</th>\n",
       "      <th>/tmp/346521.1.all.q/A1-8/A1-8sorted.bam</th>\n",
       "      <th>/tmp/346522.1.all.q/A1-4/A1-4sorted.bam</th>\n",
       "      <th>/tmp/346523.1.all.q/A1-0/A1-0sorted.bam</th>\n",
       "    </tr>\n",
       "    <tr>\n",
       "      <th>Geneid</th>\n",
       "      <th></th>\n",
       "      <th></th>\n",
       "      <th></th>\n",
       "      <th></th>\n",
       "      <th></th>\n",
       "      <th></th>\n",
       "      <th></th>\n",
       "      <th></th>\n",
       "      <th></th>\n",
       "      <th></th>\n",
       "      <th></th>\n",
       "      <th></th>\n",
       "      <th></th>\n",
       "      <th></th>\n",
       "      <th></th>\n",
       "      <th></th>\n",
       "      <th></th>\n",
       "      <th></th>\n",
       "      <th></th>\n",
       "      <th></th>\n",
       "    </tr>\n",
       "  </thead>\n",
       "  <tbody>\n",
       "    <tr>\n",
       "      <th>gene_Tb427VSG-3039</th>\n",
       "      <td>Tb427VSG-3039</td>\n",
       "      <td>1</td>\n",
       "      <td>1199</td>\n",
       "      <td>+</td>\n",
       "      <td>1199</td>\n",
       "      <td>18579</td>\n",
       "      <td>16096</td>\n",
       "      <td>16721</td>\n",
       "      <td>13185</td>\n",
       "      <td>25491</td>\n",
       "      <td>14994</td>\n",
       "      <td>16674</td>\n",
       "      <td>14434</td>\n",
       "      <td>13219</td>\n",
       "      <td>25277</td>\n",
       "      <td>23086</td>\n",
       "      <td>19904</td>\n",
       "      <td>18296</td>\n",
       "      <td>12024</td>\n",
       "      <td>23301</td>\n",
       "    </tr>\n",
       "    <tr>\n",
       "      <th>gene_Tb427VSG-23</th>\n",
       "      <td>Tb427VSG-23</td>\n",
       "      <td>1</td>\n",
       "      <td>1199</td>\n",
       "      <td>+</td>\n",
       "      <td>1199</td>\n",
       "      <td>7185</td>\n",
       "      <td>2706</td>\n",
       "      <td>2101</td>\n",
       "      <td>1215</td>\n",
       "      <td>1950</td>\n",
       "      <td>3466</td>\n",
       "      <td>2471</td>\n",
       "      <td>1570</td>\n",
       "      <td>1038</td>\n",
       "      <td>2002</td>\n",
       "      <td>7349</td>\n",
       "      <td>3432</td>\n",
       "      <td>2241</td>\n",
       "      <td>1103</td>\n",
       "      <td>1819</td>\n",
       "    </tr>\n",
       "    <tr>\n",
       "      <th>gene_Tb427VSG-649</th>\n",
       "      <td>Tb427VSG-649</td>\n",
       "      <td>1</td>\n",
       "      <td>1199</td>\n",
       "      <td>+</td>\n",
       "      <td>1199</td>\n",
       "      <td>8183</td>\n",
       "      <td>5805</td>\n",
       "      <td>3786</td>\n",
       "      <td>3363</td>\n",
       "      <td>4683</td>\n",
       "      <td>8279</td>\n",
       "      <td>5223</td>\n",
       "      <td>3755</td>\n",
       "      <td>3494</td>\n",
       "      <td>4695</td>\n",
       "      <td>8115</td>\n",
       "      <td>5231</td>\n",
       "      <td>4414</td>\n",
       "      <td>3130</td>\n",
       "      <td>4265</td>\n",
       "    </tr>\n",
       "    <tr>\n",
       "      <th>gene_Tb427VSG-22</th>\n",
       "      <td>Tb427VSG-22</td>\n",
       "      <td>1</td>\n",
       "      <td>1199</td>\n",
       "      <td>+</td>\n",
       "      <td>1199</td>\n",
       "      <td>21150</td>\n",
       "      <td>11316</td>\n",
       "      <td>9735</td>\n",
       "      <td>6989</td>\n",
       "      <td>10194</td>\n",
       "      <td>15582</td>\n",
       "      <td>11925</td>\n",
       "      <td>8031</td>\n",
       "      <td>6391</td>\n",
       "      <td>10083</td>\n",
       "      <td>21707</td>\n",
       "      <td>15948</td>\n",
       "      <td>11674</td>\n",
       "      <td>7033</td>\n",
       "      <td>9143</td>\n",
       "    </tr>\n",
       "    <tr>\n",
       "      <th>gene_Tb427VSG-1117</th>\n",
       "      <td>Tb427VSG-1117</td>\n",
       "      <td>1</td>\n",
       "      <td>1199</td>\n",
       "      <td>+</td>\n",
       "      <td>1199</td>\n",
       "      <td>0</td>\n",
       "      <td>0</td>\n",
       "      <td>0</td>\n",
       "      <td>0</td>\n",
       "      <td>17</td>\n",
       "      <td>0</td>\n",
       "      <td>0</td>\n",
       "      <td>3</td>\n",
       "      <td>0</td>\n",
       "      <td>20</td>\n",
       "      <td>0</td>\n",
       "      <td>0</td>\n",
       "      <td>0</td>\n",
       "      <td>0</td>\n",
       "      <td>25</td>\n",
       "    </tr>\n",
       "  </tbody>\n",
       "</table>\n",
       "</div>"
      ],
      "text/plain": [
       "                              Chr  Start   End Strand  Length  \\\n",
       "Geneid                                                          \n",
       "gene_Tb427VSG-3039  Tb427VSG-3039      1  1199      +    1199   \n",
       "gene_Tb427VSG-23      Tb427VSG-23      1  1199      +    1199   \n",
       "gene_Tb427VSG-649    Tb427VSG-649      1  1199      +    1199   \n",
       "gene_Tb427VSG-22      Tb427VSG-22      1  1199      +    1199   \n",
       "gene_Tb427VSG-1117  Tb427VSG-1117      1  1199      +    1199   \n",
       "\n",
       "                    /tmp/346509.1.all.q/A3-20/A3-20sorted.bam  \\\n",
       "Geneid                                                          \n",
       "gene_Tb427VSG-3039                                      18579   \n",
       "gene_Tb427VSG-23                                         7185   \n",
       "gene_Tb427VSG-649                                        8183   \n",
       "gene_Tb427VSG-22                                        21150   \n",
       "gene_Tb427VSG-1117                                          0   \n",
       "\n",
       "                    /tmp/346510.1.all.q/A3-12/A3-12sorted.bam  \\\n",
       "Geneid                                                          \n",
       "gene_Tb427VSG-3039                                      16096   \n",
       "gene_Tb427VSG-23                                         2706   \n",
       "gene_Tb427VSG-649                                        5805   \n",
       "gene_Tb427VSG-22                                        11316   \n",
       "gene_Tb427VSG-1117                                          0   \n",
       "\n",
       "                    /tmp/346511.1.all.q/A3-8/A3-8sorted.bam  \\\n",
       "Geneid                                                        \n",
       "gene_Tb427VSG-3039                                    16721   \n",
       "gene_Tb427VSG-23                                       2101   \n",
       "gene_Tb427VSG-649                                      3786   \n",
       "gene_Tb427VSG-22                                       9735   \n",
       "gene_Tb427VSG-1117                                        0   \n",
       "\n",
       "                    /tmp/346512.1.all.q/A3-4/A3-4sorted.bam  \\\n",
       "Geneid                                                        \n",
       "gene_Tb427VSG-3039                                    13185   \n",
       "gene_Tb427VSG-23                                       1215   \n",
       "gene_Tb427VSG-649                                      3363   \n",
       "gene_Tb427VSG-22                                       6989   \n",
       "gene_Tb427VSG-1117                                        0   \n",
       "\n",
       "                    /tmp/346513.1.all.q/A3-0/A3-0sorted.bam  \\\n",
       "Geneid                                                        \n",
       "gene_Tb427VSG-3039                                    25491   \n",
       "gene_Tb427VSG-23                                       1950   \n",
       "gene_Tb427VSG-649                                      4683   \n",
       "gene_Tb427VSG-22                                      10194   \n",
       "gene_Tb427VSG-1117                                       17   \n",
       "\n",
       "                    /tmp/346514.1.all.q/A2-20/A2-20sorted.bam  \\\n",
       "Geneid                                                          \n",
       "gene_Tb427VSG-3039                                      14994   \n",
       "gene_Tb427VSG-23                                         3466   \n",
       "gene_Tb427VSG-649                                        8279   \n",
       "gene_Tb427VSG-22                                        15582   \n",
       "gene_Tb427VSG-1117                                          0   \n",
       "\n",
       "                    /tmp/346515.1.all.q/A2-12/A2-12sorted.bam  \\\n",
       "Geneid                                                          \n",
       "gene_Tb427VSG-3039                                      16674   \n",
       "gene_Tb427VSG-23                                         2471   \n",
       "gene_Tb427VSG-649                                        5223   \n",
       "gene_Tb427VSG-22                                        11925   \n",
       "gene_Tb427VSG-1117                                          0   \n",
       "\n",
       "                    /tmp/346516.1.all.q/A2-8/A2-8sorted.bam  \\\n",
       "Geneid                                                        \n",
       "gene_Tb427VSG-3039                                    14434   \n",
       "gene_Tb427VSG-23                                       1570   \n",
       "gene_Tb427VSG-649                                      3755   \n",
       "gene_Tb427VSG-22                                       8031   \n",
       "gene_Tb427VSG-1117                                        3   \n",
       "\n",
       "                    /tmp/346517.1.all.q/A2-4/A2-4sorted.bam  \\\n",
       "Geneid                                                        \n",
       "gene_Tb427VSG-3039                                    13219   \n",
       "gene_Tb427VSG-23                                       1038   \n",
       "gene_Tb427VSG-649                                      3494   \n",
       "gene_Tb427VSG-22                                       6391   \n",
       "gene_Tb427VSG-1117                                        0   \n",
       "\n",
       "                    /tmp/346518.1.all.q/A2-0/A2-0sorted.bam  \\\n",
       "Geneid                                                        \n",
       "gene_Tb427VSG-3039                                    25277   \n",
       "gene_Tb427VSG-23                                       2002   \n",
       "gene_Tb427VSG-649                                      4695   \n",
       "gene_Tb427VSG-22                                      10083   \n",
       "gene_Tb427VSG-1117                                       20   \n",
       "\n",
       "                    /tmp/346519.1.all.q/A1-20/A1-20sorted.bam  \\\n",
       "Geneid                                                          \n",
       "gene_Tb427VSG-3039                                      23086   \n",
       "gene_Tb427VSG-23                                         7349   \n",
       "gene_Tb427VSG-649                                        8115   \n",
       "gene_Tb427VSG-22                                        21707   \n",
       "gene_Tb427VSG-1117                                          0   \n",
       "\n",
       "                    /tmp/346520.1.all.q/A1-12/A1-12sorted.bam  \\\n",
       "Geneid                                                          \n",
       "gene_Tb427VSG-3039                                      19904   \n",
       "gene_Tb427VSG-23                                         3432   \n",
       "gene_Tb427VSG-649                                        5231   \n",
       "gene_Tb427VSG-22                                        15948   \n",
       "gene_Tb427VSG-1117                                          0   \n",
       "\n",
       "                    /tmp/346521.1.all.q/A1-8/A1-8sorted.bam  \\\n",
       "Geneid                                                        \n",
       "gene_Tb427VSG-3039                                    18296   \n",
       "gene_Tb427VSG-23                                       2241   \n",
       "gene_Tb427VSG-649                                      4414   \n",
       "gene_Tb427VSG-22                                      11674   \n",
       "gene_Tb427VSG-1117                                        0   \n",
       "\n",
       "                    /tmp/346522.1.all.q/A1-4/A1-4sorted.bam  \\\n",
       "Geneid                                                        \n",
       "gene_Tb427VSG-3039                                    12024   \n",
       "gene_Tb427VSG-23                                       1103   \n",
       "gene_Tb427VSG-649                                      3130   \n",
       "gene_Tb427VSG-22                                       7033   \n",
       "gene_Tb427VSG-1117                                        0   \n",
       "\n",
       "                    /tmp/346523.1.all.q/A1-0/A1-0sorted.bam  \n",
       "Geneid                                                       \n",
       "gene_Tb427VSG-3039                                    23301  \n",
       "gene_Tb427VSG-23                                       1819  \n",
       "gene_Tb427VSG-649                                      4265  \n",
       "gene_Tb427VSG-22                                       9143  \n",
       "gene_Tb427VSG-1117                                       25  "
      ]
     },
     "execution_count": 14,
     "metadata": {},
     "output_type": "execute_result"
    }
   ],
   "source": [
    "#read all the rna-seq reads counts for each sampe\n",
    "#exp = '{life_stage}{replica}'\n",
    "#list_df = [exp.format(\n",
    "#    life_stage=life_stage,\n",
    "#    replica=replica) \n",
    "# for life_stage in ['C','T']\n",
    "# for replica in ['1','2','3']]\n",
    "\n",
    "#aggregate counts in one dataframe\n",
    "list_df = [n+'/res3_927/'+n+'/counts.txt' for n in list_df]\n",
    "list_df =[pd.read_csv(n,index_col=[0],comment='#',sep='\\t') for n in list_df]\n",
    "df = list_df[0].copy()\n",
    "for temp_df in list_df[1:]:\n",
    "    df = df.join(temp_df.iloc[:,-1])\n",
    "df.head()\n",
    "#temp_df = pd.read_csv('BSF/tb927_3_ks_counts_final.txt',index_col=[0],comment='#',sep='\\t')"
   ]
  },
  {
   "cell_type": "code",
   "execution_count": 15,
   "metadata": {},
   "outputs": [
    {
     "data": {
      "text/plain": [
       "Index(['/tmp/346509.1.all.q/A3-20/A3-20sorted.bam',\n",
       "       '/tmp/346510.1.all.q/A3-12/A3-12sorted.bam',\n",
       "       '/tmp/346511.1.all.q/A3-8/A3-8sorted.bam',\n",
       "       '/tmp/346512.1.all.q/A3-4/A3-4sorted.bam',\n",
       "       '/tmp/346513.1.all.q/A3-0/A3-0sorted.bam',\n",
       "       '/tmp/346514.1.all.q/A2-20/A2-20sorted.bam',\n",
       "       '/tmp/346515.1.all.q/A2-12/A2-12sorted.bam',\n",
       "       '/tmp/346516.1.all.q/A2-8/A2-8sorted.bam',\n",
       "       '/tmp/346517.1.all.q/A2-4/A2-4sorted.bam',\n",
       "       '/tmp/346518.1.all.q/A2-0/A2-0sorted.bam',\n",
       "       '/tmp/346519.1.all.q/A1-20/A1-20sorted.bam',\n",
       "       '/tmp/346520.1.all.q/A1-12/A1-12sorted.bam',\n",
       "       '/tmp/346521.1.all.q/A1-8/A1-8sorted.bam',\n",
       "       '/tmp/346522.1.all.q/A1-4/A1-4sorted.bam',\n",
       "       '/tmp/346523.1.all.q/A1-0/A1-0sorted.bam'],\n",
       "      dtype='object')"
      ]
     },
     "execution_count": 15,
     "metadata": {},
     "output_type": "execute_result"
    }
   ],
   "source": [
    "data_col = df.columns[5:]\n",
    "data_col"
   ]
  },
  {
   "cell_type": "code",
   "execution_count": 16,
   "metadata": {},
   "outputs": [
    {
     "data": {
      "text/html": [
       "<div>\n",
       "<style scoped>\n",
       "    .dataframe tbody tr th:only-of-type {\n",
       "        vertical-align: middle;\n",
       "    }\n",
       "\n",
       "    .dataframe tbody tr th {\n",
       "        vertical-align: top;\n",
       "    }\n",
       "\n",
       "    .dataframe thead th {\n",
       "        text-align: right;\n",
       "    }\n",
       "</style>\n",
       "<table border=\"1\" class=\"dataframe\">\n",
       "  <thead>\n",
       "    <tr style=\"text-align: right;\">\n",
       "      <th></th>\n",
       "      <th>A3-20</th>\n",
       "      <th>A3-12</th>\n",
       "      <th>A3-8</th>\n",
       "      <th>A3-4</th>\n",
       "      <th>A3-0</th>\n",
       "      <th>A2-20</th>\n",
       "      <th>A2-12</th>\n",
       "      <th>A2-8</th>\n",
       "      <th>A2-4</th>\n",
       "      <th>A2-0</th>\n",
       "      <th>A1-20</th>\n",
       "      <th>A1-12</th>\n",
       "      <th>A1-8</th>\n",
       "      <th>A1-4</th>\n",
       "      <th>A1-0</th>\n",
       "    </tr>\n",
       "    <tr>\n",
       "      <th>Geneid</th>\n",
       "      <th></th>\n",
       "      <th></th>\n",
       "      <th></th>\n",
       "      <th></th>\n",
       "      <th></th>\n",
       "      <th></th>\n",
       "      <th></th>\n",
       "      <th></th>\n",
       "      <th></th>\n",
       "      <th></th>\n",
       "      <th></th>\n",
       "      <th></th>\n",
       "      <th></th>\n",
       "      <th></th>\n",
       "      <th></th>\n",
       "    </tr>\n",
       "  </thead>\n",
       "  <tbody>\n",
       "    <tr>\n",
       "      <th>gene_Tb427VSG-3039</th>\n",
       "      <td>18579</td>\n",
       "      <td>16096</td>\n",
       "      <td>16721</td>\n",
       "      <td>13185</td>\n",
       "      <td>25491</td>\n",
       "      <td>14994</td>\n",
       "      <td>16674</td>\n",
       "      <td>14434</td>\n",
       "      <td>13219</td>\n",
       "      <td>25277</td>\n",
       "      <td>23086</td>\n",
       "      <td>19904</td>\n",
       "      <td>18296</td>\n",
       "      <td>12024</td>\n",
       "      <td>23301</td>\n",
       "    </tr>\n",
       "    <tr>\n",
       "      <th>gene_Tb427VSG-23</th>\n",
       "      <td>7185</td>\n",
       "      <td>2706</td>\n",
       "      <td>2101</td>\n",
       "      <td>1215</td>\n",
       "      <td>1950</td>\n",
       "      <td>3466</td>\n",
       "      <td>2471</td>\n",
       "      <td>1570</td>\n",
       "      <td>1038</td>\n",
       "      <td>2002</td>\n",
       "      <td>7349</td>\n",
       "      <td>3432</td>\n",
       "      <td>2241</td>\n",
       "      <td>1103</td>\n",
       "      <td>1819</td>\n",
       "    </tr>\n",
       "    <tr>\n",
       "      <th>gene_Tb427VSG-649</th>\n",
       "      <td>8183</td>\n",
       "      <td>5805</td>\n",
       "      <td>3786</td>\n",
       "      <td>3363</td>\n",
       "      <td>4683</td>\n",
       "      <td>8279</td>\n",
       "      <td>5223</td>\n",
       "      <td>3755</td>\n",
       "      <td>3494</td>\n",
       "      <td>4695</td>\n",
       "      <td>8115</td>\n",
       "      <td>5231</td>\n",
       "      <td>4414</td>\n",
       "      <td>3130</td>\n",
       "      <td>4265</td>\n",
       "    </tr>\n",
       "    <tr>\n",
       "      <th>gene_Tb427VSG-22</th>\n",
       "      <td>21150</td>\n",
       "      <td>11316</td>\n",
       "      <td>9735</td>\n",
       "      <td>6989</td>\n",
       "      <td>10194</td>\n",
       "      <td>15582</td>\n",
       "      <td>11925</td>\n",
       "      <td>8031</td>\n",
       "      <td>6391</td>\n",
       "      <td>10083</td>\n",
       "      <td>21707</td>\n",
       "      <td>15948</td>\n",
       "      <td>11674</td>\n",
       "      <td>7033</td>\n",
       "      <td>9143</td>\n",
       "    </tr>\n",
       "    <tr>\n",
       "      <th>gene_Tb427VSG-1117</th>\n",
       "      <td>0</td>\n",
       "      <td>0</td>\n",
       "      <td>0</td>\n",
       "      <td>0</td>\n",
       "      <td>17</td>\n",
       "      <td>0</td>\n",
       "      <td>0</td>\n",
       "      <td>3</td>\n",
       "      <td>0</td>\n",
       "      <td>20</td>\n",
       "      <td>0</td>\n",
       "      <td>0</td>\n",
       "      <td>0</td>\n",
       "      <td>0</td>\n",
       "      <td>25</td>\n",
       "    </tr>\n",
       "  </tbody>\n",
       "</table>\n",
       "</div>"
      ],
      "text/plain": [
       "                    A3-20  A3-12   A3-8   A3-4   A3-0  A2-20  A2-12   A2-8  \\\n",
       "Geneid                                                                       \n",
       "gene_Tb427VSG-3039  18579  16096  16721  13185  25491  14994  16674  14434   \n",
       "gene_Tb427VSG-23     7185   2706   2101   1215   1950   3466   2471   1570   \n",
       "gene_Tb427VSG-649    8183   5805   3786   3363   4683   8279   5223   3755   \n",
       "gene_Tb427VSG-22    21150  11316   9735   6989  10194  15582  11925   8031   \n",
       "gene_Tb427VSG-1117      0      0      0      0     17      0      0      3   \n",
       "\n",
       "                     A2-4   A2-0  A1-20  A1-12   A1-8   A1-4   A1-0  \n",
       "Geneid                                                               \n",
       "gene_Tb427VSG-3039  13219  25277  23086  19904  18296  12024  23301  \n",
       "gene_Tb427VSG-23     1038   2002   7349   3432   2241   1103   1819  \n",
       "gene_Tb427VSG-649    3494   4695   8115   5231   4414   3130   4265  \n",
       "gene_Tb427VSG-22     6391  10083  21707  15948  11674   7033   9143  \n",
       "gene_Tb427VSG-1117      0     20      0      0      0      0     25  "
      ]
     },
     "execution_count": 16,
     "metadata": {},
     "output_type": "execute_result"
    }
   ],
   "source": [
    "#rename columns for convenience\n",
    "indata = df[data_col]\n",
    "indata.columns = [n.split('/')[3] for  n in indata.columns]\n",
    "indata.head()"
   ]
  },
  {
   "cell_type": "code",
   "execution_count": 17,
   "metadata": {},
   "outputs": [
    {
     "data": {
      "text/plain": [
       "Index(['/tmp/346509.1.all.q/A3-20/A3-20sorted.bam',\n",
       "       '/tmp/346510.1.all.q/A3-12/A3-12sorted.bam',\n",
       "       '/tmp/346511.1.all.q/A3-8/A3-8sorted.bam',\n",
       "       '/tmp/346512.1.all.q/A3-4/A3-4sorted.bam',\n",
       "       '/tmp/346513.1.all.q/A3-0/A3-0sorted.bam',\n",
       "       '/tmp/346514.1.all.q/A2-20/A2-20sorted.bam',\n",
       "       '/tmp/346515.1.all.q/A2-12/A2-12sorted.bam',\n",
       "       '/tmp/346516.1.all.q/A2-8/A2-8sorted.bam',\n",
       "       '/tmp/346517.1.all.q/A2-4/A2-4sorted.bam',\n",
       "       '/tmp/346518.1.all.q/A2-0/A2-0sorted.bam',\n",
       "       '/tmp/346519.1.all.q/A1-20/A1-20sorted.bam',\n",
       "       '/tmp/346520.1.all.q/A1-12/A1-12sorted.bam',\n",
       "       '/tmp/346521.1.all.q/A1-8/A1-8sorted.bam',\n",
       "       '/tmp/346522.1.all.q/A1-4/A1-4sorted.bam',\n",
       "       '/tmp/346523.1.all.q/A1-0/A1-0sorted.bam'],\n",
       "      dtype='object')"
      ]
     },
     "execution_count": 17,
     "metadata": {},
     "output_type": "execute_result"
    }
   ],
   "source": [
    "data_col = df.columns[5:]\n",
    "data_col"
   ]
  },
  {
   "cell_type": "code",
   "execution_count": null,
   "metadata": {},
   "outputs": [],
   "source": []
  },
  {
   "cell_type": "code",
   "execution_count": 18,
   "metadata": {},
   "outputs": [
    {
     "name": "stdout",
     "output_type": "stream",
     "text": [
      "(42, 15)\n",
      "(42, 15)\n"
     ]
    }
   ],
   "source": [
    "print(indata.shape)\n",
    "indata=indata.dropna()\n",
    "print(indata.shape)\n",
    "#indata.loc['KS17gene_1749a']\n",
    "#indata['desc']=[desc_dict.get(n,'none') for n in indata.index.values]\n",
    "#indata.to_csv('indata.csv')\n",
    "#indata.head()\n",
    "#indata.loc['mainVSG-427-2']\n",
    "\n",
    "#indata = indata.replace(1,np.nan).dropna(axis=1, how='all')\n",
    "#print(indata.shape)\n",
    "#indata.describe()"
   ]
  },
  {
   "cell_type": "code",
   "execution_count": 19,
   "metadata": {},
   "outputs": [
    {
     "data": {
      "text/plain": [
       "A3-20    286170\n",
       "A3-12     61623\n",
       "A3-8      34082\n",
       "A3-4      16616\n",
       "A3-0      21304\n",
       "A2-20    213602\n",
       "A2-12     61874\n",
       "A2-8      27217\n",
       "A2-4      17032\n",
       "A2-0      21727\n",
       "A1-20    262985\n",
       "A1-12     70447\n",
       "A1-8      36810\n",
       "A1-4      15192\n",
       "A1-0      19727\n",
       "Name: gene_Tb427VSG-1, dtype: int64"
      ]
     },
     "execution_count": 19,
     "metadata": {},
     "output_type": "execute_result"
    }
   ],
   "source": [
    "indata.loc['gene_Tb427VSG-1']"
   ]
  },
  {
   "cell_type": "code",
   "execution_count": 20,
   "metadata": {},
   "outputs": [],
   "source": [
    "indata.to_csv('counts_before.csv')"
   ]
  },
  {
   "cell_type": "markdown",
   "metadata": {},
   "source": [
    "## QC - Missing Data Viz"
   ]
  },
  {
   "cell_type": "code",
   "execution_count": 19,
   "metadata": {},
   "outputs": [
    {
     "data": {
      "text/plain": [
       "<matplotlib.axes._subplots.AxesSubplot at 0x2b4307727080>"
      ]
     },
     "execution_count": 19,
     "metadata": {},
     "output_type": "execute_result"
    },
    {
     "data": {
      "image/png": "[encoded data removed]",
      "text/plain": [
       "<Figure size 432x288 with 2 Axes>"
      ]
     },
     "metadata": {},
     "output_type": "display_data"
    }
   ],
   "source": [
    "msno.matrix(indata.replace(0,np.nan).dropna(how='all'),figsize=(6, 4))"
   ]
  },
  {
   "cell_type": "code",
   "execution_count": 20,
   "metadata": {},
   "outputs": [
    {
     "data": {
      "text/plain": [
       "<matplotlib.axes._subplots.AxesSubplot at 0x2b4307810198>"
      ]
     },
     "execution_count": 20,
     "metadata": {},
     "output_type": "execute_result"
    },
    {
     "data": {
      "image/png": "[encoded data removed]",
      "text/plain": [
       "<Figure size 432x288 with 3 Axes>"
      ]
     },
     "metadata": {},
     "output_type": "display_data"
    }
   ],
   "source": [
    "msno.bar(indata.replace(0,np.nan).dropna(how='all'),figsize=(6, 4))"
   ]
  },
  {
   "cell_type": "markdown",
   "metadata": {},
   "source": [
    "## QC - Corr analysis"
   ]
  },
  {
   "cell_type": "code",
   "execution_count": 21,
   "metadata": {},
   "outputs": [],
   "source": [
    "!mkdir -p Figures_927"
   ]
  },
  {
   "cell_type": "code",
   "execution_count": 22,
   "metadata": {},
   "outputs": [
    {
     "name": "stdout",
     "output_type": "stream",
     "text": [
      "(14.5, 0.5)\n"
     ]
    },
    {
     "data": {
      "image/png": "[encoded data removed]",
      "text/plain": [
       "<Figure size 432x432 with 2 Axes>"
      ]
     },
     "metadata": {},
     "output_type": "display_data"
    }
   ],
   "source": [
    "fig,ax=plt.subplots(figsize=(6,6))\n",
    "cbar_ax = fig.add_axes([.91, .6, .03, .2])\n",
    "sns.heatmap(np.log2(indata).corr(),\n",
    "            #vmin=-1,\n",
    "            cmap='coolwarm',\n",
    "            annot=True,linewidths=.5,ax=ax, cbar_ax = cbar_ax, cbar=True)\n",
    "print(ax.get_ylim())\n",
    "ax.set_ylim(12,0)\n",
    "#plt.savefig('Figures_927/Figure_2.png')\n",
    "plt.show()"
   ]
  },
  {
   "cell_type": "markdown",
   "metadata": {},
   "source": [
    "## QC - MSD"
   ]
  },
  {
   "cell_type": "code",
   "execution_count": 23,
   "metadata": {},
   "outputs": [],
   "source": [
    "#plt.style.use('ggplot')\n",
    "#palette = ['r']*5+['b']*5+['y']*5\n",
    "#fig,ax = plt.subplots(figsize=(8,8), ncols=1, nrows=1)\n",
    "#UT.make_mds(np.log2(indata),palette,ax,color_dictionary={'r':'1','b':'2','y':'3',\n",
    "#                                                        })\n",
    "#plt.savefig('Figures_927/Figure_3.png')\n",
    "#plt.show()"
   ]
  },
  {
   "cell_type": "markdown",
   "metadata": {},
   "source": [
    "## Compute Length and GC content\n",
    "this information is used to check for length and GC bias"
   ]
  },
  {
   "cell_type": "code",
   "execution_count": 24,
   "metadata": {},
   "outputs": [],
   "source": [
    "#!mkdir -p InData"
   ]
  },
  {
   "cell_type": "code",
   "execution_count": 25,
   "metadata": {},
   "outputs": [],
   "source": [
    "#!cp genomes/tb927_56/tb927_56.gtf .\n",
    "#!cp genomes/tb927_55/tb927_55.fa .\n",
    "#!cp genomes/tb927_55/tb927_55.fa.fai .\n",
    "\n",
    "#!gtf2bed < tb927_55.gtf > tb927_55.bed\n",
    "#!bedtools nuc -fi tb927_55.fa -bed tb927_55.bed >InData/GC_content_927.txt"
   ]
  },
  {
   "cell_type": "code",
   "execution_count": 26,
   "metadata": {},
   "outputs": [],
   "source": [
    "#!bowtie2-build genomes/tb927_5/tb927_5.fa genomes/tb927_5/tb927_5"
   ]
  },
  {
   "cell_type": "code",
   "execution_count": 27,
   "metadata": {},
   "outputs": [],
   "source": [
    "def get_gene_ids(n):\n",
    "    res = {}\n",
    "    temp = n.split(';')\n",
    "    temp =[n.strip() for n in temp if len(n)>2]\n",
    "    temp = temp[:2]\n",
    "    #print(temp)\n",
    "    for f in temp:\n",
    "        key = f.split(' ')[0]\n",
    "        value = f.split(' ')[1]\n",
    "        key=key.replace('\\\"','').replace('\\'','').strip()\n",
    "        value=value.replace('\\\"','').replace('\\'','').strip()\n",
    "        res[key]=value\n",
    "    return res['gene_id']"
   ]
  },
  {
   "cell_type": "code",
   "execution_count": 33,
   "metadata": {},
   "outputs": [
    {
     "data": {
      "text/plain": [
       "length       1893.000000\n",
       "gccontent       0.436873\n",
       "Name: gene-Tb427.BES40.14, dtype: float64"
      ]
     },
     "execution_count": 33,
     "metadata": {},
     "output_type": "execute_result"
    }
   ],
   "source": [
    "gc_content = pd.read_csv('InData/GC_content_927.txt',sep='\\t')\n",
    "gc_content = gc_content[gc_content['8_usercol']=='CDS']\n",
    "#print(gc_content)\n",
    "gc_content['gene_id'] = [get_gene_ids(n) for n in gc_content['10_usercol']]\n",
    "gc_content = gc_content.drop_duplicates('gene_id')\n",
    "gc_content.set_index('gene_id',inplace=True)\n",
    "gc_content=gc_content[['19_seq_len','12_pct_gc']]\n",
    "gc_content.columns = ['length', 'gccontent']\n",
    "gc_content.loc['gene-Tb427.BES40.14']"
   ]
  },
  {
   "cell_type": "code",
   "execution_count": 34,
   "metadata": {},
   "outputs": [
    {
     "data": {
      "text/html": [
       "<div>\n",
       "<style scoped>\n",
       "    .dataframe tbody tr th:only-of-type {\n",
       "        vertical-align: middle;\n",
       "    }\n",
       "\n",
       "    .dataframe tbody tr th {\n",
       "        vertical-align: top;\n",
       "    }\n",
       "\n",
       "    .dataframe thead th {\n",
       "        text-align: right;\n",
       "    }\n",
       "</style>\n",
       "<table border=\"1\" class=\"dataframe\">\n",
       "  <thead>\n",
       "    <tr style=\"text-align: right;\">\n",
       "      <th></th>\n",
       "      <th>length</th>\n",
       "      <th>gccontent</th>\n",
       "    </tr>\n",
       "    <tr>\n",
       "      <th>gene_id</th>\n",
       "      <th></th>\n",
       "      <th></th>\n",
       "    </tr>\n",
       "  </thead>\n",
       "  <tbody>\n",
       "    <tr>\n",
       "      <th>Tb07.11L3.90</th>\n",
       "      <td>1131</td>\n",
       "      <td>0.510168</td>\n",
       "    </tr>\n",
       "    <tr>\n",
       "      <th>Tb07.11L3.100</th>\n",
       "      <td>3795</td>\n",
       "      <td>0.500132</td>\n",
       "    </tr>\n",
       "    <tr>\n",
       "      <th>Tb05.5K5.10</th>\n",
       "      <td>72</td>\n",
       "      <td>0.402778</td>\n",
       "    </tr>\n",
       "    <tr>\n",
       "      <th>Tb05.5K5.20</th>\n",
       "      <td>1278</td>\n",
       "      <td>0.461659</td>\n",
       "    </tr>\n",
       "    <tr>\n",
       "      <th>Tb05.5K5.30</th>\n",
       "      <td>1911</td>\n",
       "      <td>0.480900</td>\n",
       "    </tr>\n",
       "  </tbody>\n",
       "</table>\n",
       "</div>"
      ],
      "text/plain": [
       "               length  gccontent\n",
       "gene_id                         \n",
       "Tb07.11L3.90     1131   0.510168\n",
       "Tb07.11L3.100    3795   0.500132\n",
       "Tb05.5K5.10        72   0.402778\n",
       "Tb05.5K5.20      1278   0.461659\n",
       "Tb05.5K5.30      1911   0.480900"
      ]
     },
     "execution_count": 34,
     "metadata": {},
     "output_type": "execute_result"
    }
   ],
   "source": [
    "gc_content.head()"
   ]
  },
  {
   "cell_type": "code",
   "execution_count": 35,
   "metadata": {},
   "outputs": [],
   "source": [
    "metadata=pd.DataFrame()\n",
    "metadata['samples']=indata.columns\n",
    "metadata['treatment']=indata.columns\n",
    "metadata['batch']=1\n",
    "metadata.reset_index().to_csv('metadata.csv')"
   ]
  },
  {
   "cell_type": "code",
   "execution_count": 36,
   "metadata": {},
   "outputs": [
    {
     "name": "stdout",
     "output_type": "stream",
     "text": [
      "(42, 15)\n"
     ]
    },
    {
     "data": {
      "text/plain": [
       "(42, 15)"
      ]
     },
     "execution_count": 36,
     "metadata": {},
     "output_type": "execute_result"
    }
   ],
   "source": [
    "print(indata.shape)\n",
    "indata=indata.join(gc_content,how='inner')\n",
    "gc_content = gc_content[['length', 'gccontent']]\n",
    "indata.drop(['length', 'gccontent'],axis=1,inplace=True) \n",
    "indata.shape"
   ]
  },
  {
   "cell_type": "code",
   "execution_count": 37,
   "metadata": {},
   "outputs": [
    {
     "data": {
      "text/plain": [
       "<matplotlib.axes._subplots.AxesSubplot at 0x2b4307a41f28>"
      ]
     },
     "execution_count": 37,
     "metadata": {},
     "output_type": "execute_result"
    },
    {
     "data": {
      "image/png": "[encoded data removed]",
      "text/plain": [
       "<Figure size 432x288 with 1 Axes>"
      ]
     },
     "metadata": {},
     "output_type": "display_data"
    },
    {
     "data": {
      "image/png": "[encoded data removed]",
      "text/plain": [
       "<Figure size 432x288 with 1 Axes>"
      ]
     },
     "metadata": {},
     "output_type": "display_data"
    }
   ],
   "source": [
    "test = indata.join(gc_content)\n",
    "test['log_length']=np.log10(test['length'])\n",
    "test['log_length'].plot(kind='box')\n",
    "test['log_A3-4']=np.log10(test['A3-4'])\n",
    "test.plot(x='log_A3-4',y='log_length', kind='scatter')"
   ]
  },
  {
   "cell_type": "markdown",
   "metadata": {},
   "source": [
    "### edgeR to filter low counts"
   ]
  },
  {
   "cell_type": "code",
   "execution_count": 33,
   "metadata": {},
   "outputs": [],
   "source": [
    "#%%R -i indata\n",
    "#options(warn=-1)\n",
    "#library(\"limma\") \n",
    "#library(\"edgeR\")\n",
    "#head(indata)"
   ]
  },
  {
   "cell_type": "code",
   "execution_count": 34,
   "metadata": {},
   "outputs": [],
   "source": [
    "#%%R\n",
    "#group <- factor(c(\n",
    "#    'A20','A12','A8','A4','A2','A20','A12','A8','A4','A2','A20','A12','A8','A4','A2'\n",
    "#))\n",
    "\n",
    "#y <- DGEList(counts=indata,group=group)\n",
    "#keep <- filterByExpr(y,min.count = 10, min.total.count = 80)\n",
    "#y <- y[keep,,keep.lib.sizes=FALSE]\n",
    "#counts = y$counts\n",
    "#genes = row.names(y)"
   ]
  },
  {
   "cell_type": "code",
   "execution_count": 38,
   "metadata": {},
   "outputs": [
    {
     "data": {
      "text/plain": [
       "(42, 15)"
      ]
     },
     "execution_count": 38,
     "metadata": {},
     "output_type": "execute_result"
    }
   ],
   "source": [
    "#%R -o counts,genes\n",
    "#indata = pd.DataFrame(counts,index=genes,columns=indata.columns)\n",
    "indata.shape"
   ]
  },
  {
   "cell_type": "code",
   "execution_count": null,
   "metadata": {},
   "outputs": [],
   "source": []
  },
  {
   "cell_type": "code",
   "execution_count": 39,
   "metadata": {},
   "outputs": [
    {
     "data": {
      "text/plain": [
       "(42, 17)"
      ]
     },
     "execution_count": 39,
     "metadata": {},
     "output_type": "execute_result"
    }
   ],
   "source": [
    "indata=indata.join(gc_content,how='inner')\n",
    "indata.shape"
   ]
  },
  {
   "cell_type": "markdown",
   "metadata": {},
   "source": [
    "### GC / length content"
   ]
  },
  {
   "cell_type": "code",
   "execution_count": 40,
   "metadata": {},
   "outputs": [
    {
     "name": "stdout",
     "output_type": "stream",
     "text": [
      "(42, 15) (42, 2)\n"
     ]
    },
    {
     "data": {
      "text/html": [
       "<div>\n",
       "<style scoped>\n",
       "    .dataframe tbody tr th:only-of-type {\n",
       "        vertical-align: middle;\n",
       "    }\n",
       "\n",
       "    .dataframe tbody tr th {\n",
       "        vertical-align: top;\n",
       "    }\n",
       "\n",
       "    .dataframe thead th {\n",
       "        text-align: right;\n",
       "    }\n",
       "</style>\n",
       "<table border=\"1\" class=\"dataframe\">\n",
       "  <thead>\n",
       "    <tr style=\"text-align: right;\">\n",
       "      <th></th>\n",
       "      <th>A3-20</th>\n",
       "      <th>A3-12</th>\n",
       "      <th>A3-8</th>\n",
       "      <th>A3-4</th>\n",
       "      <th>A3-0</th>\n",
       "      <th>A2-20</th>\n",
       "      <th>A2-12</th>\n",
       "      <th>A2-8</th>\n",
       "      <th>A2-4</th>\n",
       "      <th>A2-0</th>\n",
       "      <th>A1-20</th>\n",
       "      <th>A1-12</th>\n",
       "      <th>A1-8</th>\n",
       "      <th>A1-4</th>\n",
       "      <th>A1-0</th>\n",
       "    </tr>\n",
       "  </thead>\n",
       "  <tbody>\n",
       "    <tr>\n",
       "      <th>gene_Tb427VSG-3039</th>\n",
       "      <td>18579</td>\n",
       "      <td>16096</td>\n",
       "      <td>16721</td>\n",
       "      <td>13185</td>\n",
       "      <td>25491</td>\n",
       "      <td>14994</td>\n",
       "      <td>16674</td>\n",
       "      <td>14434</td>\n",
       "      <td>13219</td>\n",
       "      <td>25277</td>\n",
       "      <td>23086</td>\n",
       "      <td>19904</td>\n",
       "      <td>18296</td>\n",
       "      <td>12024</td>\n",
       "      <td>23301</td>\n",
       "    </tr>\n",
       "    <tr>\n",
       "      <th>gene_Tb427VSG-23</th>\n",
       "      <td>7185</td>\n",
       "      <td>2706</td>\n",
       "      <td>2101</td>\n",
       "      <td>1215</td>\n",
       "      <td>1950</td>\n",
       "      <td>3466</td>\n",
       "      <td>2471</td>\n",
       "      <td>1570</td>\n",
       "      <td>1038</td>\n",
       "      <td>2002</td>\n",
       "      <td>7349</td>\n",
       "      <td>3432</td>\n",
       "      <td>2241</td>\n",
       "      <td>1103</td>\n",
       "      <td>1819</td>\n",
       "    </tr>\n",
       "    <tr>\n",
       "      <th>gene_Tb427VSG-649</th>\n",
       "      <td>8183</td>\n",
       "      <td>5805</td>\n",
       "      <td>3786</td>\n",
       "      <td>3363</td>\n",
       "      <td>4683</td>\n",
       "      <td>8279</td>\n",
       "      <td>5223</td>\n",
       "      <td>3755</td>\n",
       "      <td>3494</td>\n",
       "      <td>4695</td>\n",
       "      <td>8115</td>\n",
       "      <td>5231</td>\n",
       "      <td>4414</td>\n",
       "      <td>3130</td>\n",
       "      <td>4265</td>\n",
       "    </tr>\n",
       "    <tr>\n",
       "      <th>gene_Tb427VSG-22</th>\n",
       "      <td>21150</td>\n",
       "      <td>11316</td>\n",
       "      <td>9735</td>\n",
       "      <td>6989</td>\n",
       "      <td>10194</td>\n",
       "      <td>15582</td>\n",
       "      <td>11925</td>\n",
       "      <td>8031</td>\n",
       "      <td>6391</td>\n",
       "      <td>10083</td>\n",
       "      <td>21707</td>\n",
       "      <td>15948</td>\n",
       "      <td>11674</td>\n",
       "      <td>7033</td>\n",
       "      <td>9143</td>\n",
       "    </tr>\n",
       "    <tr>\n",
       "      <th>gene_Tb427VSG-1117</th>\n",
       "      <td>0</td>\n",
       "      <td>0</td>\n",
       "      <td>0</td>\n",
       "      <td>0</td>\n",
       "      <td>17</td>\n",
       "      <td>0</td>\n",
       "      <td>0</td>\n",
       "      <td>3</td>\n",
       "      <td>0</td>\n",
       "      <td>20</td>\n",
       "      <td>0</td>\n",
       "      <td>0</td>\n",
       "      <td>0</td>\n",
       "      <td>0</td>\n",
       "      <td>25</td>\n",
       "    </tr>\n",
       "  </tbody>\n",
       "</table>\n",
       "</div>"
      ],
      "text/plain": [
       "                    A3-20  A3-12   A3-8   A3-4   A3-0  A2-20  A2-12   A2-8  \\\n",
       "gene_Tb427VSG-3039  18579  16096  16721  13185  25491  14994  16674  14434   \n",
       "gene_Tb427VSG-23     7185   2706   2101   1215   1950   3466   2471   1570   \n",
       "gene_Tb427VSG-649    8183   5805   3786   3363   4683   8279   5223   3755   \n",
       "gene_Tb427VSG-22    21150  11316   9735   6989  10194  15582  11925   8031   \n",
       "gene_Tb427VSG-1117      0      0      0      0     17      0      0      3   \n",
       "\n",
       "                     A2-4   A2-0  A1-20  A1-12   A1-8   A1-4   A1-0  \n",
       "gene_Tb427VSG-3039  13219  25277  23086  19904  18296  12024  23301  \n",
       "gene_Tb427VSG-23     1038   2002   7349   3432   2241   1103   1819  \n",
       "gene_Tb427VSG-649    3494   4695   8115   5231   4414   3130   4265  \n",
       "gene_Tb427VSG-22     6391  10083  21707  15948  11674   7033   9143  \n",
       "gene_Tb427VSG-1117      0     20      0      0      0      0     25  "
      ]
     },
     "execution_count": 40,
     "metadata": {},
     "output_type": "execute_result"
    }
   ],
   "source": [
    "gc_content = indata[['length', 'gccontent']]\n",
    "indata.drop(['length', 'gccontent'],axis=1,inplace=True)\n",
    "print(indata.shape,gc_content.shape)\n",
    "indata.head()"
   ]
  },
  {
   "cell_type": "markdown",
   "metadata": {},
   "source": [
    "### size factors"
   ]
  },
  {
   "cell_type": "code",
   "execution_count": 42,
   "metadata": {},
   "outputs": [
    {
     "data": {
      "text/plain": [
       "array([26274538, 26146442, 24949560, 27078121, 26008877, 25771354,\n",
       "       25766751, 25455290, 26462758, 25990909, 26181028, 27262737,\n",
       "       26731458, 26297696, 25033376])"
      ]
     },
     "execution_count": 42,
     "metadata": {},
     "output_type": "execute_result"
    }
   ],
   "source": [
    "#compute for all proteome in FiguresPaper-927-unique_10.ipynb\n",
    "\n",
    "sizeFactors=np.array([26274538, 26146442, 24949560, 27078121, 26008877, 25771354,\n",
    "       25766751, 25455290, 26462758, 25990909, 26181028, 27262737,\n",
    "       26731458, 26297696, 25033376])\n",
    "sizeFactors"
   ]
  },
  {
   "cell_type": "code",
   "execution_count": 43,
   "metadata": {},
   "outputs": [],
   "source": [
    "#np.log2(gc_content['length']/1000).plot(kind='hist')"
   ]
  },
  {
   "cell_type": "markdown",
   "metadata": {},
   "source": [
    "### Bias Correction"
   ]
  },
  {
   "cell_type": "code",
   "execution_count": 44,
   "metadata": {},
   "outputs": [
    {
     "name": "stderr",
     "output_type": "stream",
     "text": [
      "R[write to console]: Loading required package: mclust\n",
      "\n",
      "R[write to console]: Package 'mclust' version 5.4.6\n",
      "Type 'citation(\"mclust\")' for citing this R package in publications.\n",
      "\n",
      "R[write to console]: Loading required package: nor1mix\n",
      "\n",
      "R[write to console]: Loading required package: preprocessCore\n",
      "\n",
      "R[write to console]: Loading required package: splines\n",
      "\n",
      "R[write to console]: Loading required package: quantreg\n",
      "\n",
      "R[write to console]: Loading required package: SparseM\n",
      "\n",
      "R[write to console]: \n",
      "Attaching package: ‘SparseM’\n",
      "\n",
      "\n",
      "R[write to console]: The following object is masked from ‘package:base’:\n",
      "\n",
      "    backsolve\n",
      "\n",
      "\n"
     ]
    }
   ],
   "source": [
    "%%R -i gc_content,indata,sizeFactors\n",
    "library(cqn)\n",
    "library(scales)"
   ]
  },
  {
   "cell_type": "code",
   "execution_count": 45,
   "metadata": {},
   "outputs": [
    {
     "name": "stdout",
     "output_type": "stream",
     "text": [
      "RQ fit ...............\n",
      "SQN .\n"
     ]
    }
   ],
   "source": [
    "%%R\n",
    "stopifnot(all(rownames(indata) == rownames(gc_content)))\n",
    "cqn.subset <- cqn(indata, lengths = gc_content$length,\n",
    "                  x = gc_content$gccontent, sizeFactors = sizeFactors,\n",
    "                  verbose = TRUE)"
   ]
  },
  {
   "cell_type": "code",
   "execution_count": 46,
   "metadata": {},
   "outputs": [],
   "source": [
    "#%R cqn.subset"
   ]
  },
  {
   "cell_type": "markdown",
   "metadata": {},
   "source": [
    "### Viz Bias"
   ]
  },
  {
   "cell_type": "code",
   "execution_count": 47,
   "metadata": {},
   "outputs": [
    {
     "data": {
      "image/png": "[encoded data removed]"
     },
     "metadata": {},
     "output_type": "display_data"
    }
   ],
   "source": [
    "%%R\n",
    "cqnplot <- function(x, n = 1, col = \"grey60\", ylab=\"estimated bias effect\", \n",
    "                    xlab = \"\", type = \"l\", lty = 1, ...) {\n",
    "    if(class(x) != \"cqn\")\n",
    "        stop(\"'x' needs to be of class 'cqn'\")\n",
    "    if(n == 1) {\n",
    "        func <- x$func1\n",
    "        grid <- x$grid1\n",
    "        knots <- x$knots1\n",
    "    }\n",
    "    if(n == 2) {\n",
    "        if(is.null(x$func2))\n",
    "            stop(\"argument 'x' does not appear to have two smooth functions (component 'func2' is NULL)\")\n",
    "        func <- x$func2\n",
    "        grid <- x$grid2\n",
    "        knots <- x$knots2\n",
    "    }\n",
    "    \n",
    "    \n",
    "    #par(mar=c(5.1, 4.1, 4.1, 8.1), xpd=TRUE)\n",
    "    matplot(replicate(ncol(func), grid), func, ylab = ylab, xlab = xlab, type = type,\n",
    "            col = col, lty = lty, ...)\n",
    "    \n",
    "    legend(\"bottomleft\", legend = colnames(x$counts), inset=c(1,0),\n",
    "           title=\"Samples\", lty = lty, col = col)\n",
    "    rug(knots, lwd = 2)\n",
    "    invisible(x)\n",
    "    \n",
    "}\n",
    "\n",
    "\n",
    "library(repr)\n",
    "#options(repr.plot.width = 10, repr.plot.height = 0.75)\n",
    "# Change plot size to 4 x 3\n",
    "#options(repr.plot.width=4, repr.plot.height=3)\n",
    "\n",
    "\n",
    "colors <- c(\n",
    "    'red','red','red','red','red',\n",
    "    'blue','blue','blue','blue','blue',\n",
    "'yellow','yellow','yellow','yellow','yellow'\n",
    "    \n",
    ")\n",
    "lty =c(1,1,1,1,1,\n",
    "       1,1,1,1,1,\n",
    "       1,1,1,1,1\n",
    "      )\n",
    "\n",
    "#png(\"Figures/Figure_12.png\")\n",
    "#par(mfrow=c(1,2))\n",
    "cqnplot(cqn.subset, col=colors,\n",
    "        n = 1, xlab = \"GC content\", lty = lty,\n",
    "        ylim = c(3, 15), \n",
    "        \n",
    "       )\n",
    "#dev.off()\n",
    "\n",
    "#ggsave('plot.png', width=8.27, height= 11.69) #A4 size in inches\n",
    "#dev.off()"
   ]
  },
  {
   "cell_type": "code",
   "execution_count": 48,
   "metadata": {},
   "outputs": [
    {
     "data": {
      "image/png": "[encoded data removed]"
     },
     "metadata": {},
     "output_type": "display_data"
    }
   ],
   "source": [
    "%%R\n",
    "library(repr)\n",
    "#options(repr.plot.width = 12, repr.plot.height = 0.75)\n",
    "# Change plot size to 4 x 3\n",
    "#options(repr.plot.width=8, repr.plot.height=3)\n",
    "\n",
    "\n",
    "colors <- c(\n",
    "    'red','red','red','red','red',\n",
    "    'blue','blue','blue','blue','blue',\n",
    "'yellow','yellow','yellow','yellow','yellow'\n",
    "    \n",
    ")\n",
    "lty =c(1,1,1,1,1,\n",
    "       1,1,1,1,1,\n",
    "       1,1,1,1,1\n",
    "      )\n",
    "\n",
    "#par(mfrow=c(1,2))\n",
    "#png(\"Figures/Figure_13.png\")\n",
    "cqnplot(cqn.subset, col=colors,\n",
    "        n = 2, xlab = \"length\", lty = lty,\n",
    "        ylim = c(0,15), \n",
    "    \n",
    "       )\n",
    "#dev.off()"
   ]
  },
  {
   "cell_type": "markdown",
   "metadata": {},
   "source": [
    "### Bias Correction"
   ]
  },
  {
   "cell_type": "code",
   "execution_count": 49,
   "metadata": {},
   "outputs": [
    {
     "name": "stdout",
     "output_type": "stream",
     "text": [
      "                      A3.20    A3.12      A3.8      A3.4     A3.0    A2.20\n",
      "gene_Tb427VSG-3039 9.244940 9.658041 10.640695 10.161291 9.978287 9.499739\n",
      "gene_Tb427VSG-23   9.978287 8.573979  8.759146  8.573979 8.945267 9.040363\n",
      "gene_Tb427VSG-649  7.826352 8.480115  8.384453  8.184287 7.262255 7.962261\n",
      "gene_Tb427VSG-22   9.499739 8.851761  8.384453  8.573979 8.573979 8.759146\n",
      "gene_Tb427VSG-1117 3.784730 3.097556  1.779699  1.018755 1.586508 3.097556\n",
      "gene_Tb427VSG-1387 8.945267 7.962261  8.384453  7.656935 9.244940 9.137825\n",
      "                       A2.12      A2.8       A2.4     A2.0     A1.20     A1.12\n",
      "gene_Tb427VSG-3039 10.370039 11.013356 10.1612910 9.978287 10.161291 11.013356\n",
      "gene_Tb427VSG-23    9.137825  8.759146  7.9622615 8.945267  9.820702  9.137825\n",
      "gene_Tb427VSG-649   9.137825  8.759146  8.1842872 7.262255  7.826352  8.480115\n",
      "gene_Tb427VSG-22    9.137825  8.759146  9.1378247 8.945267  9.366995  8.480115\n",
      "gene_Tb427VSG-1117  3.097556  4.426477  0.4878581 2.000212  3.097556  3.784730\n",
      "gene_Tb427VSG-1387  9.137825  7.962261  7.6569350 8.184287  8.077589  7.962261\n",
      "                        A1.8       A1.4     A1.0\n",
      "gene_Tb427VSG-3039 11.013356 10.3700393 9.978287\n",
      "gene_Tb427VSG-23    9.244940  8.9452675 7.826352\n",
      "gene_Tb427VSG-649   8.666767  8.7591457 6.670245\n",
      "gene_Tb427VSG-22    8.666767  9.2449400 8.851761\n",
      "gene_Tb427VSG-1117  3.097556  0.6529069 3.097556\n",
      "gene_Tb427VSG-1387  7.962261  7.6569350 9.137825\n"
     ]
    }
   ],
   "source": [
    "%%R\n",
    "RPKM.cqn <- cqn.subset$y + cqn.subset$offset\n",
    "out_table <- RPKM.cqn\n",
    "head(out_table)"
   ]
  },
  {
   "cell_type": "code",
   "execution_count": 50,
   "metadata": {},
   "outputs": [],
   "source": [
    "#out_table"
   ]
  },
  {
   "cell_type": "code",
   "execution_count": 51,
   "metadata": {},
   "outputs": [
    {
     "data": {
      "text/html": [
       "<div>\n",
       "<style scoped>\n",
       "    .dataframe tbody tr th:only-of-type {\n",
       "        vertical-align: middle;\n",
       "    }\n",
       "\n",
       "    .dataframe tbody tr th {\n",
       "        vertical-align: top;\n",
       "    }\n",
       "\n",
       "    .dataframe thead th {\n",
       "        text-align: right;\n",
       "    }\n",
       "</style>\n",
       "<table border=\"1\" class=\"dataframe\">\n",
       "  <thead>\n",
       "    <tr style=\"text-align: right;\">\n",
       "      <th></th>\n",
       "      <th>A3-20</th>\n",
       "      <th>A3-12</th>\n",
       "      <th>A3-8</th>\n",
       "      <th>A3-4</th>\n",
       "      <th>A3-0</th>\n",
       "      <th>A2-20</th>\n",
       "      <th>A2-12</th>\n",
       "      <th>A2-8</th>\n",
       "      <th>A2-4</th>\n",
       "      <th>A2-0</th>\n",
       "      <th>A1-20</th>\n",
       "      <th>A1-12</th>\n",
       "      <th>A1-8</th>\n",
       "      <th>A1-4</th>\n",
       "      <th>A1-0</th>\n",
       "    </tr>\n",
       "  </thead>\n",
       "  <tbody>\n",
       "    <tr>\n",
       "      <th>gene_Tb427VSG-3039</th>\n",
       "      <td>9.244940</td>\n",
       "      <td>9.658041</td>\n",
       "      <td>10.640695</td>\n",
       "      <td>10.161291</td>\n",
       "      <td>9.978287</td>\n",
       "      <td>9.499739</td>\n",
       "      <td>10.370039</td>\n",
       "      <td>11.013356</td>\n",
       "      <td>10.161291</td>\n",
       "      <td>9.978287</td>\n",
       "      <td>10.161291</td>\n",
       "      <td>11.013356</td>\n",
       "      <td>11.013356</td>\n",
       "      <td>10.370039</td>\n",
       "      <td>9.978287</td>\n",
       "    </tr>\n",
       "    <tr>\n",
       "      <th>gene_Tb427VSG-23</th>\n",
       "      <td>9.978287</td>\n",
       "      <td>8.573979</td>\n",
       "      <td>8.759146</td>\n",
       "      <td>8.573979</td>\n",
       "      <td>8.945267</td>\n",
       "      <td>9.040363</td>\n",
       "      <td>9.137825</td>\n",
       "      <td>8.759146</td>\n",
       "      <td>7.962261</td>\n",
       "      <td>8.945267</td>\n",
       "      <td>9.820702</td>\n",
       "      <td>9.137825</td>\n",
       "      <td>9.244940</td>\n",
       "      <td>8.945267</td>\n",
       "      <td>7.826352</td>\n",
       "    </tr>\n",
       "    <tr>\n",
       "      <th>gene_Tb427VSG-649</th>\n",
       "      <td>7.826352</td>\n",
       "      <td>8.480115</td>\n",
       "      <td>8.384453</td>\n",
       "      <td>8.184287</td>\n",
       "      <td>7.262255</td>\n",
       "      <td>7.962261</td>\n",
       "      <td>9.137825</td>\n",
       "      <td>8.759146</td>\n",
       "      <td>8.184287</td>\n",
       "      <td>7.262255</td>\n",
       "      <td>7.826352</td>\n",
       "      <td>8.480115</td>\n",
       "      <td>8.666767</td>\n",
       "      <td>8.759146</td>\n",
       "      <td>6.670245</td>\n",
       "    </tr>\n",
       "    <tr>\n",
       "      <th>gene_Tb427VSG-22</th>\n",
       "      <td>9.499739</td>\n",
       "      <td>8.851761</td>\n",
       "      <td>8.384453</td>\n",
       "      <td>8.573979</td>\n",
       "      <td>8.573979</td>\n",
       "      <td>8.759146</td>\n",
       "      <td>9.137825</td>\n",
       "      <td>8.759146</td>\n",
       "      <td>9.137825</td>\n",
       "      <td>8.945267</td>\n",
       "      <td>9.366995</td>\n",
       "      <td>8.480115</td>\n",
       "      <td>8.666767</td>\n",
       "      <td>9.244940</td>\n",
       "      <td>8.851761</td>\n",
       "    </tr>\n",
       "    <tr>\n",
       "      <th>gene_Tb427VSG-1117</th>\n",
       "      <td>3.784730</td>\n",
       "      <td>3.097556</td>\n",
       "      <td>1.779699</td>\n",
       "      <td>1.018755</td>\n",
       "      <td>1.586508</td>\n",
       "      <td>3.097556</td>\n",
       "      <td>3.097556</td>\n",
       "      <td>4.426477</td>\n",
       "      <td>0.487858</td>\n",
       "      <td>2.000212</td>\n",
       "      <td>3.097556</td>\n",
       "      <td>3.784730</td>\n",
       "      <td>3.097556</td>\n",
       "      <td>0.652907</td>\n",
       "      <td>3.097556</td>\n",
       "    </tr>\n",
       "  </tbody>\n",
       "</table>\n",
       "</div>"
      ],
      "text/plain": [
       "                       A3-20     A3-12       A3-8       A3-4      A3-0  \\\n",
       "gene_Tb427VSG-3039  9.244940  9.658041  10.640695  10.161291  9.978287   \n",
       "gene_Tb427VSG-23    9.978287  8.573979   8.759146   8.573979  8.945267   \n",
       "gene_Tb427VSG-649   7.826352  8.480115   8.384453   8.184287  7.262255   \n",
       "gene_Tb427VSG-22    9.499739  8.851761   8.384453   8.573979  8.573979   \n",
       "gene_Tb427VSG-1117  3.784730  3.097556   1.779699   1.018755  1.586508   \n",
       "\n",
       "                       A2-20      A2-12       A2-8       A2-4      A2-0  \\\n",
       "gene_Tb427VSG-3039  9.499739  10.370039  11.013356  10.161291  9.978287   \n",
       "gene_Tb427VSG-23    9.040363   9.137825   8.759146   7.962261  8.945267   \n",
       "gene_Tb427VSG-649   7.962261   9.137825   8.759146   8.184287  7.262255   \n",
       "gene_Tb427VSG-22    8.759146   9.137825   8.759146   9.137825  8.945267   \n",
       "gene_Tb427VSG-1117  3.097556   3.097556   4.426477   0.487858  2.000212   \n",
       "\n",
       "                        A1-20      A1-12       A1-8       A1-4      A1-0  \n",
       "gene_Tb427VSG-3039  10.161291  11.013356  11.013356  10.370039  9.978287  \n",
       "gene_Tb427VSG-23     9.820702   9.137825   9.244940   8.945267  7.826352  \n",
       "gene_Tb427VSG-649    7.826352   8.480115   8.666767   8.759146  6.670245  \n",
       "gene_Tb427VSG-22     9.366995   8.480115   8.666767   9.244940  8.851761  \n",
       "gene_Tb427VSG-1117   3.097556   3.784730   3.097556   0.652907  3.097556  "
      ]
     },
     "execution_count": 51,
     "metadata": {},
     "output_type": "execute_result"
    }
   ],
   "source": [
    "%R -o out_table\n",
    "out_table = pd.DataFrame(out_table,index=indata.index.values,columns=indata.columns)\n",
    "out_table.head()"
   ]
  },
  {
   "cell_type": "code",
   "execution_count": null,
   "metadata": {},
   "outputs": [],
   "source": []
  },
  {
   "cell_type": "markdown",
   "metadata": {},
   "source": [
    "### Visualise Normalized Counts"
   ]
  },
  {
   "cell_type": "code",
   "execution_count": 52,
   "metadata": {},
   "outputs": [
    {
     "data": {
      "image/png": "[encoded data removed]",
      "text/plain": [
       "<Figure size 1152x288 with 2 Axes>"
      ]
     },
     "metadata": {},
     "output_type": "display_data"
    },
    {
     "name": "stdout",
     "output_type": "stream",
     "text": [
      "(42, 15)\n"
     ]
    }
   ],
   "source": [
    "fig,axes=plt.subplots(figsize=(16,4),ncols=2)\n",
    "ax = axes[0]\n",
    "out_table.plot(kind='box',ax=ax,rot=90,showfliers=False)\n",
    "\n",
    "ax = axes[1]\n",
    "out_table.replace(-np.inf,-1.5).plot(kind='hist',\n",
    "                                            histtype='step',\n",
    "                                            bins=100,ax=ax)\n",
    "UT.hist_legend(ax,'Sample')\n",
    "#ax.set_xticklabels(out_df.columns, rotation=90, )\n",
    "plt.show()\n",
    "print(out_table.shape)"
   ]
  },
  {
   "cell_type": "code",
   "execution_count": 53,
   "metadata": {},
   "outputs": [],
   "source": [
    "#gene_Tb427VSG-825     -5.264267\n",
    "#gene_Tb427VSG-826     -4.359441\n",
    "#gene_Tb427VSG-662     -2.420824\n",
    "#gene_Tb427VSG-1117    -0.469746\n",
    "to_drop = ['gene_Tb427VSG-825', \n",
    "           'gene_Tb427VSG-826',\n",
    "           'gene_Tb427VSG-662', \n",
    "           'gene_Tb427VSG-1117']"
   ]
  },
  {
   "cell_type": "code",
   "execution_count": 54,
   "metadata": {},
   "outputs": [
    {
     "data": {
      "text/plain": [
       "array(['gene_Tb427VSG-3039', 'gene_Tb427VSG-23', 'gene_Tb427VSG-649',\n",
       "       'gene_Tb427VSG-22', 'gene_Tb427VSG-1117', 'gene_Tb427VSG-1387',\n",
       "       'gene_Tb427VSG-662', 'gene_Tb427VSG-825', 'gene_Tb427VSG-826',\n",
       "       'gene_Tb427VSG-11', 'gene_Tb427VSG-3', 'gene_Tb427VSG-6',\n",
       "       'gene_Tb427VSG-8', 'gene_Tb427VSG-9', 'gene_Tb427VSG-17',\n",
       "       'gene_Tb427VSG-13', 'gene_Tb427VSG-1', 'gene_Tb427VSG-18',\n",
       "       'gene_Tb427VSG-21', 'gene_Tb427VSG-14', 'gene_Tb427VSG-15',\n",
       "       'gene_Tb427VSG-397', 'gene_Tb427VSG-531', 'gene_Tb427VSG-653',\n",
       "       'gene_Tb427VSG-1954', 'gene_Tb427VSG-24', 'gene_Tb427VSG-25',\n",
       "       'gene_Tb427VSG-365', 'gene_Tb427VSG-416', 'gene_Tb427VSG-430',\n",
       "       'gene_Tb427VSG-476', 'gene_Tb427VSG-629', 'gene_Tb427VSG-637',\n",
       "       'gene_Tb427VSG-1963', 'gene_Tb427VSG-663', 'gene_Tb427VSG-832',\n",
       "       'gene_Tb427VSG-12', 'gene_Tb427VSG-631', 'gene_Tb427VSG-417',\n",
       "       'gene_Tb427VSG-671', 'gene_Tb427VSG-374', 'gene_Tb427VSG-322'],\n",
       "      dtype=object)"
      ]
     },
     "execution_count": 54,
     "metadata": {},
     "output_type": "execute_result"
    }
   ],
   "source": [
    "indata.index.values"
   ]
  },
  {
   "cell_type": "code",
   "execution_count": 131,
   "metadata": {},
   "outputs": [],
   "source": [
    "#temp = out_table.drop(to_drop)\n",
    "#temp.head()"
   ]
  },
  {
   "cell_type": "markdown",
   "metadata": {},
   "source": [
    "# Compute FPKM"
   ]
  },
  {
   "cell_type": "code",
   "execution_count": 99,
   "metadata": {},
   "outputs": [
    {
     "data": {
      "text/html": [
       "<div>\n",
       "<style scoped>\n",
       "    .dataframe tbody tr th:only-of-type {\n",
       "        vertical-align: middle;\n",
       "    }\n",
       "\n",
       "    .dataframe tbody tr th {\n",
       "        vertical-align: top;\n",
       "    }\n",
       "\n",
       "    .dataframe thead th {\n",
       "        text-align: right;\n",
       "    }\n",
       "</style>\n",
       "<table border=\"1\" class=\"dataframe\">\n",
       "  <thead>\n",
       "    <tr style=\"text-align: right;\">\n",
       "      <th></th>\n",
       "      <th>A3-20</th>\n",
       "      <th>A3-12</th>\n",
       "      <th>A3-8</th>\n",
       "      <th>A3-4</th>\n",
       "      <th>A3-0</th>\n",
       "      <th>A2-20</th>\n",
       "      <th>A2-12</th>\n",
       "      <th>A2-8</th>\n",
       "      <th>A2-4</th>\n",
       "      <th>A2-0</th>\n",
       "      <th>A1-20</th>\n",
       "      <th>A1-12</th>\n",
       "      <th>A1-8</th>\n",
       "      <th>A1-4</th>\n",
       "      <th>A1-0</th>\n",
       "      <th>length</th>\n",
       "      <th>gccontent</th>\n",
       "      <th>length_aa</th>\n",
       "      <th>length_kb</th>\n",
       "    </tr>\n",
       "  </thead>\n",
       "  <tbody>\n",
       "    <tr>\n",
       "      <th>gene_Tb427VSG-3039</th>\n",
       "      <td>525.0</td>\n",
       "      <td>458.0</td>\n",
       "      <td>499.0</td>\n",
       "      <td>363.0</td>\n",
       "      <td>734.0</td>\n",
       "      <td>432.0</td>\n",
       "      <td>482.0</td>\n",
       "      <td>422.0</td>\n",
       "      <td>372.0</td>\n",
       "      <td>728.0</td>\n",
       "      <td>655.0</td>\n",
       "      <td>544.0</td>\n",
       "      <td>510.0</td>\n",
       "      <td>341.0</td>\n",
       "      <td>697.0</td>\n",
       "      <td>1346</td>\n",
       "      <td>0.505201</td>\n",
       "      <td>449.0</td>\n",
       "      <td>1.346</td>\n",
       "    </tr>\n",
       "    <tr>\n",
       "      <th>gene_Tb427VSG-23</th>\n",
       "      <td>177.0</td>\n",
       "      <td>67.0</td>\n",
       "      <td>55.0</td>\n",
       "      <td>29.0</td>\n",
       "      <td>49.0</td>\n",
       "      <td>87.0</td>\n",
       "      <td>62.0</td>\n",
       "      <td>40.0</td>\n",
       "      <td>26.0</td>\n",
       "      <td>50.0</td>\n",
       "      <td>182.0</td>\n",
       "      <td>82.0</td>\n",
       "      <td>55.0</td>\n",
       "      <td>27.0</td>\n",
       "      <td>48.0</td>\n",
       "      <td>1541</td>\n",
       "      <td>0.514601</td>\n",
       "      <td>514.0</td>\n",
       "      <td>1.541</td>\n",
       "    </tr>\n",
       "    <tr>\n",
       "      <th>gene_Tb427VSG-649</th>\n",
       "      <td>229.0</td>\n",
       "      <td>163.0</td>\n",
       "      <td>112.0</td>\n",
       "      <td>92.0</td>\n",
       "      <td>133.0</td>\n",
       "      <td>236.0</td>\n",
       "      <td>149.0</td>\n",
       "      <td>109.0</td>\n",
       "      <td>97.0</td>\n",
       "      <td>134.0</td>\n",
       "      <td>228.0</td>\n",
       "      <td>141.0</td>\n",
       "      <td>122.0</td>\n",
       "      <td>88.0</td>\n",
       "      <td>126.0</td>\n",
       "      <td>1361</td>\n",
       "      <td>0.511389</td>\n",
       "      <td>454.0</td>\n",
       "      <td>1.361</td>\n",
       "    </tr>\n",
       "    <tr>\n",
       "      <th>gene_Tb427VSG-22</th>\n",
       "      <td>588.0</td>\n",
       "      <td>317.0</td>\n",
       "      <td>286.0</td>\n",
       "      <td>189.0</td>\n",
       "      <td>289.0</td>\n",
       "      <td>442.0</td>\n",
       "      <td>339.0</td>\n",
       "      <td>231.0</td>\n",
       "      <td>177.0</td>\n",
       "      <td>286.0</td>\n",
       "      <td>607.0</td>\n",
       "      <td>429.0</td>\n",
       "      <td>320.0</td>\n",
       "      <td>196.0</td>\n",
       "      <td>269.0</td>\n",
       "      <td>1367</td>\n",
       "      <td>0.493050</td>\n",
       "      <td>456.0</td>\n",
       "      <td>1.367</td>\n",
       "    </tr>\n",
       "    <tr>\n",
       "      <th>gene_Tb427VSG-1117</th>\n",
       "      <td>0.0</td>\n",
       "      <td>0.0</td>\n",
       "      <td>0.0</td>\n",
       "      <td>0.0</td>\n",
       "      <td>0.0</td>\n",
       "      <td>0.0</td>\n",
       "      <td>0.0</td>\n",
       "      <td>0.0</td>\n",
       "      <td>0.0</td>\n",
       "      <td>1.0</td>\n",
       "      <td>0.0</td>\n",
       "      <td>0.0</td>\n",
       "      <td>0.0</td>\n",
       "      <td>0.0</td>\n",
       "      <td>1.0</td>\n",
       "      <td>1529</td>\n",
       "      <td>0.531720</td>\n",
       "      <td>510.0</td>\n",
       "      <td>1.529</td>\n",
       "    </tr>\n",
       "  </tbody>\n",
       "</table>\n",
       "</div>"
      ],
      "text/plain": [
       "                    A3-20  A3-12   A3-8   A3-4   A3-0  A2-20  A2-12   A2-8  \\\n",
       "gene_Tb427VSG-3039  525.0  458.0  499.0  363.0  734.0  432.0  482.0  422.0   \n",
       "gene_Tb427VSG-23    177.0   67.0   55.0   29.0   49.0   87.0   62.0   40.0   \n",
       "gene_Tb427VSG-649   229.0  163.0  112.0   92.0  133.0  236.0  149.0  109.0   \n",
       "gene_Tb427VSG-22    588.0  317.0  286.0  189.0  289.0  442.0  339.0  231.0   \n",
       "gene_Tb427VSG-1117    0.0    0.0    0.0    0.0    0.0    0.0    0.0    0.0   \n",
       "\n",
       "                     A2-4   A2-0  A1-20  A1-12   A1-8   A1-4   A1-0  length  \\\n",
       "gene_Tb427VSG-3039  372.0  728.0  655.0  544.0  510.0  341.0  697.0    1346   \n",
       "gene_Tb427VSG-23     26.0   50.0  182.0   82.0   55.0   27.0   48.0    1541   \n",
       "gene_Tb427VSG-649    97.0  134.0  228.0  141.0  122.0   88.0  126.0    1361   \n",
       "gene_Tb427VSG-22    177.0  286.0  607.0  429.0  320.0  196.0  269.0    1367   \n",
       "gene_Tb427VSG-1117    0.0    1.0    0.0    0.0    0.0    0.0    1.0    1529   \n",
       "\n",
       "                    gccontent  length_aa  length_kb  \n",
       "gene_Tb427VSG-3039   0.505201      449.0      1.346  \n",
       "gene_Tb427VSG-23     0.514601      514.0      1.541  \n",
       "gene_Tb427VSG-649    0.511389      454.0      1.361  \n",
       "gene_Tb427VSG-22     0.493050      456.0      1.367  \n",
       "gene_Tb427VSG-1117   0.531720      510.0      1.529  "
      ]
     },
     "execution_count": 99,
     "metadata": {},
     "output_type": "execute_result"
    }
   ],
   "source": [
    "temp = indata.copy()#drop(to_drop)\n",
    "temp = temp.join(gc_content,how='inner')\n",
    "temp['length_aa']=round(temp['length']/3)\n",
    "temp['length_kb']=temp['length']/1000\n",
    "size_factors = np.array([26306227, 26103496, 24887017, 26999921, 25798199, 25775388,\n",
    "       25719475, 25399200, 26374663, 25805849, 26172070, 27200277,\n",
    "       26664592, 26211320, 24848832])\n",
    "size_factors=size_factors/1000000\n",
    "temp.iloc[:,0:15] = temp.iloc[:,0:15].divide(size_factors, axis=1).divide(temp['length_kb'],axis=0).round(0)\n",
    "temp.head()\n",
    "\n",
    "\n",
    "#RPKM = .divide( ( temp['length_kb'] * size_factors/1000000 ),axis=1)\n",
    "#RPKM"
   ]
  },
  {
   "cell_type": "code",
   "execution_count": 100,
   "metadata": {},
   "outputs": [],
   "source": [
    "dict_cat = {\n",
    "'gene_Tb427VSG-2':'BES',  \n",
    "'gene_Tb427VSG-11':'BES',\n",
    "'gene_Tb427VSG-3':'BES',\n",
    "'gene_Tb427VSG-6':'BES',\n",
    "'gene_Tb427VSG-8':'BES',\n",
    "'gene_Tb427VSG-9':'BES',\n",
    "'gene_Tb427VSG-17':'BES',\n",
    "'gene_Tb427VSG-13':'BES',\n",
    "'gene_Tb427VSG-18':'BES',\n",
    "'gene_Tb427VSG-21':'BES',\n",
    "'gene_Tb427VSG-14':'BES',\n",
    "'gene_Tb427VSG-15':'BES',\n",
    " \n",
    "'gene_Tb427VSG-397':'MES',\n",
    "'gene_Tb427VSG-653':'MES',\n",
    "'gene_Tb427VSG-531':'MES',\n",
    "'gene_Tb427VSG-1954':'MES',\n",
    "'gene_Tb427VSG-631':'MES',\n",
    " \n",
    "'gene_Tb427VSG-1':'MC',\n",
    "'gene_Tb427VSG-25':'MC',\n",
    "'gene_Tb427VSG-365':'MC',\n",
    "'gene_Tb427VSG-416':'MC',\n",
    "'gene_Tb427VSG-430':'MC',\n",
    "'gene_Tb427VSG-476':'MC',\n",
    "'gene_Tb427VSG-629':'MC',\n",
    "'gene_Tb427VSG-637':'MC',\n",
    "'gene_Tb427VSG-1963':'MC',\n",
    "'gene_Tb427VSG-663':'MC',\n",
    "'gene_Tb427VSG-417':'MC',\n",
    "'gene_Tb427VSG-671':'MC',\n",
    "'gene_Tb427VSG-374':'MC',\n",
    "'gene_Tb427VSG-24':'MC',\n",
    "'gene_Tb427VSG-832':'MC',\n",
    "'gene_Tb427VSG-3039':'MC',\n",
    "'gene_Tb427VSG-23':'MC',\n",
    "'gene_Tb427VSG-649':'MC',\n",
    "'gene_Tb427VSG-22':'MC',\n",
    "'gene_Tb427VSG-1387':'MC',\n",
    "'gene_Tb427VSG-12':'MC',\n",
    "'gene_Tb427VSG-322':'MC',\n",
    "    \n",
    "'gene_Tb427VSG-12':'ND',\n",
    "'gene_Tb427VSG-322':'ND',\n",
    "}"
   ]
  },
  {
   "cell_type": "code",
   "execution_count": 101,
   "metadata": {},
   "outputs": [],
   "source": [
    "temp['category']=[dict_cat.get(n,'none') for n in temp.index.values]"
   ]
  },
  {
   "cell_type": "code",
   "execution_count": 102,
   "metadata": {},
   "outputs": [
    {
     "data": {
      "text/html": [
       "<div>\n",
       "<style scoped>\n",
       "    .dataframe tbody tr th:only-of-type {\n",
       "        vertical-align: middle;\n",
       "    }\n",
       "\n",
       "    .dataframe tbody tr th {\n",
       "        vertical-align: top;\n",
       "    }\n",
       "\n",
       "    .dataframe thead th {\n",
       "        text-align: right;\n",
       "    }\n",
       "</style>\n",
       "<table border=\"1\" class=\"dataframe\">\n",
       "  <thead>\n",
       "    <tr style=\"text-align: right;\">\n",
       "      <th></th>\n",
       "      <th>A3-20</th>\n",
       "      <th>A3-12</th>\n",
       "      <th>A3-8</th>\n",
       "      <th>A3-4</th>\n",
       "      <th>A3-0</th>\n",
       "      <th>A2-20</th>\n",
       "      <th>A2-12</th>\n",
       "      <th>A2-8</th>\n",
       "      <th>A2-4</th>\n",
       "      <th>A2-0</th>\n",
       "      <th>A1-20</th>\n",
       "      <th>A1-12</th>\n",
       "      <th>A1-8</th>\n",
       "      <th>A1-4</th>\n",
       "      <th>A1-0</th>\n",
       "      <th>length</th>\n",
       "      <th>gccontent</th>\n",
       "      <th>length_aa</th>\n",
       "      <th>length_kb</th>\n",
       "      <th>category</th>\n",
       "    </tr>\n",
       "  </thead>\n",
       "  <tbody>\n",
       "    <tr>\n",
       "      <th>gene_Tb427VSG-3039</th>\n",
       "      <td>525.0</td>\n",
       "      <td>458.0</td>\n",
       "      <td>499.0</td>\n",
       "      <td>363.0</td>\n",
       "      <td>734.0</td>\n",
       "      <td>432.0</td>\n",
       "      <td>482.0</td>\n",
       "      <td>422.0</td>\n",
       "      <td>372.0</td>\n",
       "      <td>728.0</td>\n",
       "      <td>655.0</td>\n",
       "      <td>544.0</td>\n",
       "      <td>510.0</td>\n",
       "      <td>341.0</td>\n",
       "      <td>697.0</td>\n",
       "      <td>1346</td>\n",
       "      <td>0.505201</td>\n",
       "      <td>449.0</td>\n",
       "      <td>1.346</td>\n",
       "      <td>MC</td>\n",
       "    </tr>\n",
       "    <tr>\n",
       "      <th>gene_Tb427VSG-23</th>\n",
       "      <td>177.0</td>\n",
       "      <td>67.0</td>\n",
       "      <td>55.0</td>\n",
       "      <td>29.0</td>\n",
       "      <td>49.0</td>\n",
       "      <td>87.0</td>\n",
       "      <td>62.0</td>\n",
       "      <td>40.0</td>\n",
       "      <td>26.0</td>\n",
       "      <td>50.0</td>\n",
       "      <td>182.0</td>\n",
       "      <td>82.0</td>\n",
       "      <td>55.0</td>\n",
       "      <td>27.0</td>\n",
       "      <td>48.0</td>\n",
       "      <td>1541</td>\n",
       "      <td>0.514601</td>\n",
       "      <td>514.0</td>\n",
       "      <td>1.541</td>\n",
       "      <td>MC</td>\n",
       "    </tr>\n",
       "    <tr>\n",
       "      <th>gene_Tb427VSG-649</th>\n",
       "      <td>229.0</td>\n",
       "      <td>163.0</td>\n",
       "      <td>112.0</td>\n",
       "      <td>92.0</td>\n",
       "      <td>133.0</td>\n",
       "      <td>236.0</td>\n",
       "      <td>149.0</td>\n",
       "      <td>109.0</td>\n",
       "      <td>97.0</td>\n",
       "      <td>134.0</td>\n",
       "      <td>228.0</td>\n",
       "      <td>141.0</td>\n",
       "      <td>122.0</td>\n",
       "      <td>88.0</td>\n",
       "      <td>126.0</td>\n",
       "      <td>1361</td>\n",
       "      <td>0.511389</td>\n",
       "      <td>454.0</td>\n",
       "      <td>1.361</td>\n",
       "      <td>MC</td>\n",
       "    </tr>\n",
       "    <tr>\n",
       "      <th>gene_Tb427VSG-22</th>\n",
       "      <td>588.0</td>\n",
       "      <td>317.0</td>\n",
       "      <td>286.0</td>\n",
       "      <td>189.0</td>\n",
       "      <td>289.0</td>\n",
       "      <td>442.0</td>\n",
       "      <td>339.0</td>\n",
       "      <td>231.0</td>\n",
       "      <td>177.0</td>\n",
       "      <td>286.0</td>\n",
       "      <td>607.0</td>\n",
       "      <td>429.0</td>\n",
       "      <td>320.0</td>\n",
       "      <td>196.0</td>\n",
       "      <td>269.0</td>\n",
       "      <td>1367</td>\n",
       "      <td>0.493050</td>\n",
       "      <td>456.0</td>\n",
       "      <td>1.367</td>\n",
       "      <td>MC</td>\n",
       "    </tr>\n",
       "    <tr>\n",
       "      <th>gene_Tb427VSG-1117</th>\n",
       "      <td>0.0</td>\n",
       "      <td>0.0</td>\n",
       "      <td>0.0</td>\n",
       "      <td>0.0</td>\n",
       "      <td>0.0</td>\n",
       "      <td>0.0</td>\n",
       "      <td>0.0</td>\n",
       "      <td>0.0</td>\n",
       "      <td>0.0</td>\n",
       "      <td>1.0</td>\n",
       "      <td>0.0</td>\n",
       "      <td>0.0</td>\n",
       "      <td>0.0</td>\n",
       "      <td>0.0</td>\n",
       "      <td>1.0</td>\n",
       "      <td>1529</td>\n",
       "      <td>0.531720</td>\n",
       "      <td>510.0</td>\n",
       "      <td>1.529</td>\n",
       "      <td>none</td>\n",
       "    </tr>\n",
       "  </tbody>\n",
       "</table>\n",
       "</div>"
      ],
      "text/plain": [
       "                    A3-20  A3-12   A3-8   A3-4   A3-0  A2-20  A2-12   A2-8  \\\n",
       "gene_Tb427VSG-3039  525.0  458.0  499.0  363.0  734.0  432.0  482.0  422.0   \n",
       "gene_Tb427VSG-23    177.0   67.0   55.0   29.0   49.0   87.0   62.0   40.0   \n",
       "gene_Tb427VSG-649   229.0  163.0  112.0   92.0  133.0  236.0  149.0  109.0   \n",
       "gene_Tb427VSG-22    588.0  317.0  286.0  189.0  289.0  442.0  339.0  231.0   \n",
       "gene_Tb427VSG-1117    0.0    0.0    0.0    0.0    0.0    0.0    0.0    0.0   \n",
       "\n",
       "                     A2-4   A2-0  A1-20  A1-12   A1-8   A1-4   A1-0  length  \\\n",
       "gene_Tb427VSG-3039  372.0  728.0  655.0  544.0  510.0  341.0  697.0    1346   \n",
       "gene_Tb427VSG-23     26.0   50.0  182.0   82.0   55.0   27.0   48.0    1541   \n",
       "gene_Tb427VSG-649    97.0  134.0  228.0  141.0  122.0   88.0  126.0    1361   \n",
       "gene_Tb427VSG-22    177.0  286.0  607.0  429.0  320.0  196.0  269.0    1367   \n",
       "gene_Tb427VSG-1117    0.0    1.0    0.0    0.0    0.0    0.0    1.0    1529   \n",
       "\n",
       "                    gccontent  length_aa  length_kb category  \n",
       "gene_Tb427VSG-3039   0.505201      449.0      1.346       MC  \n",
       "gene_Tb427VSG-23     0.514601      514.0      1.541       MC  \n",
       "gene_Tb427VSG-649    0.511389      454.0      1.361       MC  \n",
       "gene_Tb427VSG-22     0.493050      456.0      1.367       MC  \n",
       "gene_Tb427VSG-1117   0.531720      510.0      1.529     none  "
      ]
     },
     "execution_count": 102,
     "metadata": {},
     "output_type": "execute_result"
    }
   ],
   "source": [
    "temp.head()"
   ]
  },
  {
   "cell_type": "code",
   "execution_count": 103,
   "metadata": {},
   "outputs": [],
   "source": [
    "#data=temp.groupby('category').mean().iloc[:,0:15].T.drop('none',axis=1)\n",
    "#data.head()\n",
    "#data.plot(kind='box')\n",
    "#data.head()"
   ]
  },
  {
   "cell_type": "code",
   "execution_count": 77,
   "metadata": {},
   "outputs": [],
   "source": [
    "#data = temp.groupby('category').mean().iloc[:,0:15].T.drop('none',axis=1)\n",
    "#import seaborn.apionly as sns \n",
    "#tips = sns.load_dataset(\"tips\")\n",
    "#sns.boxplot(\"day\", \"tip\", data=data, boxprops={'facecolor':'None'})\n",
    "#sns.swarmplot(\"day\", \"tip\", data=tips, zorder=.5)"
   ]
  },
  {
   "cell_type": "code",
   "execution_count": 87,
   "metadata": {},
   "outputs": [],
   "source": [
    "#temp.head()"
   ]
  },
  {
   "cell_type": "code",
   "execution_count": 104,
   "metadata": {},
   "outputs": [],
   "source": [
    "temp['y1']=temp['A3-8']/temp['A3-4']\n",
    "temp['y2']=temp['A2-8']/temp['A2-4']\n",
    "temp['y3']=temp['A1-8']/temp['A1-4']\n",
    "temp['std']=temp[['y1','y2','y3']].std(axis=1)\n",
    "temp['mean']=temp[['y1','y2','y3']].mean(axis=1)"
   ]
  },
  {
   "cell_type": "code",
   "execution_count": 105,
   "metadata": {},
   "outputs": [],
   "source": [
    "temp.to_csv('vsg_only.csv')"
   ]
  },
  {
   "cell_type": "code",
   "execution_count": 106,
   "metadata": {},
   "outputs": [
    {
     "data": {
      "image/png": "[encoded data removed]",
      "text/plain": [
       "<Figure size 432x288 with 1 Axes>"
      ]
     },
     "metadata": {},
     "output_type": "display_data"
    }
   ],
   "source": [
    "\n",
    "to_plot = temp[temp['category']=='BES']\n",
    "\n",
    "#temp.plot(y='y1',x='length_aa',kind='scatter')\n",
    "fig,ax = plt.subplots()\n",
    "ax.errorbar(to_plot['length_aa'],to_plot['mean'], yerr=to_plot['std'],fmt='o')\n",
    "\n",
    "from sklearn.linear_model import LinearRegression\n",
    "regr = LinearRegression(fit_intercept=True)\n",
    "X=np.array(to_plot['length_aa']).reshape(-1, 1)\n",
    "regr.fit(X, to_plot['mean'])\n",
    "\n",
    "plt.plot(to_plot['length_aa'], regr.predict(X), \n",
    "         color='red', linewidth=2)\n",
    "plt.title('BES')\n",
    "plt.savefig('bes.png')"
   ]
  },
  {
   "cell_type": "code",
   "execution_count": 107,
   "metadata": {},
   "outputs": [
    {
     "data": {
      "image/png": "[encoded data removed]",
      "text/plain": [
       "<Figure size 432x288 with 1 Axes>"
      ]
     },
     "metadata": {},
     "output_type": "display_data"
    }
   ],
   "source": [
    "to_plot = temp[temp['category']=='MC']\n",
    "\n",
    "#temp.plot(y='y1',x='length_aa',kind='scatter')\n",
    "fig,ax = plt.subplots()\n",
    "ax.errorbar(to_plot['length_aa'],to_plot['mean'], yerr=to_plot['std'],fmt='o')\n",
    "\n",
    "from sklearn.linear_model import LinearRegression\n",
    "regr = LinearRegression(fit_intercept=True)\n",
    "X=np.array(to_plot['length_aa']).reshape(-1, 1)\n",
    "regr.fit(X, to_plot['mean'])\n",
    "\n",
    "plt.plot(to_plot['length_aa'], regr.predict(X), \n",
    "         color='red', linewidth=2)\n",
    "plt.title('MC')\n",
    "plt.savefig('mc.png')"
   ]
  },
  {
   "cell_type": "code",
   "execution_count": 129,
   "metadata": {},
   "outputs": [
    {
     "data": {
      "text/html": [
       "<div>\n",
       "<style scoped>\n",
       "    .dataframe tbody tr th:only-of-type {\n",
       "        vertical-align: middle;\n",
       "    }\n",
       "\n",
       "    .dataframe tbody tr th {\n",
       "        vertical-align: top;\n",
       "    }\n",
       "\n",
       "    .dataframe thead th {\n",
       "        text-align: right;\n",
       "    }\n",
       "</style>\n",
       "<table border=\"1\" class=\"dataframe\">\n",
       "  <thead>\n",
       "    <tr style=\"text-align: right;\">\n",
       "      <th></th>\n",
       "      <th>A3-20</th>\n",
       "      <th>A3-12</th>\n",
       "      <th>A3-8</th>\n",
       "      <th>A3-4</th>\n",
       "      <th>A3-0</th>\n",
       "      <th>A2-20</th>\n",
       "      <th>A2-12</th>\n",
       "      <th>A2-8</th>\n",
       "      <th>A2-4</th>\n",
       "      <th>A2-0</th>\n",
       "      <th>...</th>\n",
       "      <th>A1-0</th>\n",
       "      <th>length</th>\n",
       "      <th>gccontent</th>\n",
       "      <th>length_aa</th>\n",
       "      <th>length_kb</th>\n",
       "      <th>y1</th>\n",
       "      <th>y2</th>\n",
       "      <th>y3</th>\n",
       "      <th>std</th>\n",
       "      <th>mean</th>\n",
       "    </tr>\n",
       "  </thead>\n",
       "  <tbody>\n",
       "    <tr>\n",
       "      <th>gene_Tb427VSG-3039</th>\n",
       "      <td>1575.0</td>\n",
       "      <td>1335.0</td>\n",
       "      <td>1785.0</td>\n",
       "      <td>755.0</td>\n",
       "      <td>1564.0</td>\n",
       "      <td>945.0</td>\n",
       "      <td>1619.0</td>\n",
       "      <td>1334.0</td>\n",
       "      <td>945.0</td>\n",
       "      <td>1443.0</td>\n",
       "      <td>...</td>\n",
       "      <td>1214.0</td>\n",
       "      <td>1346</td>\n",
       "      <td>0.505201</td>\n",
       "      <td>449.0</td>\n",
       "      <td>1.346</td>\n",
       "      <td>2.364238</td>\n",
       "      <td>1.411640</td>\n",
       "      <td>1.456660</td>\n",
       "      <td>0.537458</td>\n",
       "      <td>1.744179</td>\n",
       "    </tr>\n",
       "    <tr>\n",
       "      <th>gene_Tb427VSG-23</th>\n",
       "      <td>232.0</td>\n",
       "      <td>90.0</td>\n",
       "      <td>78.0</td>\n",
       "      <td>38.0</td>\n",
       "      <td>63.0</td>\n",
       "      <td>114.0</td>\n",
       "      <td>85.0</td>\n",
       "      <td>54.0</td>\n",
       "      <td>35.0</td>\n",
       "      <td>65.0</td>\n",
       "      <td>...</td>\n",
       "      <td>62.0</td>\n",
       "      <td>1541</td>\n",
       "      <td>0.514601</td>\n",
       "      <td>514.0</td>\n",
       "      <td>1.541</td>\n",
       "      <td>2.052632</td>\n",
       "      <td>1.542857</td>\n",
       "      <td>1.945946</td>\n",
       "      <td>0.268866</td>\n",
       "      <td>1.847145</td>\n",
       "    </tr>\n",
       "    <tr>\n",
       "      <th>gene_Tb427VSG-649</th>\n",
       "      <td>276.0</td>\n",
       "      <td>197.0</td>\n",
       "      <td>148.0</td>\n",
       "      <td>108.0</td>\n",
       "      <td>164.0</td>\n",
       "      <td>279.0</td>\n",
       "      <td>187.0</td>\n",
       "      <td>134.0</td>\n",
       "      <td>116.0</td>\n",
       "      <td>162.0</td>\n",
       "      <td>...</td>\n",
       "      <td>151.0</td>\n",
       "      <td>1361</td>\n",
       "      <td>0.511389</td>\n",
       "      <td>454.0</td>\n",
       "      <td>1.361</td>\n",
       "      <td>1.370370</td>\n",
       "      <td>1.155172</td>\n",
       "      <td>1.411215</td>\n",
       "      <td>0.137560</td>\n",
       "      <td>1.312253</td>\n",
       "    </tr>\n",
       "    <tr>\n",
       "      <th>gene_Tb427VSG-22</th>\n",
       "      <td>608.0</td>\n",
       "      <td>372.0</td>\n",
       "      <td>352.0</td>\n",
       "      <td>222.0</td>\n",
       "      <td>346.0</td>\n",
       "      <td>464.0</td>\n",
       "      <td>396.0</td>\n",
       "      <td>273.0</td>\n",
       "      <td>211.0</td>\n",
       "      <td>339.0</td>\n",
       "      <td>...</td>\n",
       "      <td>322.0</td>\n",
       "      <td>1367</td>\n",
       "      <td>0.493050</td>\n",
       "      <td>456.0</td>\n",
       "      <td>1.367</td>\n",
       "      <td>1.585586</td>\n",
       "      <td>1.293839</td>\n",
       "      <td>1.656780</td>\n",
       "      <td>0.192315</td>\n",
       "      <td>1.512068</td>\n",
       "    </tr>\n",
       "    <tr>\n",
       "      <th>gene_Tb427VSG-1387</th>\n",
       "      <td>8.0</td>\n",
       "      <td>20.0</td>\n",
       "      <td>26.0</td>\n",
       "      <td>36.0</td>\n",
       "      <td>88.0</td>\n",
       "      <td>9.0</td>\n",
       "      <td>17.0</td>\n",
       "      <td>22.0</td>\n",
       "      <td>34.0</td>\n",
       "      <td>89.0</td>\n",
       "      <td>...</td>\n",
       "      <td>83.0</td>\n",
       "      <td>1451</td>\n",
       "      <td>0.469332</td>\n",
       "      <td>484.0</td>\n",
       "      <td>1.451</td>\n",
       "      <td>0.722222</td>\n",
       "      <td>0.647059</td>\n",
       "      <td>0.696970</td>\n",
       "      <td>0.038250</td>\n",
       "      <td>0.688750</td>\n",
       "    </tr>\n",
       "  </tbody>\n",
       "</table>\n",
       "<p>5 rows × 24 columns</p>\n",
       "</div>"
      ],
      "text/plain": [
       "                     A3-20   A3-12    A3-8   A3-4    A3-0  A2-20   A2-12  \\\n",
       "gene_Tb427VSG-3039  1575.0  1335.0  1785.0  755.0  1564.0  945.0  1619.0   \n",
       "gene_Tb427VSG-23     232.0    90.0    78.0   38.0    63.0  114.0    85.0   \n",
       "gene_Tb427VSG-649    276.0   197.0   148.0  108.0   164.0  279.0   187.0   \n",
       "gene_Tb427VSG-22     608.0   372.0   352.0  222.0   346.0  464.0   396.0   \n",
       "gene_Tb427VSG-1387     8.0    20.0    26.0   36.0    88.0    9.0    17.0   \n",
       "\n",
       "                      A2-8   A2-4    A2-0  ...    A1-0  length  gccontent  \\\n",
       "gene_Tb427VSG-3039  1334.0  945.0  1443.0  ...  1214.0    1346   0.505201   \n",
       "gene_Tb427VSG-23      54.0   35.0    65.0  ...    62.0    1541   0.514601   \n",
       "gene_Tb427VSG-649    134.0  116.0   162.0  ...   151.0    1361   0.511389   \n",
       "gene_Tb427VSG-22     273.0  211.0   339.0  ...   322.0    1367   0.493050   \n",
       "gene_Tb427VSG-1387    22.0   34.0    89.0  ...    83.0    1451   0.469332   \n",
       "\n",
       "                    length_aa  length_kb        y1        y2        y3  \\\n",
       "gene_Tb427VSG-3039      449.0      1.346  2.364238  1.411640  1.456660   \n",
       "gene_Tb427VSG-23        514.0      1.541  2.052632  1.542857  1.945946   \n",
       "gene_Tb427VSG-649       454.0      1.361  1.370370  1.155172  1.411215   \n",
       "gene_Tb427VSG-22        456.0      1.367  1.585586  1.293839  1.656780   \n",
       "gene_Tb427VSG-1387      484.0      1.451  0.722222  0.647059  0.696970   \n",
       "\n",
       "                         std      mean  \n",
       "gene_Tb427VSG-3039  0.537458  1.744179  \n",
       "gene_Tb427VSG-23    0.268866  1.847145  \n",
       "gene_Tb427VSG-649   0.137560  1.312253  \n",
       "gene_Tb427VSG-22    0.192315  1.512068  \n",
       "gene_Tb427VSG-1387  0.038250  0.688750  \n",
       "\n",
       "[5 rows x 24 columns]"
      ]
     },
     "execution_count": 129,
     "metadata": {},
     "output_type": "execute_result"
    }
   ],
   "source": [
    "temp."
   ]
  },
  {
   "cell_type": "code",
   "execution_count": 86,
   "metadata": {},
   "outputs": [
    {
     "name": "stdout",
     "output_type": "stream",
     "text": [
      "[NbConvertApp] Converting notebook FiguresPaper-927-unique_10.ipynb to html_toc\n",
      "[NbConvertApp] Support files will be in FiguresPaper-927-unique_10_files/\n",
      "[NbConvertApp] Making directory save_notebook/FiguresPaper-927-unique_10_files\n",
      "[NbConvertApp] Making directory save_notebook/FiguresPaper-927-unique_10_files\n",
      "[NbConvertApp] Making directory save_notebook/FiguresPaper-927-unique_10_files\n",
      "[NbConvertApp] Making directory save_notebook/FiguresPaper-927-unique_10_files\n",
      "[NbConvertApp] Making directory save_notebook/FiguresPaper-927-unique_10_files\n",
      "[NbConvertApp] Making directory save_notebook/FiguresPaper-927-unique_10_files\n",
      "[NbConvertApp] Making directory save_notebook/FiguresPaper-927-unique_10_files\n",
      "[NbConvertApp] Making directory save_notebook/FiguresPaper-927-unique_10_files\n",
      "[NbConvertApp] Making directory save_notebook/FiguresPaper-927-unique_10_files\n",
      "[NbConvertApp] Making directory save_notebook/FiguresPaper-927-unique_10_files\n",
      "[NbConvertApp] Making directory save_notebook/FiguresPaper-927-unique_10_files\n",
      "[NbConvertApp] Making directory save_notebook/FiguresPaper-927-unique_10_files\n",
      "[NbConvertApp] Making directory save_notebook/FiguresPaper-927-unique_10_files\n",
      "[NbConvertApp] Making directory save_notebook/FiguresPaper-927-unique_10_files\n",
      "[NbConvertApp] Making directory save_notebook/FiguresPaper-927-unique_10_files\n",
      "[NbConvertApp] Making directory save_notebook/FiguresPaper-927-unique_10_files\n",
      "[NbConvertApp] Making directory save_notebook/FiguresPaper-927-unique_10_files\n",
      "[NbConvertApp] Making directory save_notebook/FiguresPaper-927-unique_10_files\n",
      "[NbConvertApp] Writing 514387 bytes to save_notebook/FiguresPaper-927-unique_10.html\n"
     ]
    }
   ],
   "source": [
    "!jupyter nbconvert --to html_toc --output-dir save_notebook FiguresPaper-927-unique_10.ipynb "
   ]
  },
  {
   "cell_type": "code",
   "execution_count": null,
   "metadata": {},
   "outputs": [],
   "source": []
  }
 ],
 "metadata": {
  "finalized": {
   "timestamp": 1614171078027,
   "trusted": true
  },
  "kernelspec": {
   "display_name": "Python [conda env:ritSeq]",
   "language": "python",
   "name": "conda-env-ritSeq-py"
  },
  "language_info": {
   "codemirror_mode": {
    "name": "ipython",
    "version": 3
   },
   "file_extension": ".py",
   "mimetype": "text/x-python",
   "name": "python",
   "nbconvert_exporter": "python",
   "pygments_lexer": "ipython3",
   "version": "3.7.3"
  },
  "toc": {
   "base_numbering": 1,
   "nav_menu": {},
   "number_sections": true,
   "sideBar": true,
   "skip_h1_title": false,
   "title_cell": "Table of Contents",
   "title_sidebar": "Contents",
   "toc_cell": false,
   "toc_position": {},
   "toc_section_display": true,
   "toc_window_display": true
  }
 },
 "nbformat": 4,
 "nbformat_minor": 4
}
