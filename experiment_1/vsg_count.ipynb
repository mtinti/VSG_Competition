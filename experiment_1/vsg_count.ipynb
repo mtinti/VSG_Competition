{
 "cells": [
  {
   "cell_type": "markdown",
   "metadata": {},
   "source": [
    "![title](static/wcar.png)"
   ]
  },
  {
   "cell_type": "markdown",
   "metadata": {},
   "source": [
    "# Victor VSGs in *Trypanosoma brucei*"
   ]
  },
  {
   "cell_type": "markdown",
   "metadata": {},
   "source": []
  },
  {
   "cell_type": "markdown",
   "metadata": {},
   "source": [
    "## set up notebook"
   ]
  },
  {
   "cell_type": "code",
   "execution_count": 1,
   "metadata": {},
   "outputs": [],
   "source": [
    "#!rm genomes/tb927_6/*"
   ]
  },
  {
   "cell_type": "code",
   "execution_count": 1,
   "metadata": {},
   "outputs": [],
   "source": [
    "#reload when modified\n",
    "%load_ext autoreload\n",
    "%autoreload 2\n",
    "#activate r magic\n",
    "%load_ext rpy2.ipython\n",
    "%matplotlib inline"
   ]
  },
  {
   "cell_type": "code",
   "execution_count": 2,
   "metadata": {},
   "outputs": [],
   "source": [
    "import os\n",
    "import pandas as pd\n",
    "import numpy as np\n",
    "import matplotlib.pyplot as plt\n",
    "import seaborn as sns\n",
    "import utilities as UT\n",
    "import missingno as msno\n",
    "import random\n",
    "import matplotlib.pyplot as plt\n",
    "import matplotlib.patches as patches\n",
    "import gc\n",
    "from io import StringIO\n",
    "from itertools import islice\n",
    "from Bio import SeqIO\n",
    "\n",
    "random.seed(1976)\n",
    "np.random.seed(1976)"
   ]
  },
  {
   "cell_type": "code",
   "execution_count": 3,
   "metadata": {},
   "outputs": [
    {
     "data": {
      "text/plain": [
       "56"
      ]
     },
     "execution_count": 3,
     "metadata": {},
     "output_type": "execute_result"
    }
   ],
   "source": [
    "import multiprocessing\n",
    "multiprocessing.cpu_count()"
   ]
  },
  {
   "cell_type": "markdown",
   "metadata": {},
   "source": [
    "# Data Anaylsis\n",
    "# using version 56 as it has full length vsgs"
   ]
  },
  {
   "cell_type": "code",
   "execution_count": 45,
   "metadata": {},
   "outputs": [],
   "source": [
    "!mkdir -p InData/CD_Search/\n",
    "!mkdir -p InData\n",
    "\n",
    "!gtf2bed < genomes/tb927_56/tb927_56.gtf > tb927_56.bed"
   ]
  },
  {
   "cell_type": "code",
   "execution_count": 46,
   "metadata": {},
   "outputs": [],
   "source": [
    "out = open('tb927_56_cds.bed','w')\n",
    "for l in open('tb927_56.bed'):\n",
    "    if l.split('\\t')[7]=='CDS':\n",
    "        out.write(l)\n",
    "out.close()   "
   ]
  },
  {
   "cell_type": "code",
   "execution_count": 47,
   "metadata": {},
   "outputs": [],
   "source": [
    "\n",
    "!bedtools nuc -fi genomes/tb927_56/tb927_56.fa -bed tb927_56_cds.bed > InData/GC_content_927.txt\n",
    "\n",
    "#!cp genomes/tb927_3/tb927_3.gff .\n",
    "\n",
    "!cp genomes/tb927_56/tb927_56.gtf .\n",
    "!cp genomes/tb927_56/tb927_56.fa .\n",
    "!cp genomes/tb927_56/tb927_56.fa.fai .\n",
    "\n",
    "#!wget https://tritrypdb.org/common/downloads/Current_Release/TbruceiTREU927/gaf/TriTrypDB-50_TbruceiTREU927_GO.gaf -O InData/TriTrypDB-50_TbruceiTREU927_GO.gaf\n",
    "\n"
   ]
  },
  {
   "cell_type": "markdown",
   "metadata": {},
   "source": [
    "## Experiment SetUp"
   ]
  },
  {
   "cell_type": "code",
   "execution_count": 8,
   "metadata": {},
   "outputs": [],
   "source": [
    "from IPython.display import Image"
   ]
  },
  {
   "cell_type": "code",
   "execution_count": 9,
   "metadata": {},
   "outputs": [],
   "source": [
    "#!less genomes/tb427/tb427.gff"
   ]
  },
  {
   "cell_type": "code",
   "execution_count": null,
   "metadata": {},
   "outputs": [],
   "source": []
  },
  {
   "cell_type": "code",
   "execution_count": null,
   "metadata": {},
   "outputs": [],
   "source": []
  },
  {
   "cell_type": "code",
   "execution_count": 10,
   "metadata": {},
   "outputs": [
    {
     "data": {
      "text/plain": [
       "'\\ndef chunk(it, size):\\n    it = iter(it)\\n    return iter(lambda: tuple(islice(it, size)), ())\\n\\nout = []\\nrecord_dict = {}\\nwith open(\"InData/TriTrypDB-50_TbruceiLister427_2018_AnnotatedProteins.fasta\") as handle:\\n    for index, record in enumerate(SeqIO.parse(handle, \"fasta\")):\\n        record_dict[\\'seq_\\'+str(index)] = record.id\\n        record.id = \\'seq_\\'+str(index)\\n        out.append(record)\\n        #break\\n\\n\\n!mkdir -p InData/CD_Search/\\nfor index,ch in enumerate(chunk(out, 3000)):\\n    fname = \\'InData/CD_Search/indata_CD_Search_427_\\'+str(index)\\n    fout = open(fname, \\'w\\')\\n    for record in ch:\\n        SeqIO.write( record,fout,\\'fasta\\')\\n    fout.close()\\n'"
      ]
     },
     "execution_count": 10,
     "metadata": {},
     "output_type": "execute_result"
    }
   ],
   "source": [
    "'''\n",
    "def chunk(it, size):\n",
    "    it = iter(it)\n",
    "    return iter(lambda: tuple(islice(it, size)), ())\n",
    "\n",
    "out = []\n",
    "record_dict = {}\n",
    "with open(\"InData/TriTrypDB-50_TbruceiLister427_2018_AnnotatedProteins.fasta\") as handle:\n",
    "    for index, record in enumerate(SeqIO.parse(handle, \"fasta\")):\n",
    "        record_dict['seq_'+str(index)] = record.id\n",
    "        record.id = 'seq_'+str(index)\n",
    "        out.append(record)\n",
    "        #break\n",
    "\n",
    "\n",
    "!mkdir -p InData/CD_Search/\n",
    "for index,ch in enumerate(chunk(out, 3000)):\n",
    "    fname = 'InData/CD_Search/indata_CD_Search_427_'+str(index)\n",
    "    fout = open(fname, 'w')\n",
    "    for record in ch:\n",
    "        SeqIO.write( record,fout,'fasta')\n",
    "    fout.close()\n",
    "'''    "
   ]
  },
  {
   "cell_type": "code",
   "execution_count": 11,
   "metadata": {},
   "outputs": [
    {
     "name": "stdout",
     "output_type": "stream",
     "text": [
      "427_0_hitdata.txt  927_1_hitdata.txt\t   indata_CD_Search_427_4\n",
      "427_1_hitdata.txt  927_2_hitdata.txt\t   indata_CD_Search_427_5\n",
      "427_2_hitdata.txt  927_3_hitdata.txt\t   indata_CD_Search_927_0\n",
      "427_3_hitdata.txt  indata_CD_Search_427_0  indata_CD_Search_927_1\n",
      "427_4_hitdata.txt  indata_CD_Search_427_1  indata_CD_Search_927_2\n",
      "427_5_hitdata.txt  indata_CD_Search_427_2  indata_CD_Search_927_3\n",
      "927_0_hitdata.txt  indata_CD_Search_427_3\n"
     ]
    }
   ],
   "source": [
    "!ls /cluster/majf_lab/mtinti/Calvin/ESAG3_RNAi/F21FTSEUHT2083_TRYeqlrR/clean/InData/CD_Search/"
   ]
  },
  {
   "cell_type": "code",
   "execution_count": 12,
   "metadata": {},
   "outputs": [
    {
     "data": {
      "text/html": [
       "<div>\n",
       "<style scoped>\n",
       "    .dataframe tbody tr th:only-of-type {\n",
       "        vertical-align: middle;\n",
       "    }\n",
       "\n",
       "    .dataframe tbody tr th {\n",
       "        vertical-align: top;\n",
       "    }\n",
       "\n",
       "    .dataframe thead th {\n",
       "        text-align: right;\n",
       "    }\n",
       "</style>\n",
       "<table border=\"1\" class=\"dataframe\">\n",
       "  <thead>\n",
       "    <tr style=\"text-align: right;\">\n",
       "      <th></th>\n",
       "      <th>Query</th>\n",
       "      <th>Hit type</th>\n",
       "      <th>PSSM-ID</th>\n",
       "      <th>From</th>\n",
       "      <th>To</th>\n",
       "      <th>E-Value</th>\n",
       "      <th>Bitscore</th>\n",
       "      <th>Accession</th>\n",
       "      <th>Short name</th>\n",
       "      <th>Incomplete</th>\n",
       "      <th>Superfamily</th>\n",
       "      <th>seq_id</th>\n",
       "      <th>gene_id</th>\n",
       "    </tr>\n",
       "  </thead>\n",
       "  <tbody>\n",
       "    <tr>\n",
       "      <th>2016</th>\n",
       "      <td>Q#2196 - &gt;seq_11195 Tb11.1690:pseudogenic_tran...</td>\n",
       "      <td>non-specific</td>\n",
       "      <td>395732</td>\n",
       "      <td>88</td>\n",
       "      <td>403</td>\n",
       "      <td>2.926680e-04</td>\n",
       "      <td>43.1506</td>\n",
       "      <td>pfam00913</td>\n",
       "      <td>Trypan_glycop</td>\n",
       "      <td>-</td>\n",
       "      <td>-</td>\n",
       "      <td>seq_11195</td>\n",
       "      <td>Tb11.1690</td>\n",
       "    </tr>\n",
       "    <tr>\n",
       "      <th>2017</th>\n",
       "      <td>Q#2196 - &gt;seq_11195 Tb11.1690:pseudogenic_tran...</td>\n",
       "      <td>superfamily</td>\n",
       "      <td>287612</td>\n",
       "      <td>475</td>\n",
       "      <td>514</td>\n",
       "      <td>8.069620e-03</td>\n",
       "      <td>36.2338</td>\n",
       "      <td>cl11264</td>\n",
       "      <td>Trypan_glycop_C superfamily</td>\n",
       "      <td>C</td>\n",
       "      <td>-</td>\n",
       "      <td>seq_11195</td>\n",
       "      <td>Tb11.1690</td>\n",
       "    </tr>\n",
       "    <tr>\n",
       "      <th>2018</th>\n",
       "      <td>Q#2197 - &gt;seq_11196 Tb11.1700:pseudogenic_tran...</td>\n",
       "      <td>non-specific</td>\n",
       "      <td>395732</td>\n",
       "      <td>216</td>\n",
       "      <td>516</td>\n",
       "      <td>9.775360e-07</td>\n",
       "      <td>50.8546</td>\n",
       "      <td>pfam00913</td>\n",
       "      <td>Trypan_glycop</td>\n",
       "      <td>-</td>\n",
       "      <td>-</td>\n",
       "      <td>seq_11196</td>\n",
       "      <td>Tb11.1700</td>\n",
       "    </tr>\n",
       "    <tr>\n",
       "      <th>2019</th>\n",
       "      <td>Q#2202 - &gt;seq_11201 Tb11.1800:pseudogenic_tran...</td>\n",
       "      <td>superfamily</td>\n",
       "      <td>302859</td>\n",
       "      <td>1</td>\n",
       "      <td>387</td>\n",
       "      <td>4.186380e-164</td>\n",
       "      <td>478.5540</td>\n",
       "      <td>cl19421</td>\n",
       "      <td>RHSP superfamily</td>\n",
       "      <td>C</td>\n",
       "      <td>-</td>\n",
       "      <td>seq_11201</td>\n",
       "      <td>Tb11.1800</td>\n",
       "    </tr>\n",
       "    <tr>\n",
       "      <th>2020</th>\n",
       "      <td>Q#2203 - &gt;seq_11202 Tb11.1810.1-p1 | transcrip...</td>\n",
       "      <td>superfamily</td>\n",
       "      <td>302859</td>\n",
       "      <td>1</td>\n",
       "      <td>222</td>\n",
       "      <td>7.326060e-103</td>\n",
       "      <td>315.2300</td>\n",
       "      <td>cl19421</td>\n",
       "      <td>RHSP superfamily</td>\n",
       "      <td>N</td>\n",
       "      <td>-</td>\n",
       "      <td>seq_11202</td>\n",
       "      <td>Tb11.1810</td>\n",
       "    </tr>\n",
       "  </tbody>\n",
       "</table>\n",
       "</div>"
      ],
      "text/plain": [
       "                                                  Query      Hit type  \\\n",
       "2016  Q#2196 - >seq_11195 Tb11.1690:pseudogenic_tran...  non-specific   \n",
       "2017  Q#2196 - >seq_11195 Tb11.1690:pseudogenic_tran...   superfamily   \n",
       "2018  Q#2197 - >seq_11196 Tb11.1700:pseudogenic_tran...  non-specific   \n",
       "2019  Q#2202 - >seq_11201 Tb11.1800:pseudogenic_tran...   superfamily   \n",
       "2020  Q#2203 - >seq_11202 Tb11.1810.1-p1 | transcrip...   superfamily   \n",
       "\n",
       "      PSSM-ID  From   To        E-Value  Bitscore  Accession  \\\n",
       "2016   395732    88  403   2.926680e-04   43.1506  pfam00913   \n",
       "2017   287612   475  514   8.069620e-03   36.2338    cl11264   \n",
       "2018   395732   216  516   9.775360e-07   50.8546  pfam00913   \n",
       "2019   302859     1  387  4.186380e-164  478.5540    cl19421   \n",
       "2020   302859     1  222  7.326060e-103  315.2300    cl19421   \n",
       "\n",
       "                       Short name Incomplete Superfamily     seq_id    gene_id  \n",
       "2016                Trypan_glycop         -           -   seq_11195  Tb11.1690  \n",
       "2017  Trypan_glycop_C superfamily          C          -   seq_11195  Tb11.1690  \n",
       "2018                Trypan_glycop         -           -   seq_11196  Tb11.1700  \n",
       "2019             RHSP superfamily          C          -   seq_11201  Tb11.1800  \n",
       "2020             RHSP superfamily          N          -   seq_11202  Tb11.1810  "
      ]
     },
     "execution_count": 12,
     "metadata": {},
     "output_type": "execute_result"
    }
   ],
   "source": [
    "#path = '/cluster/majf_lab/mtinti/Calvin/ESAG3_RNAi/F21FTSEUHT2083_TRYeqlrR/clean/InData/CD_Search/'\n",
    "\n",
    "def get_fasta_desc(fasta_desc):\n",
    "    res = {}\n",
    "    for n in fasta_desc.split(\" | \"):\n",
    "        if '=' in n:\n",
    "            key = n.split('=')[0].strip()\n",
    "            value = n.split('=')[1].strip()\n",
    "            res[key]=value\n",
    "    return res\n",
    "\n",
    "# from io import StringIO\n",
    "def read_csv(filename, comment='#', sep='\\t', ):\n",
    "    lines = \"\".join([line for line in open(filename) \n",
    "                     if not line.startswith(comment)])\n",
    "    return pd.read_csv(StringIO(lines), sep=sep)\n",
    "\n",
    "df_list = []\n",
    "for f in ['InData/CD_Search/927_{}_hitdata.txt'.format(n) for n in range(0,4)]:\n",
    "    temp = read_csv(f)\n",
    "    temp['seq_id'] = [n.split(' ')[2][1:] for n in temp['Query']]\n",
    "    temp['gene_id'] = [get_fasta_desc(n)['gene'] for n in temp['Query']]\n",
    "    df_list.append(temp)\n",
    "df_domains=pd.concat(df_list)\n",
    "df_domains.tail()\n",
    "\n"
   ]
  },
  {
   "cell_type": "code",
   "execution_count": null,
   "metadata": {},
   "outputs": [],
   "source": []
  },
  {
   "cell_type": "code",
   "execution_count": 13,
   "metadata": {},
   "outputs": [
    {
     "data": {
      "text/plain": [
       "'VSG_B; Trypan_glycop_C'"
      ]
     },
     "execution_count": 13,
     "metadata": {},
     "output_type": "execute_result"
    }
   ],
   "source": [
    "domain_dict = {}\n",
    "for temp_id in df_domains.gene_id.unique():\n",
    "    temp = df_domains[df_domains['gene_id']==temp_id]\n",
    "    domains = list(temp['Short name'].values) \n",
    "    domains = '; '.join(domains)\n",
    "    domain_dict[temp_id]=domains\n",
    "domain_dict[list(domain_dict.keys())[0]]"
   ]
  },
  {
   "cell_type": "code",
   "execution_count": 14,
   "metadata": {},
   "outputs": [],
   "source": [
    "#create a dictionary of gene to desc\n",
    "#from the gff file\n",
    "def make_desc(_GFF):\n",
    "    gff =pd.read_csv( _GFF, sep='\\t', header=None, comment='#')\n",
    "    #print(gff)\n",
    "    gff = gff[gff.iloc[:,2].str.contains('gene')]\n",
    "    #print( gff[gff[gff.columns[-1]].str.contains('Tb427_020006200')] )\n",
    "    #print(gff)\n",
    "    desc = {}\n",
    "    chr_dict = {}\n",
    "    start_dict = {}\n",
    "    sense_dict = {}\n",
    "    for index,n in enumerate(gff.iloc[:,-1]):\n",
    "        n=n.replace('%2C',' ')\n",
    "        item_list = n.split(';')\n",
    "        #print (item_list)\n",
    "        temp_dict = {}\n",
    "        for m in item_list:\n",
    "            #print(m)\n",
    "            temp_dict[m.split('=')[0].strip()]=m.split('=')[1].strip()\n",
    "        #print(temp_dict['ID'])\n",
    "        #print(temp_dict['description'])\n",
    "        desc[temp_dict['ID']]=temp_dict.get('description','none')\n",
    "        chr_dict[temp_dict['ID']]=gff.iloc[index][0]\n",
    "        start_dict[temp_dict['ID']]=gff.iloc[index][3]\n",
    "        sense_dict[temp_dict['ID']]=gff.iloc[index][6]\n",
    "        \n",
    "    return desc,chr_dict,start_dict,sense_dict\n",
    "\n",
    "desc_dict_gff, _, _,_ = make_desc('InData/TriTrypDB-55_TbruceiTREU927.gff')\n",
    "\n",
    "#(list(desc_dict.keys())[0],\n",
    "# desc_dict[list(desc_dict.keys())[0]],\n",
    "# chr_dict[list(desc_dict.keys())[0]],\n",
    "# start_dict[list(desc_dict.keys())[0]],\n",
    "#sense_dict[list(desc_dict.keys())[0]],\n",
    "#)\n",
    "#desc_dict_gff"
   ]
  },
  {
   "cell_type": "code",
   "execution_count": 15,
   "metadata": {},
   "outputs": [],
   "source": [
    "#!cp genomes/tb427/tb427.gff ."
   ]
  },
  {
   "cell_type": "code",
   "execution_count": 16,
   "metadata": {},
   "outputs": [
    {
     "data": {
      "text/plain": [
       "('gene_Tb427VSG-3039', 'gene_Tb427VSG-3039', 'Tb427VSG-3039', 1, '+')"
      ]
     },
     "execution_count": 16,
     "metadata": {},
     "output_type": "execute_result"
    }
   ],
   "source": [
    "#create a dictionary of gene to desc\n",
    "#from the gff file\n",
    "def make_desc(_GFF):\n",
    "    gff =pd.read_csv( _GFF, sep='\\t', header=None, comment='#')\n",
    "    \n",
    "    gff = gff[gff.iloc[:,2]=='exon']\n",
    "    \n",
    "    #print( gff[gff[gff.columns[-1]].str.contains('Tb427_020006200')] )\n",
    "    desc = {}\n",
    "    chr_dict = {}\n",
    "    start_dict = {}\n",
    "    sense_dict = {}\n",
    "    for index,n in enumerate(gff.iloc[:,-1]):\n",
    "        #print(n)\n",
    "        n=n.replace('%2C',' ')\n",
    "        item_list = n.split(';')\n",
    "        item_list = [n for n in item_list if len(n)>0]\n",
    "        temp_dict = {}\n",
    "        \n",
    "        for m in item_list:\n",
    "            \n",
    "            temp_dict[m.strip().split(' ')[0].strip().replace('\\\"','')\n",
    "                     ]=m.strip().split(' ')[1].strip().replace('\\\"','')\n",
    "        #print(temp_dict)\n",
    "        #print(temp_dict['description'])\n",
    "        desc[temp_dict['gene_id']]=temp_dict.get('description',temp_dict['gene_id'])\n",
    "        chr_dict[temp_dict['gene_id']]=gff.iloc[index][0]\n",
    "        start_dict[temp_dict['gene_id']]=gff.iloc[index][3]\n",
    "        sense_dict[temp_dict['gene_id']]=gff.iloc[index][6]\n",
    "        \n",
    "    return desc,chr_dict,start_dict,sense_dict\n",
    "\n",
    "desc_dict, chr_dict, start_dict,sense_dict = make_desc('genomes/tb927_56/tb927_56.gtf')\n",
    "(list(desc_dict.keys())[0],\n",
    " desc_dict[list(desc_dict.keys())[0]],\n",
    " chr_dict[list(desc_dict.keys())[0]],\n",
    " start_dict[list(desc_dict.keys())[0]],\n",
    "sense_dict[list(desc_dict.keys())[0]],\n",
    ")"
   ]
  },
  {
   "cell_type": "code",
   "execution_count": 17,
   "metadata": {},
   "outputs": [],
   "source": [
    "desc_dict.update(desc_dict_gff)"
   ]
  },
  {
   "cell_type": "code",
   "execution_count": 18,
   "metadata": {},
   "outputs": [
    {
     "data": {
      "text/plain": [
       "'gene-Tb427.BES40.1'"
      ]
     },
     "execution_count": 18,
     "metadata": {},
     "output_type": "execute_result"
    }
   ],
   "source": [
    "desc_dict['gene-Tb427.BES40.1']"
   ]
  },
  {
   "cell_type": "code",
   "execution_count": 19,
   "metadata": {},
   "outputs": [
    {
     "data": {
      "text/plain": [
       "'gene_Tb427VSG-3039'"
      ]
     },
     "execution_count": 19,
     "metadata": {},
     "output_type": "execute_result"
    }
   ],
   "source": [
    "desc_dict['gene_Tb427VSG-3039']"
   ]
  },
  {
   "cell_type": "code",
   "execution_count": 20,
   "metadata": {},
   "outputs": [
    {
     "data": {
      "text/plain": [
       "['A3-20',\n",
       " 'A3-12',\n",
       " 'A3-8',\n",
       " 'A3-4',\n",
       " 'A3-0',\n",
       " 'A2-20',\n",
       " 'A2-12',\n",
       " 'A2-8',\n",
       " 'A2-4',\n",
       " 'A2-0',\n",
       " 'A1-20',\n",
       " 'A1-12',\n",
       " 'A1-8',\n",
       " 'A1-4',\n",
       " 'A1-0']"
      ]
     },
     "execution_count": 20,
     "metadata": {},
     "output_type": "execute_result"
    }
   ],
   "source": [
    "replace_list = eval(open('vars_def_927_10').read())\n",
    "list_df = [n['experiment'] for n in replace_list]\n",
    "list_df"
   ]
  },
  {
   "cell_type": "code",
   "execution_count": 21,
   "metadata": {},
   "outputs": [
    {
     "data": {
      "text/html": [
       "<div>\n",
       "<style scoped>\n",
       "    .dataframe tbody tr th:only-of-type {\n",
       "        vertical-align: middle;\n",
       "    }\n",
       "\n",
       "    .dataframe tbody tr th {\n",
       "        vertical-align: top;\n",
       "    }\n",
       "\n",
       "    .dataframe thead th {\n",
       "        text-align: right;\n",
       "    }\n",
       "</style>\n",
       "<table border=\"1\" class=\"dataframe\">\n",
       "  <thead>\n",
       "    <tr style=\"text-align: right;\">\n",
       "      <th></th>\n",
       "      <th>Chr</th>\n",
       "      <th>Start</th>\n",
       "      <th>End</th>\n",
       "      <th>Strand</th>\n",
       "      <th>Length</th>\n",
       "      <th>/tmp/345724.1.all.q/A3-20/A3-20sorted.bam</th>\n",
       "      <th>/tmp/345725.1.all.q/A3-12/A3-12sorted.bam</th>\n",
       "      <th>/tmp/345726.1.all.q/A3-8/A3-8sorted.bam</th>\n",
       "      <th>/tmp/345727.1.all.q/A3-4/A3-4sorted.bam</th>\n",
       "      <th>/tmp/345728.1.all.q/A3-0/A3-0sorted.bam</th>\n",
       "      <th>/tmp/345729.1.all.q/A2-20/A2-20sorted.bam</th>\n",
       "      <th>/tmp/345730.1.all.q/A2-12/A2-12sorted.bam</th>\n",
       "      <th>/tmp/345731.1.all.q/A2-8/A2-8sorted.bam</th>\n",
       "      <th>/tmp/345732.1.all.q/A2-4/A2-4sorted.bam</th>\n",
       "      <th>/tmp/345733.1.all.q/A2-0/A2-0sorted.bam</th>\n",
       "      <th>/tmp/345734.1.all.q/A1-20/A1-20sorted.bam</th>\n",
       "      <th>/tmp/345735.1.all.q/A1-12/A1-12sorted.bam</th>\n",
       "      <th>/tmp/345736.1.all.q/A1-8/A1-8sorted.bam</th>\n",
       "      <th>/tmp/345737.1.all.q/A1-4/A1-4sorted.bam</th>\n",
       "      <th>/tmp/345739.1.all.q/A1-0/A1-0sorted.bam</th>\n",
       "    </tr>\n",
       "    <tr>\n",
       "      <th>Geneid</th>\n",
       "      <th></th>\n",
       "      <th></th>\n",
       "      <th></th>\n",
       "      <th></th>\n",
       "      <th></th>\n",
       "      <th></th>\n",
       "      <th></th>\n",
       "      <th></th>\n",
       "      <th></th>\n",
       "      <th></th>\n",
       "      <th></th>\n",
       "      <th></th>\n",
       "      <th></th>\n",
       "      <th></th>\n",
       "      <th></th>\n",
       "      <th></th>\n",
       "      <th></th>\n",
       "      <th></th>\n",
       "      <th></th>\n",
       "      <th></th>\n",
       "    </tr>\n",
       "  </thead>\n",
       "  <tbody>\n",
       "    <tr>\n",
       "      <th>gene_Tb427VSG-3039</th>\n",
       "      <td>Tb427VSG-3039</td>\n",
       "      <td>1</td>\n",
       "      <td>1199</td>\n",
       "      <td>+</td>\n",
       "      <td>1199</td>\n",
       "      <td>17654</td>\n",
       "      <td>15437</td>\n",
       "      <td>16044</td>\n",
       "      <td>12611</td>\n",
       "      <td>24376</td>\n",
       "      <td>14417</td>\n",
       "      <td>15986</td>\n",
       "      <td>13800</td>\n",
       "      <td>12620</td>\n",
       "      <td>24089</td>\n",
       "      <td>21992</td>\n",
       "      <td>19008</td>\n",
       "      <td>17460</td>\n",
       "      <td>11516</td>\n",
       "      <td>22289</td>\n",
       "    </tr>\n",
       "    <tr>\n",
       "      <th>gene_Tb427VSG-23</th>\n",
       "      <td>Tb427VSG-23</td>\n",
       "      <td>1</td>\n",
       "      <td>1199</td>\n",
       "      <td>+</td>\n",
       "      <td>1199</td>\n",
       "      <td>7182</td>\n",
       "      <td>2706</td>\n",
       "      <td>2101</td>\n",
       "      <td>1215</td>\n",
       "      <td>1948</td>\n",
       "      <td>3466</td>\n",
       "      <td>2470</td>\n",
       "      <td>1569</td>\n",
       "      <td>1038</td>\n",
       "      <td>2001</td>\n",
       "      <td>7348</td>\n",
       "      <td>3430</td>\n",
       "      <td>2240</td>\n",
       "      <td>1102</td>\n",
       "      <td>1816</td>\n",
       "    </tr>\n",
       "    <tr>\n",
       "      <th>gene_Tb427VSG-649</th>\n",
       "      <td>Tb427VSG-649</td>\n",
       "      <td>1</td>\n",
       "      <td>1199</td>\n",
       "      <td>+</td>\n",
       "      <td>1199</td>\n",
       "      <td>8183</td>\n",
       "      <td>5802</td>\n",
       "      <td>3786</td>\n",
       "      <td>3362</td>\n",
       "      <td>4681</td>\n",
       "      <td>8279</td>\n",
       "      <td>5222</td>\n",
       "      <td>3754</td>\n",
       "      <td>3493</td>\n",
       "      <td>4692</td>\n",
       "      <td>8111</td>\n",
       "      <td>5231</td>\n",
       "      <td>4414</td>\n",
       "      <td>3128</td>\n",
       "      <td>4265</td>\n",
       "    </tr>\n",
       "    <tr>\n",
       "      <th>gene_Tb427VSG-22</th>\n",
       "      <td>Tb427VSG-22</td>\n",
       "      <td>1</td>\n",
       "      <td>1199</td>\n",
       "      <td>+</td>\n",
       "      <td>1199</td>\n",
       "      <td>18877</td>\n",
       "      <td>10857</td>\n",
       "      <td>9360</td>\n",
       "      <td>6867</td>\n",
       "      <td>10017</td>\n",
       "      <td>14328</td>\n",
       "      <td>11358</td>\n",
       "      <td>7733</td>\n",
       "      <td>6262</td>\n",
       "      <td>9934</td>\n",
       "      <td>19855</td>\n",
       "      <td>15453</td>\n",
       "      <td>11468</td>\n",
       "      <td>6854</td>\n",
       "      <td>9035</td>\n",
       "    </tr>\n",
       "    <tr>\n",
       "      <th>gene_Tb427VSG-1117</th>\n",
       "      <td>Tb427VSG-1117</td>\n",
       "      <td>1</td>\n",
       "      <td>1199</td>\n",
       "      <td>+</td>\n",
       "      <td>1199</td>\n",
       "      <td>0</td>\n",
       "      <td>0</td>\n",
       "      <td>0</td>\n",
       "      <td>0</td>\n",
       "      <td>17</td>\n",
       "      <td>0</td>\n",
       "      <td>0</td>\n",
       "      <td>3</td>\n",
       "      <td>0</td>\n",
       "      <td>20</td>\n",
       "      <td>0</td>\n",
       "      <td>0</td>\n",
       "      <td>0</td>\n",
       "      <td>0</td>\n",
       "      <td>25</td>\n",
       "    </tr>\n",
       "  </tbody>\n",
       "</table>\n",
       "</div>"
      ],
      "text/plain": [
       "                              Chr Start   End Strand  Length  \\\n",
       "Geneid                                                         \n",
       "gene_Tb427VSG-3039  Tb427VSG-3039     1  1199      +    1199   \n",
       "gene_Tb427VSG-23      Tb427VSG-23     1  1199      +    1199   \n",
       "gene_Tb427VSG-649    Tb427VSG-649     1  1199      +    1199   \n",
       "gene_Tb427VSG-22      Tb427VSG-22     1  1199      +    1199   \n",
       "gene_Tb427VSG-1117  Tb427VSG-1117     1  1199      +    1199   \n",
       "\n",
       "                    /tmp/345724.1.all.q/A3-20/A3-20sorted.bam  \\\n",
       "Geneid                                                          \n",
       "gene_Tb427VSG-3039                                      17654   \n",
       "gene_Tb427VSG-23                                         7182   \n",
       "gene_Tb427VSG-649                                        8183   \n",
       "gene_Tb427VSG-22                                        18877   \n",
       "gene_Tb427VSG-1117                                          0   \n",
       "\n",
       "                    /tmp/345725.1.all.q/A3-12/A3-12sorted.bam  \\\n",
       "Geneid                                                          \n",
       "gene_Tb427VSG-3039                                      15437   \n",
       "gene_Tb427VSG-23                                         2706   \n",
       "gene_Tb427VSG-649                                        5802   \n",
       "gene_Tb427VSG-22                                        10857   \n",
       "gene_Tb427VSG-1117                                          0   \n",
       "\n",
       "                    /tmp/345726.1.all.q/A3-8/A3-8sorted.bam  \\\n",
       "Geneid                                                        \n",
       "gene_Tb427VSG-3039                                    16044   \n",
       "gene_Tb427VSG-23                                       2101   \n",
       "gene_Tb427VSG-649                                      3786   \n",
       "gene_Tb427VSG-22                                       9360   \n",
       "gene_Tb427VSG-1117                                        0   \n",
       "\n",
       "                    /tmp/345727.1.all.q/A3-4/A3-4sorted.bam  \\\n",
       "Geneid                                                        \n",
       "gene_Tb427VSG-3039                                    12611   \n",
       "gene_Tb427VSG-23                                       1215   \n",
       "gene_Tb427VSG-649                                      3362   \n",
       "gene_Tb427VSG-22                                       6867   \n",
       "gene_Tb427VSG-1117                                        0   \n",
       "\n",
       "                    /tmp/345728.1.all.q/A3-0/A3-0sorted.bam  \\\n",
       "Geneid                                                        \n",
       "gene_Tb427VSG-3039                                    24376   \n",
       "gene_Tb427VSG-23                                       1948   \n",
       "gene_Tb427VSG-649                                      4681   \n",
       "gene_Tb427VSG-22                                      10017   \n",
       "gene_Tb427VSG-1117                                       17   \n",
       "\n",
       "                    /tmp/345729.1.all.q/A2-20/A2-20sorted.bam  \\\n",
       "Geneid                                                          \n",
       "gene_Tb427VSG-3039                                      14417   \n",
       "gene_Tb427VSG-23                                         3466   \n",
       "gene_Tb427VSG-649                                        8279   \n",
       "gene_Tb427VSG-22                                        14328   \n",
       "gene_Tb427VSG-1117                                          0   \n",
       "\n",
       "                    /tmp/345730.1.all.q/A2-12/A2-12sorted.bam  \\\n",
       "Geneid                                                          \n",
       "gene_Tb427VSG-3039                                      15986   \n",
       "gene_Tb427VSG-23                                         2470   \n",
       "gene_Tb427VSG-649                                        5222   \n",
       "gene_Tb427VSG-22                                        11358   \n",
       "gene_Tb427VSG-1117                                          0   \n",
       "\n",
       "                    /tmp/345731.1.all.q/A2-8/A2-8sorted.bam  \\\n",
       "Geneid                                                        \n",
       "gene_Tb427VSG-3039                                    13800   \n",
       "gene_Tb427VSG-23                                       1569   \n",
       "gene_Tb427VSG-649                                      3754   \n",
       "gene_Tb427VSG-22                                       7733   \n",
       "gene_Tb427VSG-1117                                        3   \n",
       "\n",
       "                    /tmp/345732.1.all.q/A2-4/A2-4sorted.bam  \\\n",
       "Geneid                                                        \n",
       "gene_Tb427VSG-3039                                    12620   \n",
       "gene_Tb427VSG-23                                       1038   \n",
       "gene_Tb427VSG-649                                      3493   \n",
       "gene_Tb427VSG-22                                       6262   \n",
       "gene_Tb427VSG-1117                                        0   \n",
       "\n",
       "                    /tmp/345733.1.all.q/A2-0/A2-0sorted.bam  \\\n",
       "Geneid                                                        \n",
       "gene_Tb427VSG-3039                                    24089   \n",
       "gene_Tb427VSG-23                                       2001   \n",
       "gene_Tb427VSG-649                                      4692   \n",
       "gene_Tb427VSG-22                                       9934   \n",
       "gene_Tb427VSG-1117                                       20   \n",
       "\n",
       "                    /tmp/345734.1.all.q/A1-20/A1-20sorted.bam  \\\n",
       "Geneid                                                          \n",
       "gene_Tb427VSG-3039                                      21992   \n",
       "gene_Tb427VSG-23                                         7348   \n",
       "gene_Tb427VSG-649                                        8111   \n",
       "gene_Tb427VSG-22                                        19855   \n",
       "gene_Tb427VSG-1117                                          0   \n",
       "\n",
       "                    /tmp/345735.1.all.q/A1-12/A1-12sorted.bam  \\\n",
       "Geneid                                                          \n",
       "gene_Tb427VSG-3039                                      19008   \n",
       "gene_Tb427VSG-23                                         3430   \n",
       "gene_Tb427VSG-649                                        5231   \n",
       "gene_Tb427VSG-22                                        15453   \n",
       "gene_Tb427VSG-1117                                          0   \n",
       "\n",
       "                    /tmp/345736.1.all.q/A1-8/A1-8sorted.bam  \\\n",
       "Geneid                                                        \n",
       "gene_Tb427VSG-3039                                    17460   \n",
       "gene_Tb427VSG-23                                       2240   \n",
       "gene_Tb427VSG-649                                      4414   \n",
       "gene_Tb427VSG-22                                      11468   \n",
       "gene_Tb427VSG-1117                                        0   \n",
       "\n",
       "                    /tmp/345737.1.all.q/A1-4/A1-4sorted.bam  \\\n",
       "Geneid                                                        \n",
       "gene_Tb427VSG-3039                                    11516   \n",
       "gene_Tb427VSG-23                                       1102   \n",
       "gene_Tb427VSG-649                                      3128   \n",
       "gene_Tb427VSG-22                                       6854   \n",
       "gene_Tb427VSG-1117                                        0   \n",
       "\n",
       "                    /tmp/345739.1.all.q/A1-0/A1-0sorted.bam  \n",
       "Geneid                                                       \n",
       "gene_Tb427VSG-3039                                    22289  \n",
       "gene_Tb427VSG-23                                       1816  \n",
       "gene_Tb427VSG-649                                      4265  \n",
       "gene_Tb427VSG-22                                       9035  \n",
       "gene_Tb427VSG-1117                                       25  "
      ]
     },
     "execution_count": 21,
     "metadata": {},
     "output_type": "execute_result"
    }
   ],
   "source": [
    "#read all the rna-seq reads counts for each sampe\n",
    "#exp = '{life_stage}{replica}'\n",
    "#list_df = [exp.format(\n",
    "#    life_stage=life_stage,\n",
    "#    replica=replica) \n",
    "# for life_stage in ['C','T']\n",
    "# for replica in ['1','2','3']]\n",
    "\n",
    "#aggregate counts in one dataframe\n",
    "list_df = [n+'/res2_927/'+n+'/counts.txt' for n in list_df]\n",
    "list_df =[pd.read_csv(n,index_col=[0],comment='#',sep='\\t') for n in list_df]\n",
    "df = list_df[0].copy()\n",
    "for temp_df in list_df[1:]:\n",
    "    df = df.join(temp_df.iloc[:,-1])\n",
    "df.head()\n",
    "#temp_df = pd.read_csv('BSF/tb927_3_ks_counts_final.txt',index_col=[0],comment='#',sep='\\t')"
   ]
  },
  {
   "cell_type": "code",
   "execution_count": 22,
   "metadata": {},
   "outputs": [
    {
     "data": {
      "text/plain": [
       "Index(['/tmp/345724.1.all.q/A3-20/A3-20sorted.bam',\n",
       "       '/tmp/345725.1.all.q/A3-12/A3-12sorted.bam',\n",
       "       '/tmp/345726.1.all.q/A3-8/A3-8sorted.bam',\n",
       "       '/tmp/345727.1.all.q/A3-4/A3-4sorted.bam',\n",
       "       '/tmp/345728.1.all.q/A3-0/A3-0sorted.bam',\n",
       "       '/tmp/345729.1.all.q/A2-20/A2-20sorted.bam',\n",
       "       '/tmp/345730.1.all.q/A2-12/A2-12sorted.bam',\n",
       "       '/tmp/345731.1.all.q/A2-8/A2-8sorted.bam',\n",
       "       '/tmp/345732.1.all.q/A2-4/A2-4sorted.bam',\n",
       "       '/tmp/345733.1.all.q/A2-0/A2-0sorted.bam',\n",
       "       '/tmp/345734.1.all.q/A1-20/A1-20sorted.bam',\n",
       "       '/tmp/345735.1.all.q/A1-12/A1-12sorted.bam',\n",
       "       '/tmp/345736.1.all.q/A1-8/A1-8sorted.bam',\n",
       "       '/tmp/345737.1.all.q/A1-4/A1-4sorted.bam',\n",
       "       '/tmp/345739.1.all.q/A1-0/A1-0sorted.bam'],\n",
       "      dtype='object')"
      ]
     },
     "execution_count": 22,
     "metadata": {},
     "output_type": "execute_result"
    }
   ],
   "source": [
    "data_col = df.columns[5:]\n",
    "data_col"
   ]
  },
  {
   "cell_type": "code",
   "execution_count": 23,
   "metadata": {},
   "outputs": [
    {
     "data": {
      "text/html": [
       "<div>\n",
       "<style scoped>\n",
       "    .dataframe tbody tr th:only-of-type {\n",
       "        vertical-align: middle;\n",
       "    }\n",
       "\n",
       "    .dataframe tbody tr th {\n",
       "        vertical-align: top;\n",
       "    }\n",
       "\n",
       "    .dataframe thead th {\n",
       "        text-align: right;\n",
       "    }\n",
       "</style>\n",
       "<table border=\"1\" class=\"dataframe\">\n",
       "  <thead>\n",
       "    <tr style=\"text-align: right;\">\n",
       "      <th></th>\n",
       "      <th>A3-20</th>\n",
       "      <th>A3-12</th>\n",
       "      <th>A3-8</th>\n",
       "      <th>A3-4</th>\n",
       "      <th>A3-0</th>\n",
       "      <th>A2-20</th>\n",
       "      <th>A2-12</th>\n",
       "      <th>A2-8</th>\n",
       "      <th>A2-4</th>\n",
       "      <th>A2-0</th>\n",
       "      <th>A1-20</th>\n",
       "      <th>A1-12</th>\n",
       "      <th>A1-8</th>\n",
       "      <th>A1-4</th>\n",
       "      <th>A1-0</th>\n",
       "    </tr>\n",
       "    <tr>\n",
       "      <th>Geneid</th>\n",
       "      <th></th>\n",
       "      <th></th>\n",
       "      <th></th>\n",
       "      <th></th>\n",
       "      <th></th>\n",
       "      <th></th>\n",
       "      <th></th>\n",
       "      <th></th>\n",
       "      <th></th>\n",
       "      <th></th>\n",
       "      <th></th>\n",
       "      <th></th>\n",
       "      <th></th>\n",
       "      <th></th>\n",
       "      <th></th>\n",
       "    </tr>\n",
       "  </thead>\n",
       "  <tbody>\n",
       "    <tr>\n",
       "      <th>gene_Tb427VSG-3039</th>\n",
       "      <td>17654</td>\n",
       "      <td>15437</td>\n",
       "      <td>16044</td>\n",
       "      <td>12611</td>\n",
       "      <td>24376</td>\n",
       "      <td>14417</td>\n",
       "      <td>15986</td>\n",
       "      <td>13800</td>\n",
       "      <td>12620</td>\n",
       "      <td>24089</td>\n",
       "      <td>21992</td>\n",
       "      <td>19008</td>\n",
       "      <td>17460</td>\n",
       "      <td>11516</td>\n",
       "      <td>22289</td>\n",
       "    </tr>\n",
       "    <tr>\n",
       "      <th>gene_Tb427VSG-23</th>\n",
       "      <td>7182</td>\n",
       "      <td>2706</td>\n",
       "      <td>2101</td>\n",
       "      <td>1215</td>\n",
       "      <td>1948</td>\n",
       "      <td>3466</td>\n",
       "      <td>2470</td>\n",
       "      <td>1569</td>\n",
       "      <td>1038</td>\n",
       "      <td>2001</td>\n",
       "      <td>7348</td>\n",
       "      <td>3430</td>\n",
       "      <td>2240</td>\n",
       "      <td>1102</td>\n",
       "      <td>1816</td>\n",
       "    </tr>\n",
       "    <tr>\n",
       "      <th>gene_Tb427VSG-649</th>\n",
       "      <td>8183</td>\n",
       "      <td>5802</td>\n",
       "      <td>3786</td>\n",
       "      <td>3362</td>\n",
       "      <td>4681</td>\n",
       "      <td>8279</td>\n",
       "      <td>5222</td>\n",
       "      <td>3754</td>\n",
       "      <td>3493</td>\n",
       "      <td>4692</td>\n",
       "      <td>8111</td>\n",
       "      <td>5231</td>\n",
       "      <td>4414</td>\n",
       "      <td>3128</td>\n",
       "      <td>4265</td>\n",
       "    </tr>\n",
       "    <tr>\n",
       "      <th>gene_Tb427VSG-22</th>\n",
       "      <td>18877</td>\n",
       "      <td>10857</td>\n",
       "      <td>9360</td>\n",
       "      <td>6867</td>\n",
       "      <td>10017</td>\n",
       "      <td>14328</td>\n",
       "      <td>11358</td>\n",
       "      <td>7733</td>\n",
       "      <td>6262</td>\n",
       "      <td>9934</td>\n",
       "      <td>19855</td>\n",
       "      <td>15453</td>\n",
       "      <td>11468</td>\n",
       "      <td>6854</td>\n",
       "      <td>9035</td>\n",
       "    </tr>\n",
       "    <tr>\n",
       "      <th>gene_Tb427VSG-1117</th>\n",
       "      <td>0</td>\n",
       "      <td>0</td>\n",
       "      <td>0</td>\n",
       "      <td>0</td>\n",
       "      <td>17</td>\n",
       "      <td>0</td>\n",
       "      <td>0</td>\n",
       "      <td>3</td>\n",
       "      <td>0</td>\n",
       "      <td>20</td>\n",
       "      <td>0</td>\n",
       "      <td>0</td>\n",
       "      <td>0</td>\n",
       "      <td>0</td>\n",
       "      <td>25</td>\n",
       "    </tr>\n",
       "  </tbody>\n",
       "</table>\n",
       "</div>"
      ],
      "text/plain": [
       "                    A3-20  A3-12   A3-8   A3-4   A3-0  A2-20  A2-12   A2-8  \\\n",
       "Geneid                                                                       \n",
       "gene_Tb427VSG-3039  17654  15437  16044  12611  24376  14417  15986  13800   \n",
       "gene_Tb427VSG-23     7182   2706   2101   1215   1948   3466   2470   1569   \n",
       "gene_Tb427VSG-649    8183   5802   3786   3362   4681   8279   5222   3754   \n",
       "gene_Tb427VSG-22    18877  10857   9360   6867  10017  14328  11358   7733   \n",
       "gene_Tb427VSG-1117      0      0      0      0     17      0      0      3   \n",
       "\n",
       "                     A2-4   A2-0  A1-20  A1-12   A1-8   A1-4   A1-0  \n",
       "Geneid                                                               \n",
       "gene_Tb427VSG-3039  12620  24089  21992  19008  17460  11516  22289  \n",
       "gene_Tb427VSG-23     1038   2001   7348   3430   2240   1102   1816  \n",
       "gene_Tb427VSG-649    3493   4692   8111   5231   4414   3128   4265  \n",
       "gene_Tb427VSG-22     6262   9934  19855  15453  11468   6854   9035  \n",
       "gene_Tb427VSG-1117      0     20      0      0      0      0     25  "
      ]
     },
     "execution_count": 23,
     "metadata": {},
     "output_type": "execute_result"
    }
   ],
   "source": [
    "#rename columns for convenience\n",
    "indata = df[data_col]\n",
    "indata.columns = [n.split('/')[3] for  n in indata.columns]\n",
    "indata.head()"
   ]
  },
  {
   "cell_type": "code",
   "execution_count": 24,
   "metadata": {},
   "outputs": [
    {
     "data": {
      "text/plain": [
       "Index(['/tmp/345724.1.all.q/A3-20/A3-20sorted.bam',\n",
       "       '/tmp/345725.1.all.q/A3-12/A3-12sorted.bam',\n",
       "       '/tmp/345726.1.all.q/A3-8/A3-8sorted.bam',\n",
       "       '/tmp/345727.1.all.q/A3-4/A3-4sorted.bam',\n",
       "       '/tmp/345728.1.all.q/A3-0/A3-0sorted.bam',\n",
       "       '/tmp/345729.1.all.q/A2-20/A2-20sorted.bam',\n",
       "       '/tmp/345730.1.all.q/A2-12/A2-12sorted.bam',\n",
       "       '/tmp/345731.1.all.q/A2-8/A2-8sorted.bam',\n",
       "       '/tmp/345732.1.all.q/A2-4/A2-4sorted.bam',\n",
       "       '/tmp/345733.1.all.q/A2-0/A2-0sorted.bam',\n",
       "       '/tmp/345734.1.all.q/A1-20/A1-20sorted.bam',\n",
       "       '/tmp/345735.1.all.q/A1-12/A1-12sorted.bam',\n",
       "       '/tmp/345736.1.all.q/A1-8/A1-8sorted.bam',\n",
       "       '/tmp/345737.1.all.q/A1-4/A1-4sorted.bam',\n",
       "       '/tmp/345739.1.all.q/A1-0/A1-0sorted.bam'],\n",
       "      dtype='object')"
      ]
     },
     "execution_count": 24,
     "metadata": {},
     "output_type": "execute_result"
    }
   ],
   "source": [
    "data_col = df.columns[5:]\n",
    "data_col"
   ]
  },
  {
   "cell_type": "code",
   "execution_count": null,
   "metadata": {},
   "outputs": [],
   "source": []
  },
  {
   "cell_type": "code",
   "execution_count": 25,
   "metadata": {},
   "outputs": [
    {
     "name": "stdout",
     "output_type": "stream",
     "text": [
      "(11359, 15)\n",
      "(11359, 15)\n"
     ]
    }
   ],
   "source": [
    "print(indata.shape)\n",
    "indata=indata.dropna()\n",
    "print(indata.shape)\n",
    "#indata.loc['KS17gene_1749a']\n",
    "#indata['desc']=[desc_dict.get(n,'none') for n in indata.index.values]\n",
    "#indata.to_csv('indata.csv')\n",
    "#indata.head()\n",
    "#indata.loc['mainVSG-427-2']\n",
    "\n",
    "#indata = indata.replace(1,np.nan).dropna(axis=1, how='all')\n",
    "#print(indata.shape)\n",
    "#indata.describe()"
   ]
  },
  {
   "cell_type": "markdown",
   "metadata": {},
   "source": [
    "## QC - Missing Data Viz"
   ]
  },
  {
   "cell_type": "code",
   "execution_count": 26,
   "metadata": {},
   "outputs": [
    {
     "data": {
      "text/plain": [
       "<matplotlib.axes._subplots.AxesSubplot at 0x2aff78f00a90>"
      ]
     },
     "execution_count": 26,
     "metadata": {},
     "output_type": "execute_result"
    },
    {
     "data": {
      "image/png": "[encoded data removed]",
      "text/plain": [
       "<Figure size 432x288 with 2 Axes>"
      ]
     },
     "metadata": {},
     "output_type": "display_data"
    }
   ],
   "source": [
    "msno.matrix(indata.replace(0,np.nan).dropna(how='all'),figsize=(6, 4))"
   ]
  },
  {
   "cell_type": "code",
   "execution_count": 27,
   "metadata": {},
   "outputs": [
    {
     "data": {
      "text/plain": [
       "<matplotlib.axes._subplots.AxesSubplot at 0x2afee31e8a90>"
      ]
     },
     "execution_count": 27,
     "metadata": {},
     "output_type": "execute_result"
    },
    {
     "data": {
      "image/png": "[encoded data removed]",
      "text/plain": [
       "<Figure size 432x288 with 3 Axes>"
      ]
     },
     "metadata": {},
     "output_type": "display_data"
    }
   ],
   "source": [
    "msno.bar(indata.replace(0,np.nan).dropna(how='all'),figsize=(6, 4))"
   ]
  },
  {
   "cell_type": "markdown",
   "metadata": {},
   "source": [
    "## QC - Corr analysis"
   ]
  },
  {
   "cell_type": "code",
   "execution_count": 28,
   "metadata": {},
   "outputs": [],
   "source": [
    "!mkdir -p Figures_927"
   ]
  },
  {
   "cell_type": "code",
   "execution_count": 29,
   "metadata": {},
   "outputs": [
    {
     "name": "stdout",
     "output_type": "stream",
     "text": [
      "(14.5, 0.5)\n"
     ]
    },
    {
     "data": {
      "image/png": "[encoded data removed]",
      "text/plain": [
       "<Figure size 432x432 with 2 Axes>"
      ]
     },
     "metadata": {},
     "output_type": "display_data"
    }
   ],
   "source": [
    "fig,ax=plt.subplots(figsize=(6,6))\n",
    "cbar_ax = fig.add_axes([.91, .6, .03, .2])\n",
    "sns.heatmap(np.log2(indata).corr(),\n",
    "            #vmin=-1,\n",
    "            cmap='coolwarm',\n",
    "            annot=True,linewidths=.5,ax=ax, cbar_ax = cbar_ax, cbar=True)\n",
    "print(ax.get_ylim())\n",
    "ax.set_ylim(12,0)\n",
    "plt.savefig('Figures_927/Figure_2.png')\n",
    "plt.show()"
   ]
  },
  {
   "cell_type": "markdown",
   "metadata": {},
   "source": [
    "## QC - MSD"
   ]
  },
  {
   "cell_type": "code",
   "execution_count": 30,
   "metadata": {},
   "outputs": [
    {
     "name": "stdout",
     "output_type": "stream",
     "text": [
      "{'r': '1', 'b': '2', 'y': '3'}\n"
     ]
    },
    {
     "data": {
      "image/png": "[encoded data removed]",
      "text/plain": [
       "<Figure size 576x576 with 1 Axes>"
      ]
     },
     "metadata": {},
     "output_type": "display_data"
    }
   ],
   "source": [
    "plt.style.use('ggplot')\n",
    "palette = ['r']*5+['b']*5+['y']*5\n",
    "fig,ax = plt.subplots(figsize=(8,8), ncols=1, nrows=1)\n",
    "UT.make_mds(np.log2(indata),palette,ax,color_dictionary={'r':'1','b':'2','y':'3',\n",
    "                                                        })\n",
    "plt.savefig('Figures_927/Figure_3.png')\n",
    "plt.show()"
   ]
  },
  {
   "cell_type": "markdown",
   "metadata": {},
   "source": [
    "## Compute Length and GC content\n",
    "this information is used to check for length and GC bias"
   ]
  },
  {
   "cell_type": "code",
   "execution_count": 31,
   "metadata": {},
   "outputs": [],
   "source": [
    "!mkdir -p InData"
   ]
  },
  {
   "cell_type": "code",
   "execution_count": 32,
   "metadata": {},
   "outputs": [],
   "source": [
    "#!cp genomes/tb927_56/tb927_56.gtf .\n",
    "#!cp genomes/tb927_55/tb927_55.fa .\n",
    "#!cp genomes/tb927_55/tb927_55.fa.fai .\n",
    "\n",
    "#!gtf2bed < tb927_55.gtf > tb927_55.bed\n",
    "#!bedtools nuc -fi tb927_55.fa -bed tb927_55.bed >InData/GC_content_927.txt"
   ]
  },
  {
   "cell_type": "code",
   "execution_count": 33,
   "metadata": {},
   "outputs": [],
   "source": [
    "#!bowtie2-build genomes/tb927_5/tb927_5.fa genomes/tb927_5/tb927_5"
   ]
  },
  {
   "cell_type": "code",
   "execution_count": 34,
   "metadata": {},
   "outputs": [],
   "source": [
    "def get_gene_ids(n):\n",
    "    res = {}\n",
    "    temp = n.split(';')\n",
    "    temp =[n.strip() for n in temp if len(n)>2]\n",
    "    temp = temp[:2]\n",
    "    #print(temp)\n",
    "    for f in temp:\n",
    "        key = f.split(' ')[0]\n",
    "        value = f.split(' ')[1]\n",
    "        key=key.replace('\\\"','').replace('\\'','').strip()\n",
    "        value=value.replace('\\\"','').replace('\\'','').strip()\n",
    "        res[key]=value\n",
    "    return res['gene_id']"
   ]
  },
  {
   "cell_type": "code",
   "execution_count": 35,
   "metadata": {},
   "outputs": [
    {
     "data": {
      "text/plain": [
       "length       1893.000000\n",
       "gccontent       0.436873\n",
       "Name: gene-Tb427.BES40.14, dtype: float64"
      ]
     },
     "execution_count": 35,
     "metadata": {},
     "output_type": "execute_result"
    }
   ],
   "source": [
    "gc_content = pd.read_csv('InData/GC_content_927.txt',sep='\\t')\n",
    "gc_content = gc_content[gc_content['8_usercol']=='CDS']\n",
    "#print(gc_content)\n",
    "gc_content['gene_id'] = [get_gene_ids(n) for n in gc_content['10_usercol']]\n",
    "gc_content = gc_content.drop_duplicates('gene_id')\n",
    "gc_content.set_index('gene_id',inplace=True)\n",
    "gc_content=gc_content[['19_seq_len','12_pct_gc']]\n",
    "gc_content.columns = ['length', 'gccontent']\n",
    "gc_content.loc['gene-Tb427.BES40.14']"
   ]
  },
  {
   "cell_type": "code",
   "execution_count": 36,
   "metadata": {},
   "outputs": [
    {
     "data": {
      "text/html": [
       "<div>\n",
       "<style scoped>\n",
       "    .dataframe tbody tr th:only-of-type {\n",
       "        vertical-align: middle;\n",
       "    }\n",
       "\n",
       "    .dataframe tbody tr th {\n",
       "        vertical-align: top;\n",
       "    }\n",
       "\n",
       "    .dataframe thead th {\n",
       "        text-align: right;\n",
       "    }\n",
       "</style>\n",
       "<table border=\"1\" class=\"dataframe\">\n",
       "  <thead>\n",
       "    <tr style=\"text-align: right;\">\n",
       "      <th></th>\n",
       "      <th>length</th>\n",
       "      <th>gccontent</th>\n",
       "    </tr>\n",
       "    <tr>\n",
       "      <th>gene_id</th>\n",
       "      <th></th>\n",
       "      <th></th>\n",
       "    </tr>\n",
       "  </thead>\n",
       "  <tbody>\n",
       "    <tr>\n",
       "      <th>Tb07.11L3.90</th>\n",
       "      <td>1131</td>\n",
       "      <td>0.510168</td>\n",
       "    </tr>\n",
       "    <tr>\n",
       "      <th>Tb07.11L3.100</th>\n",
       "      <td>3795</td>\n",
       "      <td>0.500132</td>\n",
       "    </tr>\n",
       "    <tr>\n",
       "      <th>Tb05.5K5.10</th>\n",
       "      <td>72</td>\n",
       "      <td>0.402778</td>\n",
       "    </tr>\n",
       "    <tr>\n",
       "      <th>Tb05.5K5.20</th>\n",
       "      <td>1278</td>\n",
       "      <td>0.461659</td>\n",
       "    </tr>\n",
       "    <tr>\n",
       "      <th>Tb05.5K5.30</th>\n",
       "      <td>1911</td>\n",
       "      <td>0.480900</td>\n",
       "    </tr>\n",
       "  </tbody>\n",
       "</table>\n",
       "</div>"
      ],
      "text/plain": [
       "               length  gccontent\n",
       "gene_id                         \n",
       "Tb07.11L3.90     1131   0.510168\n",
       "Tb07.11L3.100    3795   0.500132\n",
       "Tb05.5K5.10        72   0.402778\n",
       "Tb05.5K5.20      1278   0.461659\n",
       "Tb05.5K5.30      1911   0.480900"
      ]
     },
     "execution_count": 36,
     "metadata": {},
     "output_type": "execute_result"
    }
   ],
   "source": [
    "gc_content.head()"
   ]
  },
  {
   "cell_type": "code",
   "execution_count": 37,
   "metadata": {},
   "outputs": [],
   "source": [
    "metadata=pd.DataFrame()\n",
    "metadata['samples']=indata.columns\n",
    "metadata['treatment']=indata.columns\n",
    "metadata['batch']=1\n",
    "metadata.reset_index().to_csv('metadata.csv')"
   ]
  },
  {
   "cell_type": "code",
   "execution_count": 38,
   "metadata": {},
   "outputs": [
    {
     "name": "stdout",
     "output_type": "stream",
     "text": [
      "(11359, 15)\n"
     ]
    },
    {
     "data": {
      "text/plain": [
       "(11359, 15)"
      ]
     },
     "execution_count": 38,
     "metadata": {},
     "output_type": "execute_result"
    }
   ],
   "source": [
    "print(indata.shape)\n",
    "indata=indata.join(gc_content,how='inner')\n",
    "gc_content = gc_content[['length', 'gccontent']]\n",
    "indata.drop(['length', 'gccontent'],axis=1,inplace=True) \n",
    "indata.shape"
   ]
  },
  {
   "cell_type": "markdown",
   "metadata": {},
   "source": [
    "### edgeR to filter low counts"
   ]
  },
  {
   "cell_type": "code",
   "execution_count": 39,
   "metadata": {},
   "outputs": [
    {
     "name": "stdout",
     "output_type": "stream",
     "text": [
      "                   A3.20 A3.12  A3.8  A3.4  A3.0 A2.20 A2.12  A2.8  A2.4  A2.0\n",
      "gene_Tb427VSG-3039 17654 15437 16044 12611 24376 14417 15986 13800 12620 24089\n",
      "gene_Tb427VSG-23    7182  2706  2101  1215  1948  3466  2470  1569  1038  2001\n",
      "gene_Tb427VSG-649   8183  5802  3786  3362  4681  8279  5222  3754  3493  4692\n",
      "gene_Tb427VSG-22   18877 10857  9360  6867 10017 14328 11358  7733  6262  9934\n",
      "gene_Tb427VSG-1117     0     0     0     0    17     0     0     3     0    20\n",
      "gene_Tb427VSG-1387   244   609   706  1143  2688   262   511   639  1052  2780\n",
      "                   A1.20 A1.12  A1.8  A1.4  A1.0\n",
      "gene_Tb427VSG-3039 21992 19008 17460 11516 22289\n",
      "gene_Tb427VSG-23    7348  3430  2240  1102  1816\n",
      "gene_Tb427VSG-649   8111  5231  4414  3128  4265\n",
      "gene_Tb427VSG-22   19855 15453 11468  6854  9035\n",
      "gene_Tb427VSG-1117     0     0     0     0    25\n",
      "gene_Tb427VSG-1387   261   496   714   979  2396\n"
     ]
    }
   ],
   "source": [
    "%%R -i indata\n",
    "options(warn=-1)\n",
    "library(\"limma\") \n",
    "library(\"edgeR\")\n",
    "head(indata)"
   ]
  },
  {
   "cell_type": "code",
   "execution_count": 60,
   "metadata": {},
   "outputs": [
    {
     "name": "stdout",
     "output_type": "stream",
     "text": [
      "                   A3.20 A3.12  A3.8  A3.4  A3.0 A2.20 A2.12  A2.8  A2.4  A2.0\n",
      "gene_Tb427VSG-3039 20998 18781 20233 14799 28993 17125 19862 17113 15204 28499\n",
      "gene_Tb427VSG-23    9370  3619  2965  1570  2510  4526  3354  2100  1415  2594\n",
      "gene_Tb427VSG-649   9845  6964  4977  3968  5739  9759  6540  4605  4156  5660\n",
      "gene_Tb427VSG-22   21748 13198 11850  8157 12149 16273 13782  9421  7540 11881\n",
      "gene_Tb427VSG-1117     0     0     1     2    26     0     0     4     0    23\n",
      "gene_Tb427VSG-1387   295   754   938  1414  3276   333   633   818  1315  3335\n",
      "                   A1.20 A1.12  A1.8  A1.4  A1.0\n",
      "gene_Tb427VSG-3039 26112 22806 21189 14353 26212\n",
      "gene_Tb427VSG-23    9670  4558  2957  1486  2361\n",
      "gene_Tb427VSG-649   9805  6310  5460  3813  5074\n",
      "gene_Tb427VSG-22   22992 18594 14182  8432 10894\n",
      "gene_Tb427VSG-1117     0     0     0     1    34\n",
      "gene_Tb427VSG-1387   316   591   873  1243  2969\n"
     ]
    }
   ],
   "source": [
    "#%%R -i indata\n",
    "#options(warn=-1)\n",
    "#library(\"limma\") \n",
    "#library(\"edgeR\")\n",
    "#head(indata)"
   ]
  },
  {
   "cell_type": "code",
   "execution_count": 40,
   "metadata": {},
   "outputs": [],
   "source": [
    "%%R\n",
    "group <- factor(c(\n",
    "    'A20','A12','A8','A4','A2','A20','A12','A8','A4','A2','A20','A12','A8','A4','A2'\n",
    "))\n",
    "\n",
    "y <- DGEList(counts=indata,group=group)\n",
    "keep <- filterByExpr(y,min.count = 10, min.total.count = 80)\n",
    "y <- y[keep,,keep.lib.sizes=FALSE]\n",
    "counts = y$counts\n",
    "genes = row.names(y)"
   ]
  },
  {
   "cell_type": "code",
   "execution_count": 41,
   "metadata": {},
   "outputs": [
    {
     "data": {
      "text/plain": [
       "(8541, 15)"
      ]
     },
     "execution_count": 41,
     "metadata": {},
     "output_type": "execute_result"
    }
   ],
   "source": [
    "%R -o counts,genes\n",
    "indata = pd.DataFrame(counts,index=genes,columns=indata.columns)\n",
    "indata.shape"
   ]
  },
  {
   "cell_type": "code",
   "execution_count": null,
   "metadata": {},
   "outputs": [],
   "source": []
  },
  {
   "cell_type": "code",
   "execution_count": 42,
   "metadata": {},
   "outputs": [
    {
     "data": {
      "text/plain": [
       "(8541, 17)"
      ]
     },
     "execution_count": 42,
     "metadata": {},
     "output_type": "execute_result"
    }
   ],
   "source": [
    "indata=indata.join(gc_content,how='inner')\n",
    "indata.shape"
   ]
  },
  {
   "cell_type": "markdown",
   "metadata": {},
   "source": [
    "### GC / length content"
   ]
  },
  {
   "cell_type": "code",
   "execution_count": 43,
   "metadata": {},
   "outputs": [
    {
     "name": "stdout",
     "output_type": "stream",
     "text": [
      "(8541, 15) (8541, 2)\n"
     ]
    },
    {
     "data": {
      "text/html": [
       "<div>\n",
       "<style scoped>\n",
       "    .dataframe tbody tr th:only-of-type {\n",
       "        vertical-align: middle;\n",
       "    }\n",
       "\n",
       "    .dataframe tbody tr th {\n",
       "        vertical-align: top;\n",
       "    }\n",
       "\n",
       "    .dataframe thead th {\n",
       "        text-align: right;\n",
       "    }\n",
       "</style>\n",
       "<table border=\"1\" class=\"dataframe\">\n",
       "  <thead>\n",
       "    <tr style=\"text-align: right;\">\n",
       "      <th></th>\n",
       "      <th>A3-20</th>\n",
       "      <th>A3-12</th>\n",
       "      <th>A3-8</th>\n",
       "      <th>A3-4</th>\n",
       "      <th>A3-0</th>\n",
       "      <th>A2-20</th>\n",
       "      <th>A2-12</th>\n",
       "      <th>A2-8</th>\n",
       "      <th>A2-4</th>\n",
       "      <th>A2-0</th>\n",
       "      <th>A1-20</th>\n",
       "      <th>A1-12</th>\n",
       "      <th>A1-8</th>\n",
       "      <th>A1-4</th>\n",
       "      <th>A1-0</th>\n",
       "    </tr>\n",
       "  </thead>\n",
       "  <tbody>\n",
       "    <tr>\n",
       "      <th>gene_Tb427VSG-3039</th>\n",
       "      <td>17654</td>\n",
       "      <td>15437</td>\n",
       "      <td>16044</td>\n",
       "      <td>12611</td>\n",
       "      <td>24376</td>\n",
       "      <td>14417</td>\n",
       "      <td>15986</td>\n",
       "      <td>13800</td>\n",
       "      <td>12620</td>\n",
       "      <td>24089</td>\n",
       "      <td>21992</td>\n",
       "      <td>19008</td>\n",
       "      <td>17460</td>\n",
       "      <td>11516</td>\n",
       "      <td>22289</td>\n",
       "    </tr>\n",
       "    <tr>\n",
       "      <th>gene_Tb427VSG-23</th>\n",
       "      <td>7182</td>\n",
       "      <td>2706</td>\n",
       "      <td>2101</td>\n",
       "      <td>1215</td>\n",
       "      <td>1948</td>\n",
       "      <td>3466</td>\n",
       "      <td>2470</td>\n",
       "      <td>1569</td>\n",
       "      <td>1038</td>\n",
       "      <td>2001</td>\n",
       "      <td>7348</td>\n",
       "      <td>3430</td>\n",
       "      <td>2240</td>\n",
       "      <td>1102</td>\n",
       "      <td>1816</td>\n",
       "    </tr>\n",
       "    <tr>\n",
       "      <th>gene_Tb427VSG-649</th>\n",
       "      <td>8183</td>\n",
       "      <td>5802</td>\n",
       "      <td>3786</td>\n",
       "      <td>3362</td>\n",
       "      <td>4681</td>\n",
       "      <td>8279</td>\n",
       "      <td>5222</td>\n",
       "      <td>3754</td>\n",
       "      <td>3493</td>\n",
       "      <td>4692</td>\n",
       "      <td>8111</td>\n",
       "      <td>5231</td>\n",
       "      <td>4414</td>\n",
       "      <td>3128</td>\n",
       "      <td>4265</td>\n",
       "    </tr>\n",
       "    <tr>\n",
       "      <th>gene_Tb427VSG-22</th>\n",
       "      <td>18877</td>\n",
       "      <td>10857</td>\n",
       "      <td>9360</td>\n",
       "      <td>6867</td>\n",
       "      <td>10017</td>\n",
       "      <td>14328</td>\n",
       "      <td>11358</td>\n",
       "      <td>7733</td>\n",
       "      <td>6262</td>\n",
       "      <td>9934</td>\n",
       "      <td>19855</td>\n",
       "      <td>15453</td>\n",
       "      <td>11468</td>\n",
       "      <td>6854</td>\n",
       "      <td>9035</td>\n",
       "    </tr>\n",
       "    <tr>\n",
       "      <th>gene_Tb427VSG-1387</th>\n",
       "      <td>244</td>\n",
       "      <td>609</td>\n",
       "      <td>706</td>\n",
       "      <td>1143</td>\n",
       "      <td>2688</td>\n",
       "      <td>262</td>\n",
       "      <td>511</td>\n",
       "      <td>639</td>\n",
       "      <td>1052</td>\n",
       "      <td>2780</td>\n",
       "      <td>261</td>\n",
       "      <td>496</td>\n",
       "      <td>714</td>\n",
       "      <td>979</td>\n",
       "      <td>2396</td>\n",
       "    </tr>\n",
       "  </tbody>\n",
       "</table>\n",
       "</div>"
      ],
      "text/plain": [
       "                    A3-20  A3-12   A3-8   A3-4   A3-0  A2-20  A2-12   A2-8  \\\n",
       "gene_Tb427VSG-3039  17654  15437  16044  12611  24376  14417  15986  13800   \n",
       "gene_Tb427VSG-23     7182   2706   2101   1215   1948   3466   2470   1569   \n",
       "gene_Tb427VSG-649    8183   5802   3786   3362   4681   8279   5222   3754   \n",
       "gene_Tb427VSG-22    18877  10857   9360   6867  10017  14328  11358   7733   \n",
       "gene_Tb427VSG-1387    244    609    706   1143   2688    262    511    639   \n",
       "\n",
       "                     A2-4   A2-0  A1-20  A1-12   A1-8   A1-4   A1-0  \n",
       "gene_Tb427VSG-3039  12620  24089  21992  19008  17460  11516  22289  \n",
       "gene_Tb427VSG-23     1038   2001   7348   3430   2240   1102   1816  \n",
       "gene_Tb427VSG-649    3493   4692   8111   5231   4414   3128   4265  \n",
       "gene_Tb427VSG-22     6262   9934  19855  15453  11468   6854   9035  \n",
       "gene_Tb427VSG-1387   1052   2780    261    496    714    979   2396  "
      ]
     },
     "execution_count": 43,
     "metadata": {},
     "output_type": "execute_result"
    }
   ],
   "source": [
    "gc_content = indata[['length', 'gccontent']]\n",
    "indata.drop(['length', 'gccontent'],axis=1,inplace=True)\n",
    "print(indata.shape,gc_content.shape)\n",
    "indata.head()"
   ]
  },
  {
   "cell_type": "markdown",
   "metadata": {},
   "source": [
    "### size factors"
   ]
  },
  {
   "cell_type": "code",
   "execution_count": 44,
   "metadata": {},
   "outputs": [
    {
     "data": {
      "text/plain": [
       "array([26274538, 26146442, 24949560, 27078121, 26008877, 25771354,\n",
       "       25766751, 25455290, 26462758, 25990909, 26181028, 27262737,\n",
       "       26731458, 26297696, 25033376])"
      ]
     },
     "execution_count": 44,
     "metadata": {},
     "output_type": "execute_result"
    }
   ],
   "source": [
    "sizeFactors=indata.sum()\n",
    "sizeFactors = sizeFactors.values\n",
    "sizeFactors"
   ]
  },
  {
   "cell_type": "code",
   "execution_count": 66,
   "metadata": {},
   "outputs": [],
   "source": [
    "#np.log2(gc_content['length']/1000).plot(kind='hist')"
   ]
  },
  {
   "cell_type": "markdown",
   "metadata": {},
   "source": [
    "### Bias Correction"
   ]
  },
  {
   "cell_type": "code",
   "execution_count": 68,
   "metadata": {},
   "outputs": [],
   "source": [
    "%%R -i gc_content,indata,sizeFactors\n",
    "library(cqn)\n",
    "library(scales)"
   ]
  },
  {
   "cell_type": "code",
   "execution_count": 69,
   "metadata": {},
   "outputs": [
    {
     "name": "stdout",
     "output_type": "stream",
     "text": [
      "RQ fit ...............\n",
      "SQN .\n"
     ]
    }
   ],
   "source": [
    "%%R\n",
    "stopifnot(all(rownames(indata) == rownames(gc_content)))\n",
    "cqn.subset <- cqn(indata, lengths = gc_content$length,\n",
    "                  x = gc_content$gccontent, sizeFactors = sizeFactors,\n",
    "                  verbose = TRUE)"
   ]
  },
  {
   "cell_type": "code",
   "execution_count": 70,
   "metadata": {},
   "outputs": [],
   "source": [
    "#%R cqn.subset"
   ]
  },
  {
   "cell_type": "markdown",
   "metadata": {},
   "source": [
    "### Viz Bias"
   ]
  },
  {
   "cell_type": "code",
   "execution_count": 72,
   "metadata": {},
   "outputs": [
    {
     "data": {
      "image/png": "[encoded data removed]"
     },
     "metadata": {},
     "output_type": "display_data"
    }
   ],
   "source": [
    "%%R\n",
    "cqnplot <- function(x, n = 1, col = \"grey60\", ylab=\"estimated bias effect\", \n",
    "                    xlab = \"\", type = \"l\", lty = 1, ...) {\n",
    "    if(class(x) != \"cqn\")\n",
    "        stop(\"'x' needs to be of class 'cqn'\")\n",
    "    if(n == 1) {\n",
    "        func <- x$func1\n",
    "        grid <- x$grid1\n",
    "        knots <- x$knots1\n",
    "    }\n",
    "    if(n == 2) {\n",
    "        if(is.null(x$func2))\n",
    "            stop(\"argument 'x' does not appear to have two smooth functions (component 'func2' is NULL)\")\n",
    "        func <- x$func2\n",
    "        grid <- x$grid2\n",
    "        knots <- x$knots2\n",
    "    }\n",
    "    \n",
    "    \n",
    "    #par(mar=c(5.1, 4.1, 4.1, 8.1), xpd=TRUE)\n",
    "    matplot(replicate(ncol(func), grid), func, ylab = ylab, xlab = xlab, type = type,\n",
    "            col = col, lty = lty, ...)\n",
    "    \n",
    "    legend(\"bottomleft\", legend = colnames(x$counts), inset=c(1,0),\n",
    "           title=\"Samples\", lty = lty, col = col)\n",
    "    rug(knots, lwd = 2)\n",
    "    invisible(x)\n",
    "    \n",
    "}\n",
    "\n",
    "\n",
    "library(repr)\n",
    "#options(repr.plot.width = 10, repr.plot.height = 0.75)\n",
    "# Change plot size to 4 x 3\n",
    "#options(repr.plot.width=4, repr.plot.height=3)\n",
    "\n",
    "\n",
    "colors <- c(\n",
    "    'red','red','red','red','red',\n",
    "    'blue','blue','blue','blue','blue',\n",
    "'yellow','yellow','yellow','yellow','yellow'\n",
    "    \n",
    ")\n",
    "lty =c(1,1,1,1,1,\n",
    "       1,1,1,1,1,\n",
    "       1,1,1,1,1\n",
    "      )\n",
    "\n",
    "#png(\"Figures/Figure_12.png\")\n",
    "#par(mfrow=c(1,2))\n",
    "cqnplot(cqn.subset, col=colors,\n",
    "        n = 1, xlab = \"GC content\", lty = lty,\n",
    "        ylim = c(3, 7), \n",
    "        \n",
    "       )\n",
    "#dev.off()\n",
    "\n",
    "#ggsave('plot.png', width=8.27, height= 11.69) #A4 size in inches\n",
    "#dev.off()"
   ]
  },
  {
   "cell_type": "code",
   "execution_count": 74,
   "metadata": {},
   "outputs": [
    {
     "data": {
      "image/png": "[encoded data removed]"
     },
     "metadata": {},
     "output_type": "display_data"
    }
   ],
   "source": [
    "%%R\n",
    "library(repr)\n",
    "#options(repr.plot.width = 12, repr.plot.height = 0.75)\n",
    "# Change plot size to 4 x 3\n",
    "#options(repr.plot.width=8, repr.plot.height=3)\n",
    "\n",
    "\n",
    "colors <- c(\n",
    "    'red','red','red','red','red',\n",
    "    'blue','blue','blue','blue','blue',\n",
    "'yellow','yellow','yellow','yellow','yellow'\n",
    "    \n",
    ")\n",
    "lty =c(1,1,1,1,1,\n",
    "       1,1,1,1,1,\n",
    "       1,1,1,1,1\n",
    "      )\n",
    "\n",
    "#par(mfrow=c(1,2))\n",
    "#png(\"Figures/Figure_13.png\")\n",
    "cqnplot(cqn.subset, col=colors,\n",
    "        n = 2, xlab = \"length\", lty = lty,\n",
    "        ylim = c(0,8), \n",
    "    \n",
    "       )\n",
    "#dev.off()"
   ]
  },
  {
   "cell_type": "markdown",
   "metadata": {},
   "source": [
    "### Bias Correction"
   ]
  },
  {
   "cell_type": "code",
   "execution_count": 75,
   "metadata": {},
   "outputs": [
    {
     "name": "stdout",
     "output_type": "stream",
     "text": [
      "                       A3.20     A3.12      A3.8      A3.4       A3.0     A2.20\n",
      "gene_Tb427VSG-3039 10.061945 10.034759 10.034759  9.697002 10.6203025  9.840913\n",
      "gene_Tb427VSG-23    8.920700  7.428969  7.279495  6.079272  6.9658889  7.860944\n",
      "gene_Tb427VSG-649   9.109395  8.619207  8.127713  7.570534  8.2387236  9.124384\n",
      "gene_Tb427VSG-22   10.133577  9.569866  9.357921  8.883438  9.3982117  9.766521\n",
      "gene_Tb427VSG-1117 -4.689750 -4.981444 -3.698613 -2.934580 -0.9941504 -4.383959\n",
      "gene_Tb427VSG-1387  4.284355  5.401006  5.963067  6.245243  7.6550993  4.425378\n",
      "                       A2.12      A2.8      A2.4       A2.0     A1.20     A1.12\n",
      "gene_Tb427VSG-3039 10.034759  9.835420  9.721320 10.5688465 10.464011 10.126159\n",
      "gene_Tb427VSG-23    7.434548  6.636212  5.994316  7.0092661  8.960065  7.800246\n",
      "gene_Tb427VSG-649   8.545517  7.944652  7.721669  8.2158151  9.100481  8.420092\n",
      "gene_Tb427VSG-22    9.582825  9.121373  8.822450  9.3834098 10.195198  9.915161\n",
      "gene_Tb427VSG-1117 -5.075556 -2.320390 -4.299304 -0.8867559 -5.054918 -4.708805\n",
      "gene_Tb427VSG-1387  5.300316  5.567445  6.215433  7.6885401  4.319698  5.094793\n",
      "                        A1.8      A1.4       A1.0\n",
      "gene_Tb427VSG-3039 10.061945  9.673213 10.5443311\n",
      "gene_Tb427VSG-23    7.190263  6.075027  6.9351564\n",
      "gene_Tb427VSG-649   8.162603  7.580968  8.1121309\n",
      "gene_Tb427VSG-22    9.523548  8.981556  9.3084323\n",
      "gene_Tb427VSG-1117 -4.692789 -3.763922 -0.5611548\n",
      "gene_Tb427VSG-1387  5.691460  6.122189  7.5521180\n"
     ]
    }
   ],
   "source": [
    "%%R\n",
    "RPKM.cqn <- cqn.subset$y + cqn.subset$offset\n",
    "out_table <- RPKM.cqn\n",
    "head(out_table)"
   ]
  },
  {
   "cell_type": "code",
   "execution_count": 76,
   "metadata": {},
   "outputs": [],
   "source": [
    "#out_table"
   ]
  },
  {
   "cell_type": "code",
   "execution_count": 77,
   "metadata": {},
   "outputs": [
    {
     "data": {
      "text/html": [
       "<div>\n",
       "<style scoped>\n",
       "    .dataframe tbody tr th:only-of-type {\n",
       "        vertical-align: middle;\n",
       "    }\n",
       "\n",
       "    .dataframe tbody tr th {\n",
       "        vertical-align: top;\n",
       "    }\n",
       "\n",
       "    .dataframe thead th {\n",
       "        text-align: right;\n",
       "    }\n",
       "</style>\n",
       "<table border=\"1\" class=\"dataframe\">\n",
       "  <thead>\n",
       "    <tr style=\"text-align: right;\">\n",
       "      <th></th>\n",
       "      <th>A3-20</th>\n",
       "      <th>A3-12</th>\n",
       "      <th>A3-8</th>\n",
       "      <th>A3-4</th>\n",
       "      <th>A3-0</th>\n",
       "      <th>A2-20</th>\n",
       "      <th>A2-12</th>\n",
       "      <th>A2-8</th>\n",
       "      <th>A2-4</th>\n",
       "      <th>A2-0</th>\n",
       "      <th>A1-20</th>\n",
       "      <th>A1-12</th>\n",
       "      <th>A1-8</th>\n",
       "      <th>A1-4</th>\n",
       "      <th>A1-0</th>\n",
       "    </tr>\n",
       "  </thead>\n",
       "  <tbody>\n",
       "    <tr>\n",
       "      <th>gene_Tb427VSG-3039</th>\n",
       "      <td>10.061945</td>\n",
       "      <td>10.034759</td>\n",
       "      <td>10.034759</td>\n",
       "      <td>9.697002</td>\n",
       "      <td>10.620302</td>\n",
       "      <td>9.840913</td>\n",
       "      <td>10.034759</td>\n",
       "      <td>9.835420</td>\n",
       "      <td>9.721320</td>\n",
       "      <td>10.568847</td>\n",
       "      <td>10.464011</td>\n",
       "      <td>10.126159</td>\n",
       "      <td>10.061945</td>\n",
       "      <td>9.673213</td>\n",
       "      <td>10.544331</td>\n",
       "    </tr>\n",
       "    <tr>\n",
       "      <th>gene_Tb427VSG-23</th>\n",
       "      <td>8.920700</td>\n",
       "      <td>7.428969</td>\n",
       "      <td>7.279495</td>\n",
       "      <td>6.079272</td>\n",
       "      <td>6.965889</td>\n",
       "      <td>7.860944</td>\n",
       "      <td>7.434548</td>\n",
       "      <td>6.636212</td>\n",
       "      <td>5.994316</td>\n",
       "      <td>7.009266</td>\n",
       "      <td>8.960065</td>\n",
       "      <td>7.800246</td>\n",
       "      <td>7.190263</td>\n",
       "      <td>6.075027</td>\n",
       "      <td>6.935156</td>\n",
       "    </tr>\n",
       "    <tr>\n",
       "      <th>gene_Tb427VSG-649</th>\n",
       "      <td>9.109395</td>\n",
       "      <td>8.619207</td>\n",
       "      <td>8.127713</td>\n",
       "      <td>7.570534</td>\n",
       "      <td>8.238724</td>\n",
       "      <td>9.124384</td>\n",
       "      <td>8.545517</td>\n",
       "      <td>7.944652</td>\n",
       "      <td>7.721669</td>\n",
       "      <td>8.215815</td>\n",
       "      <td>9.100481</td>\n",
       "      <td>8.420092</td>\n",
       "      <td>8.162603</td>\n",
       "      <td>7.580968</td>\n",
       "      <td>8.112131</td>\n",
       "    </tr>\n",
       "    <tr>\n",
       "      <th>gene_Tb427VSG-22</th>\n",
       "      <td>10.133577</td>\n",
       "      <td>9.569866</td>\n",
       "      <td>9.357921</td>\n",
       "      <td>8.883438</td>\n",
       "      <td>9.398212</td>\n",
       "      <td>9.766521</td>\n",
       "      <td>9.582825</td>\n",
       "      <td>9.121373</td>\n",
       "      <td>8.822450</td>\n",
       "      <td>9.383410</td>\n",
       "      <td>10.195198</td>\n",
       "      <td>9.915161</td>\n",
       "      <td>9.523548</td>\n",
       "      <td>8.981556</td>\n",
       "      <td>9.308432</td>\n",
       "    </tr>\n",
       "    <tr>\n",
       "      <th>gene_Tb427VSG-1117</th>\n",
       "      <td>-4.689750</td>\n",
       "      <td>-4.981444</td>\n",
       "      <td>-3.698613</td>\n",
       "      <td>-2.934580</td>\n",
       "      <td>-0.994150</td>\n",
       "      <td>-4.383959</td>\n",
       "      <td>-5.075556</td>\n",
       "      <td>-2.320390</td>\n",
       "      <td>-4.299304</td>\n",
       "      <td>-0.886756</td>\n",
       "      <td>-5.054918</td>\n",
       "      <td>-4.708805</td>\n",
       "      <td>-4.692789</td>\n",
       "      <td>-3.763922</td>\n",
       "      <td>-0.561155</td>\n",
       "    </tr>\n",
       "  </tbody>\n",
       "</table>\n",
       "</div>"
      ],
      "text/plain": [
       "                        A3-20      A3-12       A3-8      A3-4       A3-0  \\\n",
       "gene_Tb427VSG-3039  10.061945  10.034759  10.034759  9.697002  10.620302   \n",
       "gene_Tb427VSG-23     8.920700   7.428969   7.279495  6.079272   6.965889   \n",
       "gene_Tb427VSG-649    9.109395   8.619207   8.127713  7.570534   8.238724   \n",
       "gene_Tb427VSG-22    10.133577   9.569866   9.357921  8.883438   9.398212   \n",
       "gene_Tb427VSG-1117  -4.689750  -4.981444  -3.698613 -2.934580  -0.994150   \n",
       "\n",
       "                       A2-20      A2-12      A2-8      A2-4       A2-0  \\\n",
       "gene_Tb427VSG-3039  9.840913  10.034759  9.835420  9.721320  10.568847   \n",
       "gene_Tb427VSG-23    7.860944   7.434548  6.636212  5.994316   7.009266   \n",
       "gene_Tb427VSG-649   9.124384   8.545517  7.944652  7.721669   8.215815   \n",
       "gene_Tb427VSG-22    9.766521   9.582825  9.121373  8.822450   9.383410   \n",
       "gene_Tb427VSG-1117 -4.383959  -5.075556 -2.320390 -4.299304  -0.886756   \n",
       "\n",
       "                        A1-20      A1-12       A1-8      A1-4       A1-0  \n",
       "gene_Tb427VSG-3039  10.464011  10.126159  10.061945  9.673213  10.544331  \n",
       "gene_Tb427VSG-23     8.960065   7.800246   7.190263  6.075027   6.935156  \n",
       "gene_Tb427VSG-649    9.100481   8.420092   8.162603  7.580968   8.112131  \n",
       "gene_Tb427VSG-22    10.195198   9.915161   9.523548  8.981556   9.308432  \n",
       "gene_Tb427VSG-1117  -5.054918  -4.708805  -4.692789 -3.763922  -0.561155  "
      ]
     },
     "execution_count": 77,
     "metadata": {},
     "output_type": "execute_result"
    }
   ],
   "source": [
    "%R -o out_table\n",
    "out_table = pd.DataFrame(out_table,index=indata.index.values,columns=indata.columns)\n",
    "out_table.head()"
   ]
  },
  {
   "cell_type": "code",
   "execution_count": null,
   "metadata": {},
   "outputs": [],
   "source": []
  },
  {
   "cell_type": "markdown",
   "metadata": {},
   "source": [
    "### Visualise Normalized Counts"
   ]
  },
  {
   "cell_type": "code",
   "execution_count": 78,
   "metadata": {},
   "outputs": [
    {
     "data": {
      "image/png": "[encoded data removed]",
      "text/plain": [
       "<Figure size 1152x288 with 2 Axes>"
      ]
     },
     "metadata": {},
     "output_type": "display_data"
    },
    {
     "name": "stdout",
     "output_type": "stream",
     "text": [
      "(8510, 15)\n"
     ]
    }
   ],
   "source": [
    "fig,axes=plt.subplots(figsize=(16,4),ncols=2)\n",
    "ax = axes[0]\n",
    "out_table.plot(kind='box',ax=ax,rot=90,showfliers=False)\n",
    "\n",
    "ax = axes[1]\n",
    "out_table.replace(-np.inf,-1.5).plot(kind='hist',\n",
    "                                            histtype='step',\n",
    "                                            bins=100,ax=ax)\n",
    "UT.hist_legend(ax,'Sample')\n",
    "#ax.set_xticklabels(out_df.columns, rotation=90, )\n",
    "plt.show()\n",
    "print(out_table.shape)"
   ]
  },
  {
   "cell_type": "code",
   "execution_count": null,
   "metadata": {},
   "outputs": [],
   "source": []
  },
  {
   "cell_type": "code",
   "execution_count": null,
   "metadata": {},
   "outputs": [],
   "source": []
  },
  {
   "cell_type": "code",
   "execution_count": 86,
   "metadata": {},
   "outputs": [
    {
     "name": "stdout",
     "output_type": "stream",
     "text": [
      "[NbConvertApp] Converting notebook FiguresPaper-927-unique_10.ipynb to html_toc\n",
      "[NbConvertApp] Support files will be in FiguresPaper-927-unique_10_files/\n",
      "[NbConvertApp] Making directory save_notebook/FiguresPaper-927-unique_10_files\n",
      "[NbConvertApp] Making directory save_notebook/FiguresPaper-927-unique_10_files\n",
      "[NbConvertApp] Making directory save_notebook/FiguresPaper-927-unique_10_files\n",
      "[NbConvertApp] Making directory save_notebook/FiguresPaper-927-unique_10_files\n",
      "[NbConvertApp] Making directory save_notebook/FiguresPaper-927-unique_10_files\n",
      "[NbConvertApp] Making directory save_notebook/FiguresPaper-927-unique_10_files\n",
      "[NbConvertApp] Making directory save_notebook/FiguresPaper-927-unique_10_files\n",
      "[NbConvertApp] Making directory save_notebook/FiguresPaper-927-unique_10_files\n",
      "[NbConvertApp] Making directory save_notebook/FiguresPaper-927-unique_10_files\n",
      "[NbConvertApp] Making directory save_notebook/FiguresPaper-927-unique_10_files\n",
      "[NbConvertApp] Making directory save_notebook/FiguresPaper-927-unique_10_files\n",
      "[NbConvertApp] Making directory save_notebook/FiguresPaper-927-unique_10_files\n",
      "[NbConvertApp] Making directory save_notebook/FiguresPaper-927-unique_10_files\n",
      "[NbConvertApp] Making directory save_notebook/FiguresPaper-927-unique_10_files\n",
      "[NbConvertApp] Making directory save_notebook/FiguresPaper-927-unique_10_files\n",
      "[NbConvertApp] Making directory save_notebook/FiguresPaper-927-unique_10_files\n",
      "[NbConvertApp] Making directory save_notebook/FiguresPaper-927-unique_10_files\n",
      "[NbConvertApp] Making directory save_notebook/FiguresPaper-927-unique_10_files\n",
      "[NbConvertApp] Writing 514387 bytes to save_notebook/FiguresPaper-927-unique_10.html\n"
     ]
    }
   ],
   "source": [
    "!jupyter nbconvert --to html_toc --output-dir save_notebook FiguresPaper-927-unique_10.ipynb "
   ]
  },
  {
   "cell_type": "code",
   "execution_count": null,
   "metadata": {},
   "outputs": [],
   "source": []
  }
 ],
 "metadata": {
  "finalized": {
   "timestamp": 1614171078027,
   "trusted": true
  },
  "kernelspec": {
   "display_name": "Python [conda env:ritSeq]",
   "language": "python",
   "name": "conda-env-ritSeq-py"
  },
  "language_info": {
   "codemirror_mode": {
    "name": "ipython",
    "version": 3
   },
   "file_extension": ".py",
   "mimetype": "text/x-python",
   "name": "python",
   "nbconvert_exporter": "python",
   "pygments_lexer": "ipython3",
   "version": "3.7.3"
  },
  "toc": {
   "base_numbering": 1,
   "nav_menu": {},
   "number_sections": true,
   "sideBar": true,
   "skip_h1_title": false,
   "title_cell": "Table of Contents",
   "title_sidebar": "Contents",
   "toc_cell": false,
   "toc_position": {},
   "toc_section_display": true,
   "toc_window_display": true
  }
 },
 "nbformat": 4,
 "nbformat_minor": 4
}
