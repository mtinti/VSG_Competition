{
 "cells": [
  {
   "cell_type": "markdown",
   "metadata": {},
   "source": [
    "![title](static/wcar.png)"
   ]
  },
  {
   "cell_type": "markdown",
   "metadata": {},
   "source": [
    "# ESAG3 iRNA in *Trypanosoma brucei*"
   ]
  },
  {
   "cell_type": "markdown",
   "metadata": {},
   "source": []
  },
  {
   "cell_type": "markdown",
   "metadata": {},
   "source": [
    "## set up notebook"
   ]
  },
  {
   "cell_type": "code",
   "execution_count": 1,
   "metadata": {},
   "outputs": [],
   "source": [
    "#!rm genomes/tb927_6/*"
   ]
  },
  {
   "cell_type": "code",
   "execution_count": 2,
   "metadata": {},
   "outputs": [],
   "source": [
    "#reload when modified\n",
    "%load_ext autoreload\n",
    "%autoreload 2\n",
    "#activate r magic\n",
    "%load_ext rpy2.ipython\n",
    "%matplotlib inline"
   ]
  },
  {
   "cell_type": "code",
   "execution_count": 3,
   "metadata": {},
   "outputs": [],
   "source": [
    "import os\n",
    "import pandas as pd\n",
    "import numpy as np\n",
    "import matplotlib.pyplot as plt\n",
    "import seaborn as sns\n",
    "import utilities as UT\n",
    "import missingno as msno\n",
    "import random\n",
    "import matplotlib.pyplot as plt\n",
    "import matplotlib.patches as patches\n",
    "import gc\n",
    "from io import StringIO\n",
    "from itertools import islice\n",
    "from Bio import SeqIO\n",
    "\n",
    "random.seed(1976)\n",
    "np.random.seed(1976)"
   ]
  },
  {
   "cell_type": "code",
   "execution_count": 4,
   "metadata": {},
   "outputs": [
    {
     "data": {
      "text/plain": [
       "56"
      ]
     },
     "execution_count": 4,
     "metadata": {},
     "output_type": "execute_result"
    }
   ],
   "source": [
    "import multiprocessing\n",
    "multiprocessing.cpu_count()"
   ]
  },
  {
   "cell_type": "markdown",
   "metadata": {},
   "source": [
    "# Data Anaylsis"
   ]
  },
  {
   "cell_type": "code",
   "execution_count": 5,
   "metadata": {},
   "outputs": [],
   "source": [
    "!mkdir -p InData/CD_Search/\n",
    "!mkdir -p InData\n",
    "\n",
    "!gtf2bed < genomes/tb927_55/tb927_55.gtf > tb927_55.bed"
   ]
  },
  {
   "cell_type": "code",
   "execution_count": 6,
   "metadata": {},
   "outputs": [],
   "source": [
    "\n",
    "!bedtools nuc -fi genomes/tb927_55/tb927_55.fa -bed tb927_55.bed > InData/GC_content_927.txt\n",
    "\n",
    "#!cp genomes/tb927_3/tb927_3.gff .\n",
    "\n",
    "!cp genomes/tb927_55/tb927_55.gtf .\n",
    "!cp genomes/tb927_55/tb927_55.fa .\n",
    "!cp genomes/tb927_55/tb927_55.fa.fai .\n",
    "\n",
    "#!wget https://tritrypdb.org/common/downloads/Current_Release/TbruceiTREU927/gaf/TriTrypDB-50_TbruceiTREU927_GO.gaf -O InData/TriTrypDB-50_TbruceiTREU927_GO.gaf\n",
    "\n"
   ]
  },
  {
   "cell_type": "markdown",
   "metadata": {},
   "source": [
    "## Experiment SetUp"
   ]
  },
  {
   "cell_type": "code",
   "execution_count": 7,
   "metadata": {},
   "outputs": [],
   "source": [
    "from IPython.display import Image"
   ]
  },
  {
   "cell_type": "code",
   "execution_count": 8,
   "metadata": {},
   "outputs": [],
   "source": [
    "#!less genomes/tb427/tb427.gff"
   ]
  },
  {
   "cell_type": "code",
   "execution_count": 9,
   "metadata": {},
   "outputs": [],
   "source": [
    "\n",
    "#!wget https://tritrypdb.org/common/downloads/release-50/\n",
    "#TbruceiLister427_2018/fasta/data/TriTrypDB-50_TbruceiLister427_2018_AnnotatedProteins.fasta \n",
    "#-O InData/TriTrypDB-50_TbruceiLister427_2018_AnnotatedProteins.fasta\n",
    "\n"
   ]
  },
  {
   "cell_type": "code",
   "execution_count": null,
   "metadata": {},
   "outputs": [],
   "source": []
  },
  {
   "cell_type": "code",
   "execution_count": 10,
   "metadata": {},
   "outputs": [
    {
     "data": {
      "text/plain": [
       "'\\ndef chunk(it, size):\\n    it = iter(it)\\n    return iter(lambda: tuple(islice(it, size)), ())\\n\\nout = []\\nrecord_dict = {}\\nwith open(\"InData/TriTrypDB-50_TbruceiLister427_2018_AnnotatedProteins.fasta\") as handle:\\n    for index, record in enumerate(SeqIO.parse(handle, \"fasta\")):\\n        record_dict[\\'seq_\\'+str(index)] = record.id\\n        record.id = \\'seq_\\'+str(index)\\n        out.append(record)\\n        #break\\n\\n\\n!mkdir -p InData/CD_Search/\\nfor index,ch in enumerate(chunk(out, 3000)):\\n    fname = \\'InData/CD_Search/indata_CD_Search_427_\\'+str(index)\\n    fout = open(fname, \\'w\\')\\n    for record in ch:\\n        SeqIO.write( record,fout,\\'fasta\\')\\n    fout.close()\\n'"
      ]
     },
     "execution_count": 10,
     "metadata": {},
     "output_type": "execute_result"
    }
   ],
   "source": [
    "'''\n",
    "def chunk(it, size):\n",
    "    it = iter(it)\n",
    "    return iter(lambda: tuple(islice(it, size)), ())\n",
    "\n",
    "out = []\n",
    "record_dict = {}\n",
    "with open(\"InData/TriTrypDB-50_TbruceiLister427_2018_AnnotatedProteins.fasta\") as handle:\n",
    "    for index, record in enumerate(SeqIO.parse(handle, \"fasta\")):\n",
    "        record_dict['seq_'+str(index)] = record.id\n",
    "        record.id = 'seq_'+str(index)\n",
    "        out.append(record)\n",
    "        #break\n",
    "\n",
    "\n",
    "!mkdir -p InData/CD_Search/\n",
    "for index,ch in enumerate(chunk(out, 3000)):\n",
    "    fname = 'InData/CD_Search/indata_CD_Search_427_'+str(index)\n",
    "    fout = open(fname, 'w')\n",
    "    for record in ch:\n",
    "        SeqIO.write( record,fout,'fasta')\n",
    "    fout.close()\n",
    "'''    "
   ]
  },
  {
   "cell_type": "code",
   "execution_count": 11,
   "metadata": {},
   "outputs": [
    {
     "data": {
      "text/html": [
       "<div>\n",
       "<style scoped>\n",
       "    .dataframe tbody tr th:only-of-type {\n",
       "        vertical-align: middle;\n",
       "    }\n",
       "\n",
       "    .dataframe tbody tr th {\n",
       "        vertical-align: top;\n",
       "    }\n",
       "\n",
       "    .dataframe thead th {\n",
       "        text-align: right;\n",
       "    }\n",
       "</style>\n",
       "<table border=\"1\" class=\"dataframe\">\n",
       "  <thead>\n",
       "    <tr style=\"text-align: right;\">\n",
       "      <th></th>\n",
       "      <th>Query</th>\n",
       "      <th>Hit type</th>\n",
       "      <th>PSSM-ID</th>\n",
       "      <th>From</th>\n",
       "      <th>To</th>\n",
       "      <th>E-Value</th>\n",
       "      <th>Bitscore</th>\n",
       "      <th>Accession</th>\n",
       "      <th>Short name</th>\n",
       "      <th>Incomplete</th>\n",
       "      <th>Superfamily</th>\n",
       "      <th>seq_id</th>\n",
       "      <th>gene_id</th>\n",
       "    </tr>\n",
       "  </thead>\n",
       "  <tbody>\n",
       "    <tr>\n",
       "      <th>2016</th>\n",
       "      <td>Q#2196 - &gt;seq_11195 Tb11.1690:pseudogenic_tran...</td>\n",
       "      <td>non-specific</td>\n",
       "      <td>395732</td>\n",
       "      <td>88</td>\n",
       "      <td>403</td>\n",
       "      <td>2.926680e-04</td>\n",
       "      <td>43.1506</td>\n",
       "      <td>pfam00913</td>\n",
       "      <td>Trypan_glycop</td>\n",
       "      <td>-</td>\n",
       "      <td>-</td>\n",
       "      <td>seq_11195</td>\n",
       "      <td>Tb11.1690</td>\n",
       "    </tr>\n",
       "    <tr>\n",
       "      <th>2017</th>\n",
       "      <td>Q#2196 - &gt;seq_11195 Tb11.1690:pseudogenic_tran...</td>\n",
       "      <td>superfamily</td>\n",
       "      <td>287612</td>\n",
       "      <td>475</td>\n",
       "      <td>514</td>\n",
       "      <td>8.069620e-03</td>\n",
       "      <td>36.2338</td>\n",
       "      <td>cl11264</td>\n",
       "      <td>Trypan_glycop_C superfamily</td>\n",
       "      <td>C</td>\n",
       "      <td>-</td>\n",
       "      <td>seq_11195</td>\n",
       "      <td>Tb11.1690</td>\n",
       "    </tr>\n",
       "    <tr>\n",
       "      <th>2018</th>\n",
       "      <td>Q#2197 - &gt;seq_11196 Tb11.1700:pseudogenic_tran...</td>\n",
       "      <td>non-specific</td>\n",
       "      <td>395732</td>\n",
       "      <td>216</td>\n",
       "      <td>516</td>\n",
       "      <td>9.775360e-07</td>\n",
       "      <td>50.8546</td>\n",
       "      <td>pfam00913</td>\n",
       "      <td>Trypan_glycop</td>\n",
       "      <td>-</td>\n",
       "      <td>-</td>\n",
       "      <td>seq_11196</td>\n",
       "      <td>Tb11.1700</td>\n",
       "    </tr>\n",
       "    <tr>\n",
       "      <th>2019</th>\n",
       "      <td>Q#2202 - &gt;seq_11201 Tb11.1800:pseudogenic_tran...</td>\n",
       "      <td>superfamily</td>\n",
       "      <td>302859</td>\n",
       "      <td>1</td>\n",
       "      <td>387</td>\n",
       "      <td>4.186380e-164</td>\n",
       "      <td>478.5540</td>\n",
       "      <td>cl19421</td>\n",
       "      <td>RHSP superfamily</td>\n",
       "      <td>C</td>\n",
       "      <td>-</td>\n",
       "      <td>seq_11201</td>\n",
       "      <td>Tb11.1800</td>\n",
       "    </tr>\n",
       "    <tr>\n",
       "      <th>2020</th>\n",
       "      <td>Q#2203 - &gt;seq_11202 Tb11.1810.1-p1 | transcrip...</td>\n",
       "      <td>superfamily</td>\n",
       "      <td>302859</td>\n",
       "      <td>1</td>\n",
       "      <td>222</td>\n",
       "      <td>7.326060e-103</td>\n",
       "      <td>315.2300</td>\n",
       "      <td>cl19421</td>\n",
       "      <td>RHSP superfamily</td>\n",
       "      <td>N</td>\n",
       "      <td>-</td>\n",
       "      <td>seq_11202</td>\n",
       "      <td>Tb11.1810</td>\n",
       "    </tr>\n",
       "  </tbody>\n",
       "</table>\n",
       "</div>"
      ],
      "text/plain": [
       "                                                  Query      Hit type  \\\n",
       "2016  Q#2196 - >seq_11195 Tb11.1690:pseudogenic_tran...  non-specific   \n",
       "2017  Q#2196 - >seq_11195 Tb11.1690:pseudogenic_tran...   superfamily   \n",
       "2018  Q#2197 - >seq_11196 Tb11.1700:pseudogenic_tran...  non-specific   \n",
       "2019  Q#2202 - >seq_11201 Tb11.1800:pseudogenic_tran...   superfamily   \n",
       "2020  Q#2203 - >seq_11202 Tb11.1810.1-p1 | transcrip...   superfamily   \n",
       "\n",
       "      PSSM-ID  From   To        E-Value  Bitscore  Accession  \\\n",
       "2016   395732    88  403   2.926680e-04   43.1506  pfam00913   \n",
       "2017   287612   475  514   8.069620e-03   36.2338    cl11264   \n",
       "2018   395732   216  516   9.775360e-07   50.8546  pfam00913   \n",
       "2019   302859     1  387  4.186380e-164  478.5540    cl19421   \n",
       "2020   302859     1  222  7.326060e-103  315.2300    cl19421   \n",
       "\n",
       "                       Short name Incomplete Superfamily     seq_id    gene_id  \n",
       "2016                Trypan_glycop         -           -   seq_11195  Tb11.1690  \n",
       "2017  Trypan_glycop_C superfamily          C          -   seq_11195  Tb11.1690  \n",
       "2018                Trypan_glycop         -           -   seq_11196  Tb11.1700  \n",
       "2019             RHSP superfamily          C          -   seq_11201  Tb11.1800  \n",
       "2020             RHSP superfamily          N          -   seq_11202  Tb11.1810  "
      ]
     },
     "execution_count": 11,
     "metadata": {},
     "output_type": "execute_result"
    }
   ],
   "source": [
    "\n",
    "\n",
    "def get_fasta_desc(fasta_desc):\n",
    "    res = {}\n",
    "    for n in fasta_desc.split(\" | \"):\n",
    "        if '=' in n:\n",
    "            key = n.split('=')[0].strip()\n",
    "            value = n.split('=')[1].strip()\n",
    "            res[key]=value\n",
    "    return res\n",
    "\n",
    "# from io import StringIO\n",
    "def read_csv(filename, comment='#', sep='\\t', ):\n",
    "    lines = \"\".join([line for line in open(filename) \n",
    "                     if not line.startswith(comment)])\n",
    "    return pd.read_csv(StringIO(lines), sep=sep)\n",
    "\n",
    "df_list = []\n",
    "for f in ['/homes/mtinti/mtinti_2/DH_Douglas/vsg_victor/InData/CD_Search/927_{}_hitdata.txt'.format(n) for n in range(0,4)]:\n",
    "    temp = read_csv(f)\n",
    "    temp['seq_id'] = [n.split(' ')[2][1:] for n in temp['Query']]\n",
    "    temp['gene_id'] = [get_fasta_desc(n)['gene'] for n in temp['Query']]\n",
    "    df_list.append(temp)\n",
    "df_domains=pd.concat(df_list)\n",
    "df_domains.tail()\n",
    "\n"
   ]
  },
  {
   "cell_type": "code",
   "execution_count": null,
   "metadata": {},
   "outputs": [],
   "source": []
  },
  {
   "cell_type": "code",
   "execution_count": 12,
   "metadata": {},
   "outputs": [
    {
     "data": {
      "text/plain": [
       "'VSG_B; Trypan_glycop_C'"
      ]
     },
     "execution_count": 12,
     "metadata": {},
     "output_type": "execute_result"
    }
   ],
   "source": [
    "domain_dict = {}\n",
    "for temp_id in df_domains.gene_id.unique():\n",
    "    temp = df_domains[df_domains['gene_id']==temp_id]\n",
    "    domains = list(temp['Short name'].values) \n",
    "    domains = '; '.join(domains)\n",
    "    domain_dict[temp_id]=domains\n",
    "domain_dict[list(domain_dict.keys())[0]]"
   ]
  },
  {
   "cell_type": "code",
   "execution_count": null,
   "metadata": {},
   "outputs": [],
   "source": []
  },
  {
   "cell_type": "code",
   "execution_count": 13,
   "metadata": {},
   "outputs": [
    {
     "name": "stdout",
     "output_type": "stream",
     "text": [
      "--2023-04-06 09:20:32--  https://tritrypdb.org/common/downloads/release-55/TbruceiTREU927/gff/data/TriTrypDB-55_TbruceiTREU927.gff\n",
      "Resolving tritrypdb.org (tritrypdb.org)... 128.192.21.13\n",
      "Connecting to tritrypdb.org (tritrypdb.org)|128.192.21.13|:443... connected.\n",
      "HTTP request sent, awaiting response... 200 OK\n",
      "Length: 9074123 (8.7M) [application/x-gff]\n",
      "Saving to: ‘InData/TriTrypDB-55_TbruceiTREU927.gff’\n",
      "\n",
      "InData/TriTrypDB-55 100%[===================>]   8.65M  2.16MB/s    in 4.3s    \n",
      "\n",
      "2023-04-06 09:20:37 (2.03 MB/s) - ‘InData/TriTrypDB-55_TbruceiTREU927.gff’ saved [9074123/9074123]\n",
      "\n"
     ]
    }
   ],
   "source": [
    "!wget https://tritrypdb.org/common/downloads/release-55/TbruceiTREU927/gff/data/TriTrypDB-55_TbruceiTREU927.gff -O InData/TriTrypDB-55_TbruceiTREU927.gff "
   ]
  },
  {
   "cell_type": "code",
   "execution_count": 14,
   "metadata": {},
   "outputs": [],
   "source": [
    "#create a dictionary of gene to desc\n",
    "#from the gff file\n",
    "def make_desc(_GFF):\n",
    "    gff =pd.read_csv( _GFF, sep='\\t', header=None, comment='#')\n",
    "    #print(gff)\n",
    "    gff = gff[gff.iloc[:,2].str.contains('gene')]\n",
    "    #print( gff[gff[gff.columns[-1]].str.contains('Tb427_020006200')] )\n",
    "    #print(gff)\n",
    "    desc = {}\n",
    "    chr_dict = {}\n",
    "    start_dict = {}\n",
    "    sense_dict = {}\n",
    "    for index,n in enumerate(gff.iloc[:,-1]):\n",
    "        n=n.replace('%2C',' ')\n",
    "        item_list = n.split(';')\n",
    "        #print (item_list)\n",
    "        temp_dict = {}\n",
    "        for m in item_list:\n",
    "            #print(m)\n",
    "            temp_dict[m.split('=')[0].strip()]=m.split('=')[1].strip()\n",
    "        #print(temp_dict['ID'])\n",
    "        #print(temp_dict['description'])\n",
    "        desc[temp_dict['ID']]=temp_dict.get('description','none')\n",
    "        chr_dict[temp_dict['ID']]=gff.iloc[index][0]\n",
    "        start_dict[temp_dict['ID']]=gff.iloc[index][3]\n",
    "        sense_dict[temp_dict['ID']]=gff.iloc[index][6]\n",
    "        \n",
    "    return desc,chr_dict,start_dict,sense_dict\n",
    "\n",
    "desc_dict_gff, _, _,_ = make_desc('InData/TriTrypDB-55_TbruceiTREU927.gff')\n",
    "\n",
    "#(list(desc_dict.keys())[0],\n",
    "# desc_dict[list(desc_dict.keys())[0]],\n",
    "# chr_dict[list(desc_dict.keys())[0]],\n",
    "# start_dict[list(desc_dict.keys())[0]],\n",
    "#sense_dict[list(desc_dict.keys())[0]],\n",
    "#)\n",
    "#desc_dict_gff"
   ]
  },
  {
   "cell_type": "code",
   "execution_count": 15,
   "metadata": {},
   "outputs": [
    {
     "data": {
      "text/plain": [
       "('gene-Tb427.BES40.1', 'gene-Tb427.BES40.1', 'FM162566.1', 1016, '+')"
      ]
     },
     "execution_count": 15,
     "metadata": {},
     "output_type": "execute_result"
    }
   ],
   "source": [
    "#create a dictionary of gene to desc\n",
    "#from the gff file\n",
    "def make_desc(_GFF):\n",
    "    gff =pd.read_csv( _GFF, sep='\\t', header=None, comment='#')\n",
    "    \n",
    "    gff = gff[gff.iloc[:,2]=='exon']\n",
    "    \n",
    "    #print( gff[gff[gff.columns[-1]].str.contains('Tb427_020006200')] )\n",
    "    desc = {}\n",
    "    chr_dict = {}\n",
    "    start_dict = {}\n",
    "    sense_dict = {}\n",
    "    for index,n in enumerate(gff.iloc[:,-1]):\n",
    "        #print(n)\n",
    "        n=n.replace('%2C',' ')\n",
    "        item_list = n.split(';')\n",
    "        item_list = [n for n in item_list if len(n)>0]\n",
    "        temp_dict = {}\n",
    "        \n",
    "        for m in item_list:\n",
    "            \n",
    "            temp_dict[m.strip().split(' ')[0].strip().replace('\\\"','')\n",
    "                     ]=m.strip().split(' ')[1].strip().replace('\\\"','')\n",
    "        #print(temp_dict)\n",
    "        #print(temp_dict['description'])\n",
    "        desc[temp_dict['gene_id']]=temp_dict.get('description',temp_dict['gene_id'])\n",
    "        chr_dict[temp_dict['gene_id']]=gff.iloc[index][0]\n",
    "        start_dict[temp_dict['gene_id']]=gff.iloc[index][3]\n",
    "        sense_dict[temp_dict['gene_id']]=gff.iloc[index][6]\n",
    "        \n",
    "    return desc,chr_dict,start_dict,sense_dict\n",
    "\n",
    "desc_dict, chr_dict, start_dict,sense_dict = make_desc('genomes/tb927_55/tb927_55.gtf')\n",
    "(list(desc_dict.keys())[0],\n",
    " desc_dict[list(desc_dict.keys())[0]],\n",
    " chr_dict[list(desc_dict.keys())[0]],\n",
    " start_dict[list(desc_dict.keys())[0]],\n",
    "sense_dict[list(desc_dict.keys())[0]],\n",
    ")"
   ]
  },
  {
   "cell_type": "code",
   "execution_count": 16,
   "metadata": {},
   "outputs": [],
   "source": [
    "desc_dict.update(desc_dict_gff)"
   ]
  },
  {
   "cell_type": "code",
   "execution_count": 17,
   "metadata": {},
   "outputs": [
    {
     "data": {
      "text/plain": [
       "'gene-Tb427.BES40.1'"
      ]
     },
     "execution_count": 17,
     "metadata": {},
     "output_type": "execute_result"
    }
   ],
   "source": [
    "desc_dict['gene-Tb427.BES40.1']"
   ]
  },
  {
   "cell_type": "code",
   "execution_count": 18,
   "metadata": {},
   "outputs": [
    {
     "data": {
      "text/plain": [
       "'gene-Tb427.BES40.1'"
      ]
     },
     "execution_count": 18,
     "metadata": {},
     "output_type": "execute_result"
    }
   ],
   "source": [
    "desc_dict['gene-Tb427.BES40.1']"
   ]
  },
  {
   "cell_type": "code",
   "execution_count": 19,
   "metadata": {},
   "outputs": [
    {
     "data": {
      "text/plain": [
       "['A25', 'A5', 'A9', 'B25', 'B5', 'B9', 'C25', 'C5', 'C9']"
      ]
     },
     "execution_count": 19,
     "metadata": {},
     "output_type": "execute_result"
    }
   ],
   "source": [
    "replace_list = eval(open('vars_def_927').read())\n",
    "list_df = [n['experiment'] for n in replace_list]\n",
    "list_df"
   ]
  },
  {
   "cell_type": "code",
   "execution_count": 20,
   "metadata": {},
   "outputs": [
    {
     "data": {
      "text/html": [
       "<div>\n",
       "<style scoped>\n",
       "    .dataframe tbody tr th:only-of-type {\n",
       "        vertical-align: middle;\n",
       "    }\n",
       "\n",
       "    .dataframe tbody tr th {\n",
       "        vertical-align: top;\n",
       "    }\n",
       "\n",
       "    .dataframe thead th {\n",
       "        text-align: right;\n",
       "    }\n",
       "</style>\n",
       "<table border=\"1\" class=\"dataframe\">\n",
       "  <thead>\n",
       "    <tr style=\"text-align: right;\">\n",
       "      <th></th>\n",
       "      <th>Chr</th>\n",
       "      <th>Start</th>\n",
       "      <th>End</th>\n",
       "      <th>Strand</th>\n",
       "      <th>Length</th>\n",
       "      <th>/tmp/1152422.1.all.q/A25/A25sorted.bam</th>\n",
       "      <th>/tmp/1152423.1.all.q/A5/A5sorted.bam</th>\n",
       "      <th>/tmp/1152424.1.all.q/A9/A9sorted.bam</th>\n",
       "      <th>/tmp/1152425.1.all.q/B25/B25sorted.bam</th>\n",
       "      <th>/tmp/1152426.1.all.q/B5/B5sorted.bam</th>\n",
       "      <th>/tmp/1152427.1.all.q/B9/B9sorted.bam</th>\n",
       "      <th>/tmp/1152428.1.all.q/C25/C25sorted.bam</th>\n",
       "      <th>/tmp/1152429.1.all.q/C5/C5sorted.bam</th>\n",
       "      <th>/tmp/1152430.1.all.q/C9/C9sorted.bam</th>\n",
       "    </tr>\n",
       "    <tr>\n",
       "      <th>Geneid</th>\n",
       "      <th></th>\n",
       "      <th></th>\n",
       "      <th></th>\n",
       "      <th></th>\n",
       "      <th></th>\n",
       "      <th></th>\n",
       "      <th></th>\n",
       "      <th></th>\n",
       "      <th></th>\n",
       "      <th></th>\n",
       "      <th></th>\n",
       "      <th></th>\n",
       "      <th></th>\n",
       "      <th></th>\n",
       "    </tr>\n",
       "  </thead>\n",
       "  <tbody>\n",
       "    <tr>\n",
       "      <th>gene_Tb427VSG-3039</th>\n",
       "      <td>Tb427VSG-3039</td>\n",
       "      <td>1</td>\n",
       "      <td>1199</td>\n",
       "      <td>+</td>\n",
       "      <td>1199</td>\n",
       "      <td>4724</td>\n",
       "      <td>40009</td>\n",
       "      <td>32297</td>\n",
       "      <td>5768</td>\n",
       "      <td>34782</td>\n",
       "      <td>33738</td>\n",
       "      <td>5359</td>\n",
       "      <td>35395</td>\n",
       "      <td>32517</td>\n",
       "    </tr>\n",
       "    <tr>\n",
       "      <th>gene_Tb427VSG-23</th>\n",
       "      <td>Tb427VSG-23</td>\n",
       "      <td>1</td>\n",
       "      <td>1199</td>\n",
       "      <td>+</td>\n",
       "      <td>1199</td>\n",
       "      <td>413001</td>\n",
       "      <td>399661</td>\n",
       "      <td>432075</td>\n",
       "      <td>463670</td>\n",
       "      <td>326425</td>\n",
       "      <td>496225</td>\n",
       "      <td>464958</td>\n",
       "      <td>315900</td>\n",
       "      <td>490074</td>\n",
       "    </tr>\n",
       "    <tr>\n",
       "      <th>gene_Tb427VSG-649</th>\n",
       "      <td>Tb427VSG-649</td>\n",
       "      <td>1</td>\n",
       "      <td>1199</td>\n",
       "      <td>+</td>\n",
       "      <td>1199</td>\n",
       "      <td>445</td>\n",
       "      <td>2809</td>\n",
       "      <td>2263</td>\n",
       "      <td>689</td>\n",
       "      <td>2478</td>\n",
       "      <td>2570</td>\n",
       "      <td>473</td>\n",
       "      <td>2369</td>\n",
       "      <td>2581</td>\n",
       "    </tr>\n",
       "    <tr>\n",
       "      <th>gene_Tb427VSG-22</th>\n",
       "      <td>Tb427VSG-22</td>\n",
       "      <td>1</td>\n",
       "      <td>1199</td>\n",
       "      <td>+</td>\n",
       "      <td>1199</td>\n",
       "      <td>4794</td>\n",
       "      <td>8783</td>\n",
       "      <td>8118</td>\n",
       "      <td>4803</td>\n",
       "      <td>7957</td>\n",
       "      <td>8857</td>\n",
       "      <td>4996</td>\n",
       "      <td>7985</td>\n",
       "      <td>8579</td>\n",
       "    </tr>\n",
       "    <tr>\n",
       "      <th>gene_Tb427VSG-1117</th>\n",
       "      <td>Tb427VSG-1117</td>\n",
       "      <td>1</td>\n",
       "      <td>1199</td>\n",
       "      <td>+</td>\n",
       "      <td>1199</td>\n",
       "      <td>1</td>\n",
       "      <td>2</td>\n",
       "      <td>0</td>\n",
       "      <td>1</td>\n",
       "      <td>2</td>\n",
       "      <td>0</td>\n",
       "      <td>0</td>\n",
       "      <td>0</td>\n",
       "      <td>0</td>\n",
       "    </tr>\n",
       "  </tbody>\n",
       "</table>\n",
       "</div>"
      ],
      "text/plain": [
       "                              Chr Start   End Strand  Length  \\\n",
       "Geneid                                                         \n",
       "gene_Tb427VSG-3039  Tb427VSG-3039     1  1199      +    1199   \n",
       "gene_Tb427VSG-23      Tb427VSG-23     1  1199      +    1199   \n",
       "gene_Tb427VSG-649    Tb427VSG-649     1  1199      +    1199   \n",
       "gene_Tb427VSG-22      Tb427VSG-22     1  1199      +    1199   \n",
       "gene_Tb427VSG-1117  Tb427VSG-1117     1  1199      +    1199   \n",
       "\n",
       "                    /tmp/1152422.1.all.q/A25/A25sorted.bam  \\\n",
       "Geneid                                                       \n",
       "gene_Tb427VSG-3039                                    4724   \n",
       "gene_Tb427VSG-23                                    413001   \n",
       "gene_Tb427VSG-649                                      445   \n",
       "gene_Tb427VSG-22                                      4794   \n",
       "gene_Tb427VSG-1117                                       1   \n",
       "\n",
       "                    /tmp/1152423.1.all.q/A5/A5sorted.bam  \\\n",
       "Geneid                                                     \n",
       "gene_Tb427VSG-3039                                 40009   \n",
       "gene_Tb427VSG-23                                  399661   \n",
       "gene_Tb427VSG-649                                   2809   \n",
       "gene_Tb427VSG-22                                    8783   \n",
       "gene_Tb427VSG-1117                                     2   \n",
       "\n",
       "                    /tmp/1152424.1.all.q/A9/A9sorted.bam  \\\n",
       "Geneid                                                     \n",
       "gene_Tb427VSG-3039                                 32297   \n",
       "gene_Tb427VSG-23                                  432075   \n",
       "gene_Tb427VSG-649                                   2263   \n",
       "gene_Tb427VSG-22                                    8118   \n",
       "gene_Tb427VSG-1117                                     0   \n",
       "\n",
       "                    /tmp/1152425.1.all.q/B25/B25sorted.bam  \\\n",
       "Geneid                                                       \n",
       "gene_Tb427VSG-3039                                    5768   \n",
       "gene_Tb427VSG-23                                    463670   \n",
       "gene_Tb427VSG-649                                      689   \n",
       "gene_Tb427VSG-22                                      4803   \n",
       "gene_Tb427VSG-1117                                       1   \n",
       "\n",
       "                    /tmp/1152426.1.all.q/B5/B5sorted.bam  \\\n",
       "Geneid                                                     \n",
       "gene_Tb427VSG-3039                                 34782   \n",
       "gene_Tb427VSG-23                                  326425   \n",
       "gene_Tb427VSG-649                                   2478   \n",
       "gene_Tb427VSG-22                                    7957   \n",
       "gene_Tb427VSG-1117                                     2   \n",
       "\n",
       "                    /tmp/1152427.1.all.q/B9/B9sorted.bam  \\\n",
       "Geneid                                                     \n",
       "gene_Tb427VSG-3039                                 33738   \n",
       "gene_Tb427VSG-23                                  496225   \n",
       "gene_Tb427VSG-649                                   2570   \n",
       "gene_Tb427VSG-22                                    8857   \n",
       "gene_Tb427VSG-1117                                     0   \n",
       "\n",
       "                    /tmp/1152428.1.all.q/C25/C25sorted.bam  \\\n",
       "Geneid                                                       \n",
       "gene_Tb427VSG-3039                                    5359   \n",
       "gene_Tb427VSG-23                                    464958   \n",
       "gene_Tb427VSG-649                                      473   \n",
       "gene_Tb427VSG-22                                      4996   \n",
       "gene_Tb427VSG-1117                                       0   \n",
       "\n",
       "                    /tmp/1152429.1.all.q/C5/C5sorted.bam  \\\n",
       "Geneid                                                     \n",
       "gene_Tb427VSG-3039                                 35395   \n",
       "gene_Tb427VSG-23                                  315900   \n",
       "gene_Tb427VSG-649                                   2369   \n",
       "gene_Tb427VSG-22                                    7985   \n",
       "gene_Tb427VSG-1117                                     0   \n",
       "\n",
       "                    /tmp/1152430.1.all.q/C9/C9sorted.bam  \n",
       "Geneid                                                    \n",
       "gene_Tb427VSG-3039                                 32517  \n",
       "gene_Tb427VSG-23                                  490074  \n",
       "gene_Tb427VSG-649                                   2581  \n",
       "gene_Tb427VSG-22                                    8579  \n",
       "gene_Tb427VSG-1117                                     0  "
      ]
     },
     "execution_count": 20,
     "metadata": {},
     "output_type": "execute_result"
    }
   ],
   "source": [
    "#read all the rna-seq reads counts for each sampe\n",
    "#exp = '{life_stage}{replica}'\n",
    "#list_df = [exp.format(\n",
    "#    life_stage=life_stage,\n",
    "#    replica=replica) \n",
    "# for life_stage in ['C','T']\n",
    "# for replica in ['1','2','3']]\n",
    "\n",
    "#aggregate counts in one dataframe\n",
    "list_df = [n+'/res1_927/'+n+'/counts.txt' for n in list_df]\n",
    "list_df =[pd.read_csv(n,index_col=[0],comment='#',sep='\\t') for n in list_df]\n",
    "df = list_df[0].copy()\n",
    "for temp_df in list_df[1:]:\n",
    "    df = df.join(temp_df.iloc[:,-1])\n",
    "df.head()\n",
    "#temp_df = pd.read_csv('BSF/tb927_3_ks_counts_final.txt',index_col=[0],comment='#',sep='\\t')"
   ]
  },
  {
   "cell_type": "code",
   "execution_count": 21,
   "metadata": {},
   "outputs": [
    {
     "data": {
      "text/plain": [
       "Index(['/tmp/1152422.1.all.q/A25/A25sorted.bam',\n",
       "       '/tmp/1152423.1.all.q/A5/A5sorted.bam',\n",
       "       '/tmp/1152424.1.all.q/A9/A9sorted.bam',\n",
       "       '/tmp/1152425.1.all.q/B25/B25sorted.bam',\n",
       "       '/tmp/1152426.1.all.q/B5/B5sorted.bam',\n",
       "       '/tmp/1152427.1.all.q/B9/B9sorted.bam',\n",
       "       '/tmp/1152428.1.all.q/C25/C25sorted.bam',\n",
       "       '/tmp/1152429.1.all.q/C5/C5sorted.bam',\n",
       "       '/tmp/1152430.1.all.q/C9/C9sorted.bam'],\n",
       "      dtype='object')"
      ]
     },
     "execution_count": 21,
     "metadata": {},
     "output_type": "execute_result"
    }
   ],
   "source": [
    "data_col = df.columns[5:]\n",
    "data_col"
   ]
  },
  {
   "cell_type": "code",
   "execution_count": 22,
   "metadata": {},
   "outputs": [
    {
     "data": {
      "text/html": [
       "<div>\n",
       "<style scoped>\n",
       "    .dataframe tbody tr th:only-of-type {\n",
       "        vertical-align: middle;\n",
       "    }\n",
       "\n",
       "    .dataframe tbody tr th {\n",
       "        vertical-align: top;\n",
       "    }\n",
       "\n",
       "    .dataframe thead th {\n",
       "        text-align: right;\n",
       "    }\n",
       "</style>\n",
       "<table border=\"1\" class=\"dataframe\">\n",
       "  <thead>\n",
       "    <tr style=\"text-align: right;\">\n",
       "      <th></th>\n",
       "      <th>A25</th>\n",
       "      <th>A5</th>\n",
       "      <th>A9</th>\n",
       "      <th>B25</th>\n",
       "      <th>B5</th>\n",
       "      <th>B9</th>\n",
       "      <th>C25</th>\n",
       "      <th>C5</th>\n",
       "      <th>C9</th>\n",
       "    </tr>\n",
       "    <tr>\n",
       "      <th>Geneid</th>\n",
       "      <th></th>\n",
       "      <th></th>\n",
       "      <th></th>\n",
       "      <th></th>\n",
       "      <th></th>\n",
       "      <th></th>\n",
       "      <th></th>\n",
       "      <th></th>\n",
       "      <th></th>\n",
       "    </tr>\n",
       "  </thead>\n",
       "  <tbody>\n",
       "    <tr>\n",
       "      <th>gene_Tb427VSG-3039</th>\n",
       "      <td>4724</td>\n",
       "      <td>40009</td>\n",
       "      <td>32297</td>\n",
       "      <td>5768</td>\n",
       "      <td>34782</td>\n",
       "      <td>33738</td>\n",
       "      <td>5359</td>\n",
       "      <td>35395</td>\n",
       "      <td>32517</td>\n",
       "    </tr>\n",
       "    <tr>\n",
       "      <th>gene_Tb427VSG-23</th>\n",
       "      <td>413001</td>\n",
       "      <td>399661</td>\n",
       "      <td>432075</td>\n",
       "      <td>463670</td>\n",
       "      <td>326425</td>\n",
       "      <td>496225</td>\n",
       "      <td>464958</td>\n",
       "      <td>315900</td>\n",
       "      <td>490074</td>\n",
       "    </tr>\n",
       "    <tr>\n",
       "      <th>gene_Tb427VSG-649</th>\n",
       "      <td>445</td>\n",
       "      <td>2809</td>\n",
       "      <td>2263</td>\n",
       "      <td>689</td>\n",
       "      <td>2478</td>\n",
       "      <td>2570</td>\n",
       "      <td>473</td>\n",
       "      <td>2369</td>\n",
       "      <td>2581</td>\n",
       "    </tr>\n",
       "    <tr>\n",
       "      <th>gene_Tb427VSG-22</th>\n",
       "      <td>4794</td>\n",
       "      <td>8783</td>\n",
       "      <td>8118</td>\n",
       "      <td>4803</td>\n",
       "      <td>7957</td>\n",
       "      <td>8857</td>\n",
       "      <td>4996</td>\n",
       "      <td>7985</td>\n",
       "      <td>8579</td>\n",
       "    </tr>\n",
       "    <tr>\n",
       "      <th>gene_Tb427VSG-1117</th>\n",
       "      <td>1</td>\n",
       "      <td>2</td>\n",
       "      <td>0</td>\n",
       "      <td>1</td>\n",
       "      <td>2</td>\n",
       "      <td>0</td>\n",
       "      <td>0</td>\n",
       "      <td>0</td>\n",
       "      <td>0</td>\n",
       "    </tr>\n",
       "  </tbody>\n",
       "</table>\n",
       "</div>"
      ],
      "text/plain": [
       "                       A25      A5      A9     B25      B5      B9     C25  \\\n",
       "Geneid                                                                       \n",
       "gene_Tb427VSG-3039    4724   40009   32297    5768   34782   33738    5359   \n",
       "gene_Tb427VSG-23    413001  399661  432075  463670  326425  496225  464958   \n",
       "gene_Tb427VSG-649      445    2809    2263     689    2478    2570     473   \n",
       "gene_Tb427VSG-22      4794    8783    8118    4803    7957    8857    4996   \n",
       "gene_Tb427VSG-1117       1       2       0       1       2       0       0   \n",
       "\n",
       "                        C5      C9  \n",
       "Geneid                              \n",
       "gene_Tb427VSG-3039   35395   32517  \n",
       "gene_Tb427VSG-23    315900  490074  \n",
       "gene_Tb427VSG-649     2369    2581  \n",
       "gene_Tb427VSG-22      7985    8579  \n",
       "gene_Tb427VSG-1117       0       0  "
      ]
     },
     "execution_count": 22,
     "metadata": {},
     "output_type": "execute_result"
    }
   ],
   "source": [
    "#rename columns for convenience\n",
    "indata = df[data_col]\n",
    "indata.columns = [n.split('/')[3] for  n in indata.columns]\n",
    "indata.head()"
   ]
  },
  {
   "cell_type": "code",
   "execution_count": 23,
   "metadata": {},
   "outputs": [
    {
     "data": {
      "text/plain": [
       "Index(['/tmp/1152422.1.all.q/A25/A25sorted.bam',\n",
       "       '/tmp/1152423.1.all.q/A5/A5sorted.bam',\n",
       "       '/tmp/1152424.1.all.q/A9/A9sorted.bam',\n",
       "       '/tmp/1152425.1.all.q/B25/B25sorted.bam',\n",
       "       '/tmp/1152426.1.all.q/B5/B5sorted.bam',\n",
       "       '/tmp/1152427.1.all.q/B9/B9sorted.bam',\n",
       "       '/tmp/1152428.1.all.q/C25/C25sorted.bam',\n",
       "       '/tmp/1152429.1.all.q/C5/C5sorted.bam',\n",
       "       '/tmp/1152430.1.all.q/C9/C9sorted.bam'],\n",
       "      dtype='object')"
      ]
     },
     "execution_count": 23,
     "metadata": {},
     "output_type": "execute_result"
    }
   ],
   "source": [
    "data_col = df.columns[5:]\n",
    "data_col"
   ]
  },
  {
   "cell_type": "code",
   "execution_count": null,
   "metadata": {},
   "outputs": [],
   "source": []
  },
  {
   "cell_type": "code",
   "execution_count": 24,
   "metadata": {},
   "outputs": [
    {
     "name": "stdout",
     "output_type": "stream",
     "text": [
      "(11359, 9)\n",
      "(11359, 9)\n"
     ]
    },
    {
     "data": {
      "text/plain": [
       "A25    26299148\n",
       "A5     26708876\n",
       "A9     26430383\n",
       "B25    26961208\n",
       "B5     26071360\n",
       "B9     27472200\n",
       "C25    27519739\n",
       "C5     25760692\n",
       "C9     27215312\n",
       "dtype: int64"
      ]
     },
     "execution_count": 24,
     "metadata": {},
     "output_type": "execute_result"
    }
   ],
   "source": [
    "print(indata.shape)\n",
    "indata=indata.dropna()\n",
    "print(indata.shape)\n",
    "#indata.loc['KS17gene_1749a']\n",
    "#indata['desc']=[desc_dict.get(n,'none') for n in indata.index.values]\n",
    "#indata.to_csv('indata.csv')\n",
    "#indata.head()\n",
    "#indata.loc['mainVSG-427-2']\n",
    "indata.sum()\n",
    "#indata = indata.replace(1,np.nan).dropna(axis=1, how='all')\n",
    "#print(indata.shape)\n",
    "#indata.describe()"
   ]
  },
  {
   "cell_type": "markdown",
   "metadata": {},
   "source": [
    "## QC - Missing Data Viz"
   ]
  },
  {
   "cell_type": "code",
   "execution_count": 25,
   "metadata": {},
   "outputs": [
    {
     "data": {
      "text/plain": [
       "<matplotlib.axes._subplots.AxesSubplot at 0x2ae2104d2ac8>"
      ]
     },
     "execution_count": 25,
     "metadata": {},
     "output_type": "execute_result"
    },
    {
     "data": {
      "image/png": "[encoded data removed]",
      "text/plain": [
       "<Figure size 432x288 with 2 Axes>"
      ]
     },
     "metadata": {},
     "output_type": "display_data"
    }
   ],
   "source": [
    "msno.matrix(indata.replace(0,np.nan).dropna(how='all'),figsize=(6, 4))"
   ]
  },
  {
   "cell_type": "code",
   "execution_count": 26,
   "metadata": {},
   "outputs": [
    {
     "data": {
      "text/plain": [
       "<matplotlib.axes._subplots.AxesSubplot at 0x2ae216dd6908>"
      ]
     },
     "execution_count": 26,
     "metadata": {},
     "output_type": "execute_result"
    },
    {
     "data": {
      "image/png": "[encoded data removed]",
      "text/plain": [
       "<Figure size 432x288 with 3 Axes>"
      ]
     },
     "metadata": {},
     "output_type": "display_data"
    }
   ],
   "source": [
    "msno.bar(indata.replace(0,np.nan).dropna(how='all'),figsize=(6, 4))"
   ]
  },
  {
   "cell_type": "markdown",
   "metadata": {},
   "source": [
    "## QC - Corr analysis"
   ]
  },
  {
   "cell_type": "code",
   "execution_count": 27,
   "metadata": {},
   "outputs": [],
   "source": [
    "!mkdir -p Figures_927"
   ]
  },
  {
   "cell_type": "code",
   "execution_count": 28,
   "metadata": {},
   "outputs": [
    {
     "name": "stdout",
     "output_type": "stream",
     "text": [
      "(8.5, 0.5)\n"
     ]
    },
    {
     "data": {
      "image/png": "[encoded data removed]",
      "text/plain": [
       "<Figure size 432x432 with 2 Axes>"
      ]
     },
     "metadata": {},
     "output_type": "display_data"
    }
   ],
   "source": [
    "fig,ax=plt.subplots(figsize=(6,6))\n",
    "cbar_ax = fig.add_axes([.91, .6, .03, .2])\n",
    "sns.heatmap(np.log2(indata).corr(),\n",
    "            #vmin=-1,\n",
    "            cmap='coolwarm',\n",
    "            annot=True,linewidths=.5,ax=ax, cbar_ax = cbar_ax, cbar=True)\n",
    "print(ax.get_ylim())\n",
    "ax.set_ylim(6,0)\n",
    "plt.savefig('Figures_927/Figure_2.png')\n",
    "plt.show()"
   ]
  },
  {
   "cell_type": "code",
   "execution_count": 30,
   "metadata": {},
   "outputs": [
    {
     "data": {
      "text/plain": [
       "(11359, 9)"
      ]
     },
     "execution_count": 30,
     "metadata": {},
     "output_type": "execute_result"
    }
   ],
   "source": [
    "indata.shape"
   ]
  },
  {
   "cell_type": "code",
   "execution_count": 31,
   "metadata": {},
   "outputs": [
    {
     "data": {
      "text/html": [
       "<div>\n",
       "<style scoped>\n",
       "    .dataframe tbody tr th:only-of-type {\n",
       "        vertical-align: middle;\n",
       "    }\n",
       "\n",
       "    .dataframe tbody tr th {\n",
       "        vertical-align: top;\n",
       "    }\n",
       "\n",
       "    .dataframe thead th {\n",
       "        text-align: right;\n",
       "    }\n",
       "</style>\n",
       "<table border=\"1\" class=\"dataframe\">\n",
       "  <thead>\n",
       "    <tr style=\"text-align: right;\">\n",
       "      <th></th>\n",
       "      <th>A25</th>\n",
       "      <th>A5</th>\n",
       "      <th>A9</th>\n",
       "      <th>B25</th>\n",
       "      <th>B5</th>\n",
       "      <th>B9</th>\n",
       "      <th>C25</th>\n",
       "      <th>C5</th>\n",
       "      <th>C9</th>\n",
       "    </tr>\n",
       "    <tr>\n",
       "      <th>Geneid</th>\n",
       "      <th></th>\n",
       "      <th></th>\n",
       "      <th></th>\n",
       "      <th></th>\n",
       "      <th></th>\n",
       "      <th></th>\n",
       "      <th></th>\n",
       "      <th></th>\n",
       "      <th></th>\n",
       "    </tr>\n",
       "  </thead>\n",
       "  <tbody>\n",
       "    <tr>\n",
       "      <th>gene_Tb427VSG-3039</th>\n",
       "      <td>4724</td>\n",
       "      <td>40009</td>\n",
       "      <td>32297</td>\n",
       "      <td>5768</td>\n",
       "      <td>34782</td>\n",
       "      <td>33738</td>\n",
       "      <td>5359</td>\n",
       "      <td>35395</td>\n",
       "      <td>32517</td>\n",
       "    </tr>\n",
       "    <tr>\n",
       "      <th>gene_Tb427VSG-23</th>\n",
       "      <td>413001</td>\n",
       "      <td>399661</td>\n",
       "      <td>432075</td>\n",
       "      <td>463670</td>\n",
       "      <td>326425</td>\n",
       "      <td>496225</td>\n",
       "      <td>464958</td>\n",
       "      <td>315900</td>\n",
       "      <td>490074</td>\n",
       "    </tr>\n",
       "    <tr>\n",
       "      <th>gene_Tb427VSG-649</th>\n",
       "      <td>445</td>\n",
       "      <td>2809</td>\n",
       "      <td>2263</td>\n",
       "      <td>689</td>\n",
       "      <td>2478</td>\n",
       "      <td>2570</td>\n",
       "      <td>473</td>\n",
       "      <td>2369</td>\n",
       "      <td>2581</td>\n",
       "    </tr>\n",
       "    <tr>\n",
       "      <th>gene_Tb427VSG-22</th>\n",
       "      <td>4794</td>\n",
       "      <td>8783</td>\n",
       "      <td>8118</td>\n",
       "      <td>4803</td>\n",
       "      <td>7957</td>\n",
       "      <td>8857</td>\n",
       "      <td>4996</td>\n",
       "      <td>7985</td>\n",
       "      <td>8579</td>\n",
       "    </tr>\n",
       "    <tr>\n",
       "      <th>gene_Tb427VSG-1117</th>\n",
       "      <td>1</td>\n",
       "      <td>2</td>\n",
       "      <td>0</td>\n",
       "      <td>1</td>\n",
       "      <td>2</td>\n",
       "      <td>0</td>\n",
       "      <td>0</td>\n",
       "      <td>0</td>\n",
       "      <td>0</td>\n",
       "    </tr>\n",
       "  </tbody>\n",
       "</table>\n",
       "</div>"
      ],
      "text/plain": [
       "                       A25      A5      A9     B25      B5      B9     C25  \\\n",
       "Geneid                                                                       \n",
       "gene_Tb427VSG-3039    4724   40009   32297    5768   34782   33738    5359   \n",
       "gene_Tb427VSG-23    413001  399661  432075  463670  326425  496225  464958   \n",
       "gene_Tb427VSG-649      445    2809    2263     689    2478    2570     473   \n",
       "gene_Tb427VSG-22      4794    8783    8118    4803    7957    8857    4996   \n",
       "gene_Tb427VSG-1117       1       2       0       1       2       0       0   \n",
       "\n",
       "                        C5      C9  \n",
       "Geneid                              \n",
       "gene_Tb427VSG-3039   35395   32517  \n",
       "gene_Tb427VSG-23    315900  490074  \n",
       "gene_Tb427VSG-649     2369    2581  \n",
       "gene_Tb427VSG-22      7985    8579  \n",
       "gene_Tb427VSG-1117       0       0  "
      ]
     },
     "execution_count": 31,
     "metadata": {},
     "output_type": "execute_result"
    }
   ],
   "source": [
    "indata.head()"
   ]
  },
  {
   "cell_type": "markdown",
   "metadata": {},
   "source": [
    "## QC - MSD"
   ]
  },
  {
   "cell_type": "code",
   "execution_count": 32,
   "metadata": {},
   "outputs": [
    {
     "name": "stdout",
     "output_type": "stream",
     "text": [
      "{'r': 'A', 'b': 'B', 'y': 'C'}\n"
     ]
    },
    {
     "data": {
      "image/png": "[encoded data removed]",
      "text/plain": [
       "<Figure size 576x576 with 1 Axes>"
      ]
     },
     "metadata": {},
     "output_type": "display_data"
    }
   ],
   "source": [
    "plt.style.use('ggplot')\n",
    "palette = ['r']*3+['b']*3+['y']*3\n",
    "fig,ax = plt.subplots(figsize=(8,8), ncols=1, nrows=1)\n",
    "UT.make_mds(np.log2(indata),palette,ax,color_dictionary={'r':'A','b':'B','y':'C'\n",
    "                                                        })\n",
    "plt.savefig('Figures_927/Figure_3.png')\n",
    "plt.show()"
   ]
  },
  {
   "cell_type": "markdown",
   "metadata": {},
   "source": [
    "## Compute Length and GC content\n",
    "this information is used to check for length and GC bias"
   ]
  },
  {
   "cell_type": "code",
   "execution_count": 33,
   "metadata": {},
   "outputs": [],
   "source": [
    "!mkdir -p InData"
   ]
  },
  {
   "cell_type": "code",
   "execution_count": 34,
   "metadata": {},
   "outputs": [],
   "source": [
    "!cp genomes/tb927_55/tb927_55.gtf .\n",
    "!cp genomes/tb927_55/tb927_55.fa .\n",
    "!cp genomes/tb927_55/tb927_55.fa.fai .\n",
    "\n",
    "!gtf2bed < tb927_55.gtf > tb927_55.bed\n",
    "!bedtools nuc -fi tb927_55.fa -bed tb927_55.bed >InData/GC_content_927.txt"
   ]
  },
  {
   "cell_type": "code",
   "execution_count": 35,
   "metadata": {},
   "outputs": [],
   "source": [
    "#!bowtie2-build genomes/tb927_5/tb927_5.fa genomes/tb927_5/tb927_5"
   ]
  },
  {
   "cell_type": "code",
   "execution_count": 36,
   "metadata": {},
   "outputs": [],
   "source": [
    "def get_gene_ids(n):\n",
    "    res = {}\n",
    "    temp = n.split(';')\n",
    "    temp =[n.strip() for n in temp if len(n)>2]\n",
    "    temp = temp[:2]\n",
    "    #print(temp)\n",
    "    for f in temp:\n",
    "        key = f.split(' ')[0]\n",
    "        value = f.split(' ')[1]\n",
    "        key=key.replace('\\\"','').replace('\\'','').strip()\n",
    "        value=value.replace('\\\"','').replace('\\'','').strip()\n",
    "        res[key]=value\n",
    "    return res['gene_id']"
   ]
  },
  {
   "cell_type": "code",
   "execution_count": 37,
   "metadata": {},
   "outputs": [
    {
     "name": "stdout",
     "output_type": "stream",
     "text": [
      "                   #1_usercol  2_usercol  3_usercol      4_usercol 5_usercol  \\\n",
      "0                     11L3_v3      23857      29262   Tb07.11L3.90         .   \n",
      "4                     11L3_v3      30223      48500  Tb07.11L3.100         .   \n",
      "7                    5K5_v5.1          2         97    Tb05.5K5.10         .   \n",
      "9                    5K5_v5.1        149       2405    Tb05.5K5.20         .   \n",
      "12                   5K5_v5.1       3299       7701    Tb05.5K5.30         .   \n",
      "...                       ...        ...        ...            ...       ...   \n",
      "36761      tryp_XI-974h12.q1k       2573       7214      Tb11.1750         .   \n",
      "36764      tryp_XI-974h12.q1k       7277       9272      Tb11.1760         .   \n",
      "36767      tryp_XI-974h12.q1k       9336      14445      Tb11.1770         .   \n",
      "36769  tryp_XI-976e03.p2kA567      14511      17218      Tb11.1800         .   \n",
      "36773      tryp_XI-983f02.p1k      12277      13042      Tb11.1810         .   \n",
      "\n",
      "      6_usercol  7_usercol 8_usercol 9_usercol  \\\n",
      "0             -  VEuPathDB      exon         .   \n",
      "4             -  VEuPathDB      exon         .   \n",
      "7             -  VEuPathDB      exon         .   \n",
      "9             -  VEuPathDB      exon         .   \n",
      "12            -  VEuPathDB      exon         .   \n",
      "...         ...        ...       ...       ...   \n",
      "36761         +  VEuPathDB      exon         .   \n",
      "36764         +  VEuPathDB      exon         .   \n",
      "36767         +  VEuPathDB      exon         .   \n",
      "36769         -  VEuPathDB      exon         .   \n",
      "36773         -  VEuPathDB      exon         .   \n",
      "\n",
      "                                              10_usercol  11_pct_at  \\\n",
      "0      transcript_id \"Tb07.11L3.90:mRNA\"; gene_id \"Tb...   0.641258   \n",
      "4      transcript_id \"Tb07.11L3.100:mRNA\"; gene_id \"T...   0.547081   \n",
      "7      transcript_id \"Tb05.5K5.10:mRNA\"; gene_id \"Tb0...   0.600000   \n",
      "9      transcript_id \"Tb05.5K5.20:mRNA\"; gene_id \"Tb0...   0.566933   \n",
      "12     transcript_id \"Tb05.5K5.30:mRNA\"; gene_id \"Tb0...   0.593594   \n",
      "...                                                  ...        ...   \n",
      "36761  transcript_id \"Tb11.1750.1\"; gene_id \"Tb11.1750\";   0.608705   \n",
      "36764  transcript_id \"Tb11.1760:mRNA\"; gene_id \"Tb11....   0.603509   \n",
      "36767  transcript_id \"Tb11.1770:mRNA\"; gene_id \"Tb11....   0.607360   \n",
      "36769  transcript_id \"Tb11.1800:pseudogenic_transcrip...   0.622830   \n",
      "36773  transcript_id \"Tb11.1810.1\"; gene_id \"Tb11.1810\";   0.567320   \n",
      "\n",
      "       12_pct_gc  13_num_A  14_num_C  15_num_G  16_num_T  17_num_N  \\\n",
      "0       0.358742      1701      1084       855      1765         0   \n",
      "4       0.452919      4716      4475      3803      5283         0   \n",
      "7       0.400000        31        21        17        26         0   \n",
      "9       0.433067       769       492       485       510         0   \n",
      "12      0.406406      1159      1026       763      1454         0   \n",
      "...          ...       ...       ...       ...       ...       ...   \n",
      "36761   0.391295      1527      1030       786      1298         0   \n",
      "36764   0.396491       649       451       340       555         0   \n",
      "36767   0.392640      1675      1130       876      1428         0   \n",
      "36769   0.377170       847       612       409       839         0   \n",
      "36773   0.432680       208       188       143       226         0   \n",
      "\n",
      "       18_num_oth  19_seq_len  \n",
      "0               0        5405  \n",
      "4               0       18277  \n",
      "7               0          95  \n",
      "9               0        2256  \n",
      "12              0        4402  \n",
      "...           ...         ...  \n",
      "36761           0        4641  \n",
      "36764           0        1995  \n",
      "36767           0        5109  \n",
      "36769           0        2707  \n",
      "36773           0         765  \n",
      "\n",
      "[12862 rows x 19 columns]\n"
     ]
    },
    {
     "data": {
      "text/plain": [
       "length       1893.000000\n",
       "gccontent       0.436873\n",
       "Name: gene-Tb427.BES40.14, dtype: float64"
      ]
     },
     "execution_count": 37,
     "metadata": {},
     "output_type": "execute_result"
    }
   ],
   "source": [
    "gc_content = pd.read_csv('InData/GC_content_927.txt',sep='\\t')\n",
    "gc_content = gc_content[gc_content['8_usercol']=='exon']\n",
    "print(gc_content)\n",
    "gc_content['gene_id'] = [get_gene_ids(n) for n in gc_content['10_usercol']]\n",
    "gc_content = gc_content.drop_duplicates('gene_id')\n",
    "gc_content.set_index('gene_id',inplace=True)\n",
    "gc_content=gc_content[['19_seq_len','12_pct_gc']]\n",
    "gc_content.columns = ['length', 'gccontent']\n",
    "gc_content.loc['gene-Tb427.BES40.14']"
   ]
  },
  {
   "cell_type": "code",
   "execution_count": 38,
   "metadata": {},
   "outputs": [],
   "source": [
    "#indata.head()\n",
    "#indata.astype(int).to_csv('indata_427.csv',index=True)\n",
    "#'E3KC','b':'E3KT','y':'E3SD','g':'P'"
   ]
  },
  {
   "cell_type": "code",
   "execution_count": 39,
   "metadata": {},
   "outputs": [],
   "source": [
    "#metadata=pd.DataFrame()\n",
    "#metadata['samples']=indata.columns\n",
    "#metadata['treatment']=['E3KC','E3KC','E3KC','E3KT','E3KT','E3KT',\n",
    " #                     'E3SD','E3SD','E3SD','P','P','P']\n",
    "#metadata['batch']=1\n",
    "#metadata.reset_index().to_csv('metadata.csv')"
   ]
  },
  {
   "cell_type": "code",
   "execution_count": 40,
   "metadata": {},
   "outputs": [
    {
     "name": "stdout",
     "output_type": "stream",
     "text": [
      "(11359, 9)\n"
     ]
    },
    {
     "data": {
      "text/plain": [
       "(11317, 9)"
      ]
     },
     "execution_count": 40,
     "metadata": {},
     "output_type": "execute_result"
    }
   ],
   "source": [
    "print(indata.shape)\n",
    "indata=indata.join(gc_content,how='inner')\n",
    "gc_content = gc_content[['length', 'gccontent']]\n",
    "indata.drop(['length', 'gccontent'],axis=1,inplace=True) \n",
    "indata.shape"
   ]
  },
  {
   "cell_type": "markdown",
   "metadata": {},
   "source": [
    "### edgeR to filter low counts"
   ]
  },
  {
   "cell_type": "code",
   "execution_count": 41,
   "metadata": {},
   "outputs": [
    {
     "name": "stdout",
     "output_type": "stream",
     "text": [
      "                     A25    A5    A9   B25    B5    B9   C25    C5    C9\n",
      "gene-Tb427.BES40.1  1241  1613  1564  1245  1479  1875  1536  1501  1716\n",
      "gene-Tb427.BES40.2 25244 22253 16687 25677 23192 17098 26209 25043 16396\n",
      "gene-Tb427.BES40.3 29462 26596 19183 30312 27289 19641 31505 29189 18610\n",
      "gene-Tb427.BES40.4 19586 18109 18406 20382 19809 20028 19404 18798 19476\n",
      "gene-Tb427.BES40.5 25206 21486 23702 23183 25897 19265 19330 26118 18241\n",
      "gene-Tb427.BES40.6  2956  3163  2816  3089  3029  2838  2982  2728  3038\n"
     ]
    }
   ],
   "source": [
    "%%R -i indata\n",
    "options(warn=-1)\n",
    "library(\"limma\") \n",
    "library(\"edgeR\")\n",
    "head(indata)"
   ]
  },
  {
   "cell_type": "code",
   "execution_count": 45,
   "metadata": {},
   "outputs": [
    {
     "name": "stdout",
     "output_type": "stream",
     "text": [
      "(11317, 9)\n"
     ]
    },
    {
     "data": {
      "text/plain": [
       "Index(['A25', 'A5', 'A9', 'B25', 'B5', 'B9', 'C25', 'C5', 'C9'], dtype='object')"
      ]
     },
     "execution_count": 45,
     "metadata": {},
     "output_type": "execute_result"
    }
   ],
   "source": [
    "print(indata.shape)\n",
    "indata.columns"
   ]
  },
  {
   "cell_type": "code",
   "execution_count": 43,
   "metadata": {},
   "outputs": [],
   "source": [
    "%%R\n",
    "group <- factor(c(\n",
    "    'A25', 'A5', 'A9', 'B25', 'B5', 'B9', 'C25', 'C5', 'C9'\n",
    "))\n",
    "\n",
    "y <- DGEList(counts=indata,group=group)\n",
    "keep <- filterByExpr(y,min.count = 10, min.total.count = 80)\n",
    "y <- y[keep,,keep.lib.sizes=FALSE]\n",
    "counts = y$counts\n",
    "genes = row.names(y)"
   ]
  },
  {
   "cell_type": "code",
   "execution_count": 46,
   "metadata": {},
   "outputs": [
    {
     "data": {
      "text/plain": [
       "(9604, 9)"
      ]
     },
     "execution_count": 46,
     "metadata": {},
     "output_type": "execute_result"
    }
   ],
   "source": [
    "%R -o counts,genes\n",
    "indata = pd.DataFrame(counts,index=genes,columns=indata.columns)\n",
    "indata.shape"
   ]
  },
  {
   "cell_type": "code",
   "execution_count": null,
   "metadata": {},
   "outputs": [],
   "source": []
  },
  {
   "cell_type": "code",
   "execution_count": 47,
   "metadata": {},
   "outputs": [
    {
     "data": {
      "text/plain": [
       "(9604, 11)"
      ]
     },
     "execution_count": 47,
     "metadata": {},
     "output_type": "execute_result"
    }
   ],
   "source": [
    "indata=indata.join(gc_content,how='inner')\n",
    "indata.shape"
   ]
  },
  {
   "cell_type": "markdown",
   "metadata": {},
   "source": [
    "### GC / length content"
   ]
  },
  {
   "cell_type": "code",
   "execution_count": 48,
   "metadata": {},
   "outputs": [
    {
     "name": "stdout",
     "output_type": "stream",
     "text": [
      "(9604, 9) (9604, 2)\n"
     ]
    },
    {
     "data": {
      "text/html": [
       "<div>\n",
       "<style scoped>\n",
       "    .dataframe tbody tr th:only-of-type {\n",
       "        vertical-align: middle;\n",
       "    }\n",
       "\n",
       "    .dataframe tbody tr th {\n",
       "        vertical-align: top;\n",
       "    }\n",
       "\n",
       "    .dataframe thead th {\n",
       "        text-align: right;\n",
       "    }\n",
       "</style>\n",
       "<table border=\"1\" class=\"dataframe\">\n",
       "  <thead>\n",
       "    <tr style=\"text-align: right;\">\n",
       "      <th></th>\n",
       "      <th>A25</th>\n",
       "      <th>A5</th>\n",
       "      <th>A9</th>\n",
       "      <th>B25</th>\n",
       "      <th>B5</th>\n",
       "      <th>B9</th>\n",
       "      <th>C25</th>\n",
       "      <th>C5</th>\n",
       "      <th>C9</th>\n",
       "    </tr>\n",
       "  </thead>\n",
       "  <tbody>\n",
       "    <tr>\n",
       "      <th>gene-Tb427.BES40.1</th>\n",
       "      <td>1241</td>\n",
       "      <td>1613</td>\n",
       "      <td>1564</td>\n",
       "      <td>1245</td>\n",
       "      <td>1479</td>\n",
       "      <td>1875</td>\n",
       "      <td>1536</td>\n",
       "      <td>1501</td>\n",
       "      <td>1716</td>\n",
       "    </tr>\n",
       "    <tr>\n",
       "      <th>gene-Tb427.BES40.2</th>\n",
       "      <td>25244</td>\n",
       "      <td>22253</td>\n",
       "      <td>16687</td>\n",
       "      <td>25677</td>\n",
       "      <td>23192</td>\n",
       "      <td>17098</td>\n",
       "      <td>26209</td>\n",
       "      <td>25043</td>\n",
       "      <td>16396</td>\n",
       "    </tr>\n",
       "    <tr>\n",
       "      <th>gene-Tb427.BES40.3</th>\n",
       "      <td>29462</td>\n",
       "      <td>26596</td>\n",
       "      <td>19183</td>\n",
       "      <td>30312</td>\n",
       "      <td>27289</td>\n",
       "      <td>19641</td>\n",
       "      <td>31505</td>\n",
       "      <td>29189</td>\n",
       "      <td>18610</td>\n",
       "    </tr>\n",
       "    <tr>\n",
       "      <th>gene-Tb427.BES40.4</th>\n",
       "      <td>19586</td>\n",
       "      <td>18109</td>\n",
       "      <td>18406</td>\n",
       "      <td>20382</td>\n",
       "      <td>19809</td>\n",
       "      <td>20028</td>\n",
       "      <td>19404</td>\n",
       "      <td>18798</td>\n",
       "      <td>19476</td>\n",
       "    </tr>\n",
       "    <tr>\n",
       "      <th>gene-Tb427.BES40.5</th>\n",
       "      <td>25206</td>\n",
       "      <td>21486</td>\n",
       "      <td>23702</td>\n",
       "      <td>23183</td>\n",
       "      <td>25897</td>\n",
       "      <td>19265</td>\n",
       "      <td>19330</td>\n",
       "      <td>26118</td>\n",
       "      <td>18241</td>\n",
       "    </tr>\n",
       "  </tbody>\n",
       "</table>\n",
       "</div>"
      ],
      "text/plain": [
       "                      A25     A5     A9    B25     B5     B9    C25     C5  \\\n",
       "gene-Tb427.BES40.1   1241   1613   1564   1245   1479   1875   1536   1501   \n",
       "gene-Tb427.BES40.2  25244  22253  16687  25677  23192  17098  26209  25043   \n",
       "gene-Tb427.BES40.3  29462  26596  19183  30312  27289  19641  31505  29189   \n",
       "gene-Tb427.BES40.4  19586  18109  18406  20382  19809  20028  19404  18798   \n",
       "gene-Tb427.BES40.5  25206  21486  23702  23183  25897  19265  19330  26118   \n",
       "\n",
       "                       C9  \n",
       "gene-Tb427.BES40.1   1716  \n",
       "gene-Tb427.BES40.2  16396  \n",
       "gene-Tb427.BES40.3  18610  \n",
       "gene-Tb427.BES40.4  19476  \n",
       "gene-Tb427.BES40.5  18241  "
      ]
     },
     "execution_count": 48,
     "metadata": {},
     "output_type": "execute_result"
    }
   ],
   "source": [
    "gc_content = indata[['length', 'gccontent']]\n",
    "indata.drop(['length', 'gccontent'],axis=1,inplace=True)\n",
    "print(indata.shape,gc_content.shape)\n",
    "indata.head()"
   ]
  },
  {
   "cell_type": "markdown",
   "metadata": {},
   "source": [
    "### size factors"
   ]
  },
  {
   "cell_type": "code",
   "execution_count": 49,
   "metadata": {},
   "outputs": [
    {
     "data": {
      "text/plain": [
       "array([25122151, 25594298, 25280636, 25596609, 25126155, 26169662,\n",
       "       26172617, 24847331, 25938552])"
      ]
     },
     "execution_count": 49,
     "metadata": {},
     "output_type": "execute_result"
    }
   ],
   "source": [
    "sizeFactors=indata.sum()\n",
    "sizeFactors = sizeFactors.values\n",
    "sizeFactors"
   ]
  },
  {
   "cell_type": "code",
   "execution_count": 50,
   "metadata": {},
   "outputs": [],
   "source": [
    "#np.log2(gc_content['length']/1000).plot(kind='hist')"
   ]
  },
  {
   "cell_type": "markdown",
   "metadata": {},
   "source": [
    "### Bias Correction"
   ]
  },
  {
   "cell_type": "code",
   "execution_count": 52,
   "metadata": {},
   "outputs": [],
   "source": [
    "%%R -i gc_content,indata,sizeFactors\n",
    "library(cqn)\n",
    "library(scales)"
   ]
  },
  {
   "cell_type": "code",
   "execution_count": 53,
   "metadata": {},
   "outputs": [
    {
     "name": "stdout",
     "output_type": "stream",
     "text": [
      "RQ fit .........\n",
      "SQN .\n"
     ]
    }
   ],
   "source": [
    "%%R\n",
    "stopifnot(all(rownames(indata) == rownames(gc_content)))\n",
    "cqn.subset <- cqn(indata, lengths = gc_content$length,\n",
    "                  x = gc_content$gccontent, sizeFactors = sizeFactors,\n",
    "                  verbose = TRUE)"
   ]
  },
  {
   "cell_type": "code",
   "execution_count": 54,
   "metadata": {},
   "outputs": [],
   "source": [
    "#%R cqn.subset"
   ]
  },
  {
   "cell_type": "markdown",
   "metadata": {},
   "source": [
    "### Viz Bias"
   ]
  },
  {
   "cell_type": "code",
   "execution_count": 56,
   "metadata": {},
   "outputs": [
    {
     "data": {
      "image/png": "[encoded data removed]"
     },
     "metadata": {},
     "output_type": "display_data"
    }
   ],
   "source": [
    "%%R\n",
    "cqnplot <- function(x, n = 1, col = \"grey60\", ylab=\"estimated bias effect\", \n",
    "                    xlab = \"\", type = \"l\", lty = 1, ...) {\n",
    "    if(class(x) != \"cqn\")\n",
    "        stop(\"'x' needs to be of class 'cqn'\")\n",
    "    if(n == 1) {\n",
    "        func <- x$func1\n",
    "        grid <- x$grid1\n",
    "        knots <- x$knots1\n",
    "    }\n",
    "    if(n == 2) {\n",
    "        if(is.null(x$func2))\n",
    "            stop(\"argument 'x' does not appear to have two smooth functions (component 'func2' is NULL)\")\n",
    "        func <- x$func2\n",
    "        grid <- x$grid2\n",
    "        knots <- x$knots2\n",
    "    }\n",
    "    \n",
    "    \n",
    "    #par(mar=c(5.1, 4.1, 4.1, 8.1), xpd=TRUE)\n",
    "    matplot(replicate(ncol(func), grid), func, ylab = ylab, xlab = xlab, type = type,\n",
    "            col = col, lty = lty, ...)\n",
    "    \n",
    "    legend(\"bottomleft\", legend = colnames(x$counts), inset=c(1,0),\n",
    "           title=\"Samples\", lty = lty, col = col)\n",
    "    rug(knots, lwd = 2)\n",
    "    invisible(x)\n",
    "    \n",
    "}\n",
    "\n",
    "\n",
    "library(repr)\n",
    "#options(repr.plot.width = 10, repr.plot.height = 0.75)\n",
    "# Change plot size to 4 x 3\n",
    "#options(repr.plot.width=4, repr.plot.height=3)\n",
    "\n",
    "\n",
    "colors <- c(\n",
    "    'red','red','red',\n",
    "    'blue','blue','blue',\n",
    "    'yellow','yellow','yellow'\n",
    ")\n",
    "lty =c(1,1,1,\n",
    "       1,1,1,\n",
    "      1,1,1\n",
    "\n",
    "      )\n",
    "\n",
    "#png(\"Figures/Figure_12.png\")\n",
    "#par(mfrow=c(1,2))\n",
    "cqnplot(cqn.subset, col=colors,\n",
    "        n = 1, xlab = \"GC content\", lty = lty,\n",
    "        ylim = c(0, 7), \n",
    "        \n",
    "       )\n",
    "#dev.off()\n",
    "\n",
    "#ggsave('plot.png', width=8.27, height= 11.69) #A4 size in inches\n",
    "#dev.off()"
   ]
  },
  {
   "cell_type": "code",
   "execution_count": 57,
   "metadata": {},
   "outputs": [
    {
     "data": {
      "image/png": "[encoded data removed]"
     },
     "metadata": {},
     "output_type": "display_data"
    }
   ],
   "source": [
    "%%R\n",
    "library(repr)\n",
    "#options(repr.plot.width = 12, repr.plot.height = 0.75)\n",
    "# Change plot size to 4 x 3\n",
    "#options(repr.plot.width=8, repr.plot.height=3)\n",
    "\n",
    "\n",
    "colors <- c(\n",
    "    'red','red','red',\n",
    "    'blue','blue','blue',\n",
    "    'yellow','yellow','yellow'\n",
    ")\n",
    "lty =c(1,1,1,\n",
    "       1,1,1,\n",
    "      1,1,1\n",
    "\n",
    "      )\n",
    "\n",
    "#par(mfrow=c(1,2))\n",
    "#png(\"Figures/Figure_13.png\")\n",
    "cqnplot(cqn.subset, col=colors,\n",
    "        n = 2, xlab = \"length\", lty = lty,\n",
    "        ylim = c(0,8), \n",
    "    \n",
    "       )\n",
    "#dev.off()"
   ]
  },
  {
   "cell_type": "markdown",
   "metadata": {},
   "source": [
    "### Bias Correction"
   ]
  },
  {
   "cell_type": "code",
   "execution_count": 58,
   "metadata": {},
   "outputs": [
    {
     "name": "stdout",
     "output_type": "stream",
     "text": [
      "                         A25        A5        A9       B25        B5        B9\n",
      "gene-Tb427.BES40.1  6.350010  6.553567  6.639943  6.297056  6.551557  6.848249\n",
      "gene-Tb427.BES40.2 11.197895 10.913637 10.589694 11.080855 10.913637 10.647449\n",
      "gene-Tb427.BES40.3 11.054428 10.892622 10.535865 11.004362 10.892622 10.548986\n",
      "gene-Tb427.BES40.4 10.261617 10.172619 10.139384 10.271036 10.309778 10.271036\n",
      "gene-Tb427.BES40.5 11.855725 11.698542 11.772027 11.855725 11.855725 11.698542\n",
      "gene-Tb427.BES40.6  8.912608  9.072925  8.891549  8.975012  8.942098  8.955716\n",
      "                         C25        C5        C9\n",
      "gene-Tb427.BES40.1  6.532981  6.575449  6.728016\n",
      "gene-Tb427.BES40.2 11.197895 11.028954 10.575893\n",
      "gene-Tb427.BES40.3 11.166724 10.980588 10.510247\n",
      "gene-Tb427.BES40.4 10.233956 10.207144 10.233956\n",
      "gene-Tb427.BES40.5 11.855725 11.855725 11.698542\n",
      "gene-Tb427.BES40.6  9.005906  8.776193  9.017319\n"
     ]
    }
   ],
   "source": [
    "%%R\n",
    "RPKM.cqn <- cqn.subset$y + cqn.subset$offset\n",
    "out_table <- RPKM.cqn\n",
    "head(out_table)"
   ]
  },
  {
   "cell_type": "code",
   "execution_count": 59,
   "metadata": {},
   "outputs": [],
   "source": [
    "#out_table"
   ]
  },
  {
   "cell_type": "code",
   "execution_count": 60,
   "metadata": {},
   "outputs": [
    {
     "data": {
      "text/html": [
       "<div>\n",
       "<style scoped>\n",
       "    .dataframe tbody tr th:only-of-type {\n",
       "        vertical-align: middle;\n",
       "    }\n",
       "\n",
       "    .dataframe tbody tr th {\n",
       "        vertical-align: top;\n",
       "    }\n",
       "\n",
       "    .dataframe thead th {\n",
       "        text-align: right;\n",
       "    }\n",
       "</style>\n",
       "<table border=\"1\" class=\"dataframe\">\n",
       "  <thead>\n",
       "    <tr style=\"text-align: right;\">\n",
       "      <th></th>\n",
       "      <th>A25</th>\n",
       "      <th>A5</th>\n",
       "      <th>A9</th>\n",
       "      <th>B25</th>\n",
       "      <th>B5</th>\n",
       "      <th>B9</th>\n",
       "      <th>C25</th>\n",
       "      <th>C5</th>\n",
       "      <th>C9</th>\n",
       "    </tr>\n",
       "  </thead>\n",
       "  <tbody>\n",
       "    <tr>\n",
       "      <th>gene-Tb427.BES40.1</th>\n",
       "      <td>6.350010</td>\n",
       "      <td>6.553567</td>\n",
       "      <td>6.639943</td>\n",
       "      <td>6.297056</td>\n",
       "      <td>6.551557</td>\n",
       "      <td>6.848249</td>\n",
       "      <td>6.532981</td>\n",
       "      <td>6.575449</td>\n",
       "      <td>6.728016</td>\n",
       "    </tr>\n",
       "    <tr>\n",
       "      <th>gene-Tb427.BES40.2</th>\n",
       "      <td>11.197895</td>\n",
       "      <td>10.913637</td>\n",
       "      <td>10.589694</td>\n",
       "      <td>11.080855</td>\n",
       "      <td>10.913637</td>\n",
       "      <td>10.647449</td>\n",
       "      <td>11.197895</td>\n",
       "      <td>11.028954</td>\n",
       "      <td>10.575893</td>\n",
       "    </tr>\n",
       "    <tr>\n",
       "      <th>gene-Tb427.BES40.3</th>\n",
       "      <td>11.054428</td>\n",
       "      <td>10.892622</td>\n",
       "      <td>10.535865</td>\n",
       "      <td>11.004362</td>\n",
       "      <td>10.892622</td>\n",
       "      <td>10.548986</td>\n",
       "      <td>11.166724</td>\n",
       "      <td>10.980588</td>\n",
       "      <td>10.510247</td>\n",
       "    </tr>\n",
       "    <tr>\n",
       "      <th>gene-Tb427.BES40.4</th>\n",
       "      <td>10.261617</td>\n",
       "      <td>10.172619</td>\n",
       "      <td>10.139384</td>\n",
       "      <td>10.271036</td>\n",
       "      <td>10.309778</td>\n",
       "      <td>10.271036</td>\n",
       "      <td>10.233956</td>\n",
       "      <td>10.207144</td>\n",
       "      <td>10.233956</td>\n",
       "    </tr>\n",
       "    <tr>\n",
       "      <th>gene-Tb427.BES40.5</th>\n",
       "      <td>11.855725</td>\n",
       "      <td>11.698542</td>\n",
       "      <td>11.772027</td>\n",
       "      <td>11.855725</td>\n",
       "      <td>11.855725</td>\n",
       "      <td>11.698542</td>\n",
       "      <td>11.855725</td>\n",
       "      <td>11.855725</td>\n",
       "      <td>11.698542</td>\n",
       "    </tr>\n",
       "  </tbody>\n",
       "</table>\n",
       "</div>"
      ],
      "text/plain": [
       "                          A25         A5         A9        B25         B5  \\\n",
       "gene-Tb427.BES40.1   6.350010   6.553567   6.639943   6.297056   6.551557   \n",
       "gene-Tb427.BES40.2  11.197895  10.913637  10.589694  11.080855  10.913637   \n",
       "gene-Tb427.BES40.3  11.054428  10.892622  10.535865  11.004362  10.892622   \n",
       "gene-Tb427.BES40.4  10.261617  10.172619  10.139384  10.271036  10.309778   \n",
       "gene-Tb427.BES40.5  11.855725  11.698542  11.772027  11.855725  11.855725   \n",
       "\n",
       "                           B9        C25         C5         C9  \n",
       "gene-Tb427.BES40.1   6.848249   6.532981   6.575449   6.728016  \n",
       "gene-Tb427.BES40.2  10.647449  11.197895  11.028954  10.575893  \n",
       "gene-Tb427.BES40.3  10.548986  11.166724  10.980588  10.510247  \n",
       "gene-Tb427.BES40.4  10.271036  10.233956  10.207144  10.233956  \n",
       "gene-Tb427.BES40.5  11.698542  11.855725  11.855725  11.698542  "
      ]
     },
     "execution_count": 60,
     "metadata": {},
     "output_type": "execute_result"
    }
   ],
   "source": [
    "%R -o out_table\n",
    "out_table = pd.DataFrame(out_table,index=indata.index.values,columns=indata.columns)\n",
    "out_table.head()"
   ]
  },
  {
   "cell_type": "code",
   "execution_count": 61,
   "metadata": {},
   "outputs": [
    {
     "data": {
      "text/html": [
       "<div>\n",
       "<style scoped>\n",
       "    .dataframe tbody tr th:only-of-type {\n",
       "        vertical-align: middle;\n",
       "    }\n",
       "\n",
       "    .dataframe tbody tr th {\n",
       "        vertical-align: top;\n",
       "    }\n",
       "\n",
       "    .dataframe thead th {\n",
       "        text-align: right;\n",
       "    }\n",
       "</style>\n",
       "<table border=\"1\" class=\"dataframe\">\n",
       "  <thead>\n",
       "    <tr style=\"text-align: right;\">\n",
       "      <th></th>\n",
       "      <th>A25</th>\n",
       "      <th>A5</th>\n",
       "      <th>A9</th>\n",
       "      <th>B25</th>\n",
       "      <th>B5</th>\n",
       "      <th>B9</th>\n",
       "      <th>C25</th>\n",
       "      <th>C5</th>\n",
       "      <th>C9</th>\n",
       "    </tr>\n",
       "  </thead>\n",
       "  <tbody>\n",
       "    <tr>\n",
       "      <th>gene-Tb427.BES40.1</th>\n",
       "      <td>6.350010</td>\n",
       "      <td>6.553567</td>\n",
       "      <td>6.639943</td>\n",
       "      <td>6.297056</td>\n",
       "      <td>6.551557</td>\n",
       "      <td>6.848249</td>\n",
       "      <td>6.532981</td>\n",
       "      <td>6.575449</td>\n",
       "      <td>6.728016</td>\n",
       "    </tr>\n",
       "    <tr>\n",
       "      <th>gene-Tb427.BES40.2</th>\n",
       "      <td>11.197895</td>\n",
       "      <td>10.913637</td>\n",
       "      <td>10.589694</td>\n",
       "      <td>11.080855</td>\n",
       "      <td>10.913637</td>\n",
       "      <td>10.647449</td>\n",
       "      <td>11.197895</td>\n",
       "      <td>11.028954</td>\n",
       "      <td>10.575893</td>\n",
       "    </tr>\n",
       "    <tr>\n",
       "      <th>gene-Tb427.BES40.3</th>\n",
       "      <td>11.054428</td>\n",
       "      <td>10.892622</td>\n",
       "      <td>10.535865</td>\n",
       "      <td>11.004362</td>\n",
       "      <td>10.892622</td>\n",
       "      <td>10.548986</td>\n",
       "      <td>11.166724</td>\n",
       "      <td>10.980588</td>\n",
       "      <td>10.510247</td>\n",
       "    </tr>\n",
       "    <tr>\n",
       "      <th>gene-Tb427.BES40.4</th>\n",
       "      <td>10.261617</td>\n",
       "      <td>10.172619</td>\n",
       "      <td>10.139384</td>\n",
       "      <td>10.271036</td>\n",
       "      <td>10.309778</td>\n",
       "      <td>10.271036</td>\n",
       "      <td>10.233956</td>\n",
       "      <td>10.207144</td>\n",
       "      <td>10.233956</td>\n",
       "    </tr>\n",
       "    <tr>\n",
       "      <th>gene-Tb427.BES40.5</th>\n",
       "      <td>11.855725</td>\n",
       "      <td>11.698542</td>\n",
       "      <td>11.772027</td>\n",
       "      <td>11.855725</td>\n",
       "      <td>11.855725</td>\n",
       "      <td>11.698542</td>\n",
       "      <td>11.855725</td>\n",
       "      <td>11.855725</td>\n",
       "      <td>11.698542</td>\n",
       "    </tr>\n",
       "    <tr>\n",
       "      <th>...</th>\n",
       "      <td>...</td>\n",
       "      <td>...</td>\n",
       "      <td>...</td>\n",
       "      <td>...</td>\n",
       "      <td>...</td>\n",
       "      <td>...</td>\n",
       "      <td>...</td>\n",
       "      <td>...</td>\n",
       "      <td>...</td>\n",
       "    </tr>\n",
       "    <tr>\n",
       "      <th>Tb09.v4.0202</th>\n",
       "      <td>0.267215</td>\n",
       "      <td>0.550912</td>\n",
       "      <td>1.415622</td>\n",
       "      <td>0.267215</td>\n",
       "      <td>1.554972</td>\n",
       "      <td>-0.052848</td>\n",
       "      <td>-0.324635</td>\n",
       "      <td>1.038302</td>\n",
       "      <td>0.625319</td>\n",
       "    </tr>\n",
       "    <tr>\n",
       "      <th>Tb07.11L3.90</th>\n",
       "      <td>7.067177</td>\n",
       "      <td>7.207021</td>\n",
       "      <td>7.036434</td>\n",
       "      <td>7.136956</td>\n",
       "      <td>7.076955</td>\n",
       "      <td>7.254277</td>\n",
       "      <td>7.418831</td>\n",
       "      <td>6.747628</td>\n",
       "      <td>7.170852</td>\n",
       "    </tr>\n",
       "    <tr>\n",
       "      <th>Tb07.11L3.100</th>\n",
       "      <td>5.254706</td>\n",
       "      <td>5.482009</td>\n",
       "      <td>5.160641</td>\n",
       "      <td>5.266109</td>\n",
       "      <td>5.346416</td>\n",
       "      <td>5.218958</td>\n",
       "      <td>5.180826</td>\n",
       "      <td>5.274337</td>\n",
       "      <td>5.074366</td>\n",
       "    </tr>\n",
       "    <tr>\n",
       "      <th>Tb10.v4.0130</th>\n",
       "      <td>1.249394</td>\n",
       "      <td>-1.345721</td>\n",
       "      <td>-0.460458</td>\n",
       "      <td>0.754615</td>\n",
       "      <td>-0.324635</td>\n",
       "      <td>0.130765</td>\n",
       "      <td>0.625319</td>\n",
       "      <td>-0.324635</td>\n",
       "      <td>0.468290</td>\n",
       "    </tr>\n",
       "    <tr>\n",
       "      <th>Tb10.v4.0053</th>\n",
       "      <td>7.149544</td>\n",
       "      <td>7.086574</td>\n",
       "      <td>7.018916</td>\n",
       "      <td>7.111543</td>\n",
       "      <td>7.086102</td>\n",
       "      <td>6.959612</td>\n",
       "      <td>7.050066</td>\n",
       "      <td>6.944738</td>\n",
       "      <td>7.038411</td>\n",
       "    </tr>\n",
       "  </tbody>\n",
       "</table>\n",
       "<p>9604 rows × 9 columns</p>\n",
       "</div>"
      ],
      "text/plain": [
       "                          A25         A5         A9        B25         B5  \\\n",
       "gene-Tb427.BES40.1   6.350010   6.553567   6.639943   6.297056   6.551557   \n",
       "gene-Tb427.BES40.2  11.197895  10.913637  10.589694  11.080855  10.913637   \n",
       "gene-Tb427.BES40.3  11.054428  10.892622  10.535865  11.004362  10.892622   \n",
       "gene-Tb427.BES40.4  10.261617  10.172619  10.139384  10.271036  10.309778   \n",
       "gene-Tb427.BES40.5  11.855725  11.698542  11.772027  11.855725  11.855725   \n",
       "...                       ...        ...        ...        ...        ...   \n",
       "Tb09.v4.0202         0.267215   0.550912   1.415622   0.267215   1.554972   \n",
       "Tb07.11L3.90         7.067177   7.207021   7.036434   7.136956   7.076955   \n",
       "Tb07.11L3.100        5.254706   5.482009   5.160641   5.266109   5.346416   \n",
       "Tb10.v4.0130         1.249394  -1.345721  -0.460458   0.754615  -0.324635   \n",
       "Tb10.v4.0053         7.149544   7.086574   7.018916   7.111543   7.086102   \n",
       "\n",
       "                           B9        C25         C5         C9  \n",
       "gene-Tb427.BES40.1   6.848249   6.532981   6.575449   6.728016  \n",
       "gene-Tb427.BES40.2  10.647449  11.197895  11.028954  10.575893  \n",
       "gene-Tb427.BES40.3  10.548986  11.166724  10.980588  10.510247  \n",
       "gene-Tb427.BES40.4  10.271036  10.233956  10.207144  10.233956  \n",
       "gene-Tb427.BES40.5  11.698542  11.855725  11.855725  11.698542  \n",
       "...                       ...        ...        ...        ...  \n",
       "Tb09.v4.0202        -0.052848  -0.324635   1.038302   0.625319  \n",
       "Tb07.11L3.90         7.254277   7.418831   6.747628   7.170852  \n",
       "Tb07.11L3.100        5.218958   5.180826   5.274337   5.074366  \n",
       "Tb10.v4.0130         0.130765   0.625319  -0.324635   0.468290  \n",
       "Tb10.v4.0053         6.959612   7.050066   6.944738   7.038411  \n",
       "\n",
       "[9604 rows x 9 columns]"
      ]
     },
     "execution_count": 61,
     "metadata": {},
     "output_type": "execute_result"
    }
   ],
   "source": [
    "out_table.to_csv('RPKM_douglas.csv')\n",
    "out_table"
   ]
  }
 ],
 "metadata": {
  "finalized": {
   "timestamp": 1614171078027,
   "trusted": true
  },
  "kernelspec": {
   "display_name": "Python 3.7.3 ('ritSeq')",
   "language": "python",
   "name": "python373jvsc74a57bd0c55fcd7d92c9afcf88dd23d6cf1b7db6df3ffd2e507e553d66f6a2b786e07362"
  },
  "language_info": {
   "codemirror_mode": {
    "name": "ipython",
    "version": 3
   },
   "file_extension": ".py",
   "mimetype": "text/x-python",
   "name": "python",
   "nbconvert_exporter": "python",
   "pygments_lexer": "ipython3",
   "version": "3.7.3"
  },
  "toc": {
   "base_numbering": 1,
   "nav_menu": {},
   "number_sections": true,
   "sideBar": true,
   "skip_h1_title": false,
   "title_cell": "Table of Contents",
   "title_sidebar": "Contents",
   "toc_cell": false,
   "toc_position": {},
   "toc_section_display": true,
   "toc_window_display": true
  }
 },
 "nbformat": 4,
 "nbformat_minor": 4
}
